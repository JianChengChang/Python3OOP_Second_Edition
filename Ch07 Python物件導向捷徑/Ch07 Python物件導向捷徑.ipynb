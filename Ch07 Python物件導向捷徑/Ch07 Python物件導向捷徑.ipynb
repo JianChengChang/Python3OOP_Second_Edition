{
 "cells": [
  {
   "cell_type": "markdown",
   "metadata": {},
   "source": [
    "比起物件導向  \n",
    "Python 在許多方面更像是結構化或函式性程式設計語言  \n",
    "使用 Python 時  \n",
    "大部分工具已是底層物件導向實作的語法糖  \n",
    "我們在這一章會討論 Python 中非嚴格的物件導向特質  \n",
    "* 以一個呼叫處理常見任務的內建函式\n",
    "* 檔案 I/O 與背景處理\n",
    "* 另一種方法過載\n",
    "* 函式做為物件"
   ]
  },
  {
   "cell_type": "markdown",
   "metadata": {},
   "source": [
    "# Python 內建函式\n",
    "---\n",
    "Python 中有許多函式對特定物件型別執行任務或計算結果  \n",
    "但並非是底層物件上的方法  \n",
    "  \n",
    "他們通常是可套用於多種類別的抽象通用計算  \n",
    "這是一種鴨子型別  \n",
    "這些函式有特定屬性或方法的物件並能夠使用這些含是執行共通操作  \n",
    "他們有許多但非全部都是雙底線方法  \n",
    "來快速討論幾個重要的函式"
   ]
  },
  {
   "cell_type": "markdown",
   "metadata": {},
   "source": [
    "## `len()`\n",
    "---\n",
    "用來計算字典或清單中物件的數量"
   ]
  },
  {
   "cell_type": "code",
   "execution_count": 1,
   "metadata": {},
   "outputs": [
    {
     "data": {
      "text/plain": [
       "4"
      ]
     },
     "execution_count": 1,
     "metadata": {},
     "output_type": "execute_result"
    }
   ],
   "source": [
    "len([1,2,3,4])"
   ]
  },
  {
   "cell_type": "markdown",
   "metadata": {},
   "source": [
    "這些物件其實有 `__len__()` 方法來計算數量"
   ]
  },
  {
   "cell_type": "code",
   "execution_count": 2,
   "metadata": {},
   "outputs": [
    {
     "data": {
      "text/plain": [
       "4"
      ]
     },
     "execution_count": 2,
     "metadata": {},
     "output_type": "execute_result"
    }
   ],
   "source": [
    "[1,2,3,4].__len__()"
   ]
  },
  {
   "cell_type": "markdown",
   "metadata": {},
   "source": [
    "那為什麼我們要用 `len()` 呢  \n",
    "很明顯的 `__len__()` 是個特殊的雙底線方法  \n",
    "建議不要直接呼叫他  \n",
    "    \n",
    "主要原因在於效率  \n",
    "當我們呼叫物件的 `__len()__` 時  \n",
    "物件必須在他的命名空間中查詢方法  \n",
    "如果物件有定義特殊的 `__getattribute__` 方法  \n",
    "他就會被呼叫，或是拒絕存取  \n",
    "而 `len()` 不會遇到這種情況  \n",
    "他實際上是呼叫底層類別 `__len__`  \n",
    "因此 `len(myobj) = MyObj.__len__(myobj)`  \n",
    "\n",
    "另一個原因在於效率  \n",
    "若 Python 開發者未來想改變 `len()`  \n",
    "讓他可以逐個計算沒有 `__len__` 的物件長度  \n",
    "只需要改變 `len()` 就好而不用改變所有的 `__len__`"
   ]
  },
  {
   "cell_type": "markdown",
   "metadata": {},
   "source": [
    "## 反轉\n",
    "---\n",
    "`reversed()` 將任何順序的輸入回傳一份反向順序的輸出  \n",
    "類似於 `len`  \n",
    "`reversed()` 呼叫類別上的 `__reversed__()`  \n",
    "如果不存在這個方法  \n",
    "會自行使用 `__len__` 和 `__getitem__` 來建構反向順序"
   ]
  },
  {
   "cell_type": "code",
   "execution_count": 3,
   "metadata": {},
   "outputs": [
    {
     "name": "stdout",
     "output_type": "stream",
     "text": [
      "\n",
      "list: 5, 4, 3, 2, 1, \n",
      "CustomSequence: x4, x3, x2, x1, x0, \n",
      "FunkyBackwards: B, A, C, K, W, A, R, D, S, !, "
     ]
    }
   ],
   "source": [
    "normal_list = [1,2,3,4,5]\n",
    "\n",
    "class CustomSequence():\n",
    "    def __len__(self):\n",
    "        return 5\n",
    "    def __getitem__(self, index):\n",
    "        return f'x{index}'\n",
    "\n",
    "class FunkyBackwards():\n",
    "    def __reversed__(self):\n",
    "        return \"BACKWARDS!\"\n",
    "\n",
    "for seq in normal_list, CustomSequence(), FunkyBackwards():\n",
    "    print(f\"\\n{seq.__class__.__name__}: \", end = \"\")\n",
    "    for item in reversed(seq):\n",
    "        print(item, end= \", \")\n",
    "\n"
   ]
  },
  {
   "cell_type": "markdown",
   "metadata": {},
   "source": [
    "## 列舉\n",
    "---\n",
    "`for` 迴圈不提供索引 (index)  \n",
    "不過 `enumerate` 可以"
   ]
  },
  {
   "cell_type": "code",
   "execution_count": null,
   "metadata": {},
   "outputs": [],
   "source": [
    "import sys\n",
    "filename = sys.argv[1]\n",
    "\n",
    "with open(filename) as file:\n",
    "    for index, line in enumerate(file):\n",
    "        print(f'{index+1}: {line}')\n"
   ]
  },
  {
   "cell_type": "markdown",
   "metadata": {},
   "source": [
    "如果將上述指令碼變成一個文件檔丟進終端機中  \n",
    "會呈現如下結果  \n",
    "  \n",
    "1: import sys  \n",
    "2: filename = sys.argv[1]  \n",
    "3:   \n",
    "4: with open(filename) as file:  \n",
    "5: for index, line in enumerate(file):  \n",
    "6: print(f'{index+1}: {line}')  "
   ]
  },
  {
   "cell_type": "markdown",
   "metadata": {},
   "source": [
    "還有很多常用的標準函式庫  \n",
    "* `all()`  \n",
    "* `any()`  \n",
    "* `eval()`\n",
    "* `exec()`\n",
    "* `compile()`\n",
    "* `hasattr()`\n",
    "* `getattr()`\n",
    "* `setattr()`\n",
    "* `delattr()`\n",
    "* `zip()`"
   ]
  },
  {
   "cell_type": "markdown",
   "metadata": {},
   "source": [
    "## 檔案 I/O\n",
    "---\n",
    "內建的 `open()` 用於開啟檔案並回傳檔案物件  \n",
    "當然  \n",
    "我們不總是只有讀取檔案  \n",
    "也要開啟檔案寫入  \n",
    "`open()` 的第二個參數 `mode` 傳入 `w`"
   ]
  },
  {
   "cell_type": "code",
   "execution_count": 5,
   "metadata": {},
   "outputs": [],
   "source": [
    "contents = \"some file contents\"\n",
    "file = open(\"filename\", 'w')\n",
    "file.write(contents)\n",
    "file.close()"
   ]
  },
  {
   "cell_type": "markdown",
   "metadata": {},
   "source": [
    "在 `open()` 中也可以提供 `a` 給 `mode`  \n",
    "可將內容新增在原有內容後面  \n",
    "  \n",
    "要開啟二進位檔  \n",
    "則在 `mode` 傳入的參數後面加上 `b`   \n",
    "例如 `wb` 則是寫入二進位  \n",
    "`rb` 則是讀取二進位  \n",
    "  \n",
    "檔案開啟供讀取之後  \n",
    "可以呼叫 `read`、`readline`、`readlines` 方法來取得檔案內容  \n",
    "`read` 可以指定一次要讀取多少位元組  \n",
    "`readline` 則是一行一行讀取  \n",
    "`readlines` 則是全部讀取並以清單顯示"
   ]
  },
  {
   "cell_type": "markdown",
   "metadata": {},
   "source": [
    "## 置入背景\n",
    "---\n",
    "在任何 I/O 都有可能拋出例外  \n",
    "對每個 I/O 都要寫上 `try...finally` 很不python  \n",
    "如果我們對檔案物件執行 `dir`\n",
    "我們會看到他有 `__enter__` 和 `__exit__` 這兩個特殊方法  \n",
    "這些方法讓檔案物件轉換成**背景管理員(context manager)**  \n",
    "使用 `with` 呼叫時  \n",
    "這些方法會在被套疊程式碼執行的前後呼叫  \n",
    "也確保檔案就算有例外出現時也會被關閉  "
   ]
  },
  {
   "cell_type": "code",
   "execution_count": 6,
   "metadata": {},
   "outputs": [
    {
     "name": "stdout",
     "output_type": "stream",
     "text": [
      "some file contents"
     ]
    }
   ],
   "source": [
    "with open('filename') as file:\n",
    "    for line in file:\n",
    "        print(line, end='')"
   ]
  },
  {
   "cell_type": "markdown",
   "metadata": {},
   "source": [
    "我們也能自定義 `__enter__` 和 `__exit__` 的行為  \n"
   ]
  },
  {
   "cell_type": "code",
   "execution_count": 7,
   "metadata": {},
   "outputs": [
    {
     "name": "stdout",
     "output_type": "stream",
     "text": [
      "jaFFpRwdNMjgfFo\n"
     ]
    }
   ],
   "source": [
    "class StringJoiner(list):\n",
    "    def __enter__(self):\n",
    "        return self\n",
    "    \n",
    "    def __exit__(self, type, value, tb):\n",
    "        self.result = \"\".join(self)\n",
    "\n",
    "import random, string\n",
    "with StringJoiner() as joiner:\n",
    "    for i in range(15):\n",
    "        joiner.append(random.choice(string.ascii_letters))\n",
    "\n",
    "print(joiner.result)"
   ]
  },
  {
   "cell_type": "markdown",
   "metadata": {},
   "source": [
    "此程式建構 15 個隨機字元組成的字串  \n",
    "繼承自 `list` 使用 `append` 方法將字元插入到 `StringJoiner` 中  \n",
    "當 `with` 的縮排結束  \n",
    "`__exit__` 被呼叫  \n",
    "此時物件的 `result` 屬性就緒  "
   ]
  },
  {
   "cell_type": "markdown",
   "metadata": {},
   "source": [
    "# 方法過載替代方案\n",
    "---"
   ]
  },
  {
   "cell_type": "markdown",
   "metadata": {},
   "source": [
    "## 預設參數\n",
    "---\n",
    "我們可以使用等號在單一方法中指派預設值  \n",
    "且預設值一定要放在沒有預設值的參數的後面"
   ]
  },
  {
   "cell_type": "code",
   "execution_count": 8,
   "metadata": {},
   "outputs": [],
   "source": [
    "def default_arguments(x, y, z, a='some string', b=False):\n",
    "    pass"
   ]
  },
  {
   "cell_type": "markdown",
   "metadata": {},
   "source": [
    "前三個參數還是必須由呼叫方傳入  \n",
    "我們可以依序傳入參數  \n",
    "也可以只傳入前三個  \n",
    "也可以利用等號混合排列傳入參數  "
   ]
  },
  {
   "cell_type": "markdown",
   "metadata": {},
   "source": [
    "使用關鍵字參數要注意的一件事是我們所提供的預測參數在函式被解譯是會先求值  \n",
    "並非等到呼叫時"
   ]
  },
  {
   "cell_type": "code",
   "execution_count": 9,
   "metadata": {},
   "outputs": [
    {
     "name": "stdout",
     "output_type": "stream",
     "text": [
      "8\n",
      "5\n",
      "6\n"
     ]
    }
   ],
   "source": [
    "number = 5\n",
    "def funky_function(number=number):\n",
    "    print(number)\n",
    "\n",
    "number = 6\n",
    "funky_function(8)\n",
    "funky_function()\n",
    "print(number)"
   ]
  },
  {
   "cell_type": "markdown",
   "metadata": {},
   "source": [
    "上述第 6 行確實把 8 帶進函式中  \n",
    "第 7 行則沒有因為 number 代入 6 而輸出 6  \n",
    "而是輸出早先定義的 5  \n",
    "這邊要特別注意  \n",
    "  \n",
    "當參數為清單集合字典時也會有意想不到的結果"
   ]
  },
  {
   "cell_type": "code",
   "execution_count": 10,
   "metadata": {},
   "outputs": [],
   "source": [
    "def hello(b=[]):\n",
    "    b.append('a')\n",
    "    print(b)"
   ]
  },
  {
   "cell_type": "code",
   "execution_count": 11,
   "metadata": {},
   "outputs": [
    {
     "name": "stdout",
     "output_type": "stream",
     "text": [
      "['a']\n"
     ]
    }
   ],
   "source": [
    "hello()"
   ]
  },
  {
   "cell_type": "code",
   "execution_count": 12,
   "metadata": {},
   "outputs": [
    {
     "name": "stdout",
     "output_type": "stream",
     "text": [
      "['a', 'a']\n"
     ]
    }
   ],
   "source": [
    "hello()"
   ]
  },
  {
   "cell_type": "markdown",
   "metadata": {},
   "source": [
    "第二次呼叫 `hello()` 居然不是先創建一個空清單再插入 a  "
   ]
  },
  {
   "cell_type": "markdown",
   "metadata": {},
   "source": [
    "## 變數參數清單\n",
    "---\n",
    "光靠預設值不能完全享受方法過載的好處  \n",
    "讓 Python 真正棒的是  \n",
    "在不用明確的命名下，就能夠撰寫接受不定數量的位置或關鍵字參數"
   ]
  },
  {
   "cell_type": "code",
   "execution_count": 13,
   "metadata": {},
   "outputs": [
    {
     "name": "stdout",
     "output_type": "stream",
     "text": [
      "http://www.archlinux.org\n",
      "http://www.archlinux.org\n",
      "http://ccphillips.net/\n"
     ]
    }
   ],
   "source": [
    "def get_pages(*links):\n",
    "    for link in links:\n",
    "        # 使用urllib下載連結\n",
    "        print(link)\n",
    "\n",
    "get_pages()\n",
    "get_pages('http://www.archlinux.org')\n",
    "get_pages('http://www.archlinux.org','http://ccphillips.net/')"
   ]
  },
  {
   "cell_type": "markdown",
   "metadata": {},
   "source": [
    "Python 也可以接受不定量的關鍵字參數  \n",
    "他們會在函式中成為字典"
   ]
  },
  {
   "cell_type": "code",
   "execution_count": 14,
   "metadata": {},
   "outputs": [
    {
     "name": "stdout",
     "output_type": "stream",
     "text": [
      "True\n",
      "21\n",
      "dusty\n"
     ]
    }
   ],
   "source": [
    "class Options:\n",
    "    default_options = {\n",
    "        'port': 21,\n",
    "        'host': 'localhost',\n",
    "        'username': None,\n",
    "        'password': None,\n",
    "        'debug': False,\n",
    "    }\n",
    "    \n",
    "    def __init__(self, **kwargs):\n",
    "        self.options = dict(Options.default_options)\n",
    "        self.options.update(kwargs)\n",
    "    \n",
    "    def __getitem__(self, key):\n",
    "        return self.options[key]\n",
    "\n",
    "options = Options(username = \"dusty\", password=\"drowssap\", debug=True)\n",
    "print(options['debug'])\n",
    "print(options['port'])\n",
    "print(options['username'])"
   ]
  },
  {
   "cell_type": "markdown",
   "metadata": {},
   "source": [
    "關鍵字參數有可能打破〝明確比隱含好〞的規則  \n",
    "在前面的例子中  \n",
    "使用者可隨意增加參數到 Options 初始化程序中  \n",
    "雖然不是什麼壞事  \n",
    "但有可能讓使用此類別的人很難發現有哪些選項可用  \n",
    "也很容易打錯字造成應該只有一個選項卻出現兩個(例如 debug 與 Debug)"
   ]
  },
  {
   "cell_type": "code",
   "execution_count": 15,
   "metadata": {},
   "outputs": [],
   "source": [
    "import shutil\n",
    "import os.path\n",
    "\n",
    "def augmented_move(target_folder, *filenames, verbose=False, **specific):\n",
    "    '''\n",
    "    將所有檔名移入 target_folder 已執行特定處理\n",
    "    '''\n",
    "    def print_verbose(message, filename):\n",
    "        '''僅於verbose = True 時輸出訊息'''\n",
    "        if verbose:\n",
    "            print(message.format(filename))\n",
    "    \n",
    "    for filename in filenames:\n",
    "        target_path = os.path.join(target_folder, filename)\n",
    "        if filename in specific:\n",
    "            if specific[filename] == 'ignore':\n",
    "                print_verbose(f\"Ingoring {filename}\")\n",
    "            elif specific[filename] == 'copy':\n",
    "                print_verbose(f'Copying {filename}')\n",
    "                shutil.copyfile(filename, target_path)\n",
    "        else:\n",
    "            print_verbose(f'Moving {filename}')\n",
    "            shutil.move(filename, target_path)"
   ]
  },
  {
   "cell_type": "markdown",
   "metadata": {},
   "source": [
    "## 展開參數\n",
    "---\n",
    "還有一個技巧涉及變數參數與關鍵字參數"
   ]
  },
  {
   "cell_type": "code",
   "execution_count": 16,
   "metadata": {},
   "outputs": [
    {
     "name": "stdout",
     "output_type": "stream",
     "text": [
      "Unpacking a sequence:  0 1 2\n",
      "Unpacking a dict:  ONE TWO three\n"
     ]
    }
   ],
   "source": [
    "def show_args(arg1, arg2, arg3=\"three\"):\n",
    "    print(arg1, arg2, arg3)\n",
    "\n",
    "some_args = range(3)\n",
    "more_args = {\n",
    "    \"arg1\": \"ONE\",\n",
    "    \"arg2\": \"TWO\",\n",
    "}\n",
    "\n",
    "print(\"Unpacking a sequence: \", end=\" \")\n",
    "show_args(*some_args)\n",
    "\n",
    "print(\"Unpacking a dict: \", end= \" \")\n",
    "show_args(**more_args)"
   ]
  },
  {
   "cell_type": "markdown",
   "metadata": {},
   "source": [
    "此函式接受三個變數，其中一個為預設值  \n",
    "當我們有三個參數的清單時  \n",
    "可以使用 * 運算元將其展開成三個參數丟進函式中  \n",
    "如果我們有參數字典，可以使用 ** 語法將其展開作為關鍵字參數的集合  "
   ]
  },
  {
   "cell_type": "markdown",
   "metadata": {},
   "source": [
    "# 函式也是物件\n",
    "---\n",
    "在Python中  \n",
    "我們可以設置函式的屬性(這不是常見的動作)  \n",
    "可以傳遞他們並於之後呼叫"
   ]
  },
  {
   "cell_type": "code",
   "execution_count": 18,
   "metadata": {},
   "outputs": [
    {
     "name": "stdout",
     "output_type": "stream",
     "text": [
      "The description: A silly function\n",
      "The name: my_function\n",
      "The class: <class 'function'>\n",
      "Now I'll call the function passed in\n",
      "The Function Was Called\n",
      "-------------------------------------\n",
      "The description: A sillier function\n",
      "The name: second_function\n",
      "The class: <class 'function'>\n",
      "Now I'll call the function passed in\n",
      "The second was called\n",
      "-------------------------------------\n"
     ]
    }
   ],
   "source": [
    "def my_function():\n",
    "    print(\"The Function Was Called\")\n",
    "my_function.description = \"A silly function\"\n",
    "\n",
    "def second_function():\n",
    "    print(\"The second was called\")\n",
    "second_function.description = \"A sillier function\"\n",
    "\n",
    "def another_function(function):\n",
    "    print(f\"The description: {function.description}\")\n",
    "    print(f\"The name: {function.__name__}\")\n",
    "    print(f\"The class: {function.__class__}\")\n",
    "    print(\"Now I'll call the function passed in\")\n",
    "    function()\n",
    "    print(\"-------------------------------------\")\n",
    "\n",
    "another_function(my_function)\n",
    "another_function(second_function)\n",
    "\n",
    "\n",
    "\n",
    "\n"
   ]
  },
  {
   "cell_type": "markdown",
   "metadata": {},
   "source": [
    "## 使用函式作為屬性\n",
    "---\n",
    "函式作為物件其中最有意思的效果是他們可以被設定成其他物件上的可呼叫屬性"
   ]
  },
  {
   "cell_type": "code",
   "execution_count": 19,
   "metadata": {},
   "outputs": [
    {
     "name": "stdout",
     "output_type": "stream",
     "text": [
      "my class is A\n",
      "my class in not A\n"
     ]
    }
   ],
   "source": [
    "class A:\n",
    "    def print(self):\n",
    "        print(\"my class is A\")\n",
    "    \n",
    "def fake_print():\n",
    "    print(\"my class in not A\")\n",
    "\n",
    "a = A()\n",
    "a.print()\n",
    "a.print = fake_print\n",
    "a.print()\n"
   ]
  }
 ],
 "metadata": {
  "interpreter": {
   "hash": "45539b59eebab2005aa4fedb9a515f3794869189fd737dea53041ed0fca9d17e"
  },
  "kernelspec": {
   "display_name": "Python 3.7.9 64-bit ('python3_oop': venv)",
   "name": "python3"
  },
  "language_info": {
   "codemirror_mode": {
    "name": "ipython",
    "version": 3
   },
   "file_extension": ".py",
   "mimetype": "text/x-python",
   "name": "python",
   "nbconvert_exporter": "python",
   "pygments_lexer": "ipython3",
   "version": "3.7.9"
  },
  "orig_nbformat": 4
 },
 "nbformat": 4,
 "nbformat_minor": 2
}
