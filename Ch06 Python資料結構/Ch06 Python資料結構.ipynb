{
 "cells": [
  {
   "cell_type": "markdown",
   "source": [
    "這章節來討論以下主題\r\n",
    "* 資料組與具名資料組\r\n",
    "* 字典\r\n",
    "* 清單與組\r\n",
    "* 如何與為何擴充內建物件\r\n",
    "* 三種佇列"
   ],
   "metadata": {}
  },
  {
   "cell_type": "markdown",
   "source": [
    "# 空物件\r\n",
    "---\r\n",
    "讓我們從最基本的  \r\n",
    "在前面章節看過許多次的  \r\n",
    "曾經建構不少物件類別的 Object 開始  "
   ],
   "metadata": {}
  },
  {
   "cell_type": "code",
   "execution_count": 3,
   "source": [
    "o = object()\r\n",
    "o.x = 5"
   ],
   "outputs": [
    {
     "output_type": "error",
     "ename": "AttributeError",
     "evalue": "'object' object has no attribute 'x'",
     "traceback": [
      "\u001b[1;31m---------------------------------------------------------------------------\u001b[0m",
      "\u001b[1;31mAttributeError\u001b[0m                            Traceback (most recent call last)",
      "\u001b[1;32m~\\AppData\\Local\\Temp/ipykernel_15996/435887459.py\u001b[0m in \u001b[0;36m<module>\u001b[1;34m\u001b[0m\n\u001b[0;32m      1\u001b[0m \u001b[0mo\u001b[0m \u001b[1;33m=\u001b[0m \u001b[0mobject\u001b[0m\u001b[1;33m(\u001b[0m\u001b[1;33m)\u001b[0m\u001b[1;33m\u001b[0m\u001b[1;33m\u001b[0m\u001b[0m\n\u001b[1;32m----> 2\u001b[1;33m \u001b[0mo\u001b[0m\u001b[1;33m.\u001b[0m\u001b[0mx\u001b[0m \u001b[1;33m=\u001b[0m \u001b[1;36m5\u001b[0m\u001b[1;33m\u001b[0m\u001b[1;33m\u001b[0m\u001b[0m\n\u001b[0m",
      "\u001b[1;31mAttributeError\u001b[0m: 'object' object has no attribute 'x'"
     ]
    }
   ],
   "metadata": {}
  },
  {
   "cell_type": "markdown",
   "source": [
    "發現 object 物件並不能給予或初始化任何屬性  \r\n",
    "這是 Python 預設的  \r\n",
    "這麼做的目的是為了節省記憶體  \r\n",
    "Python 允許物件具有含糊的屬性  \r\n",
    "也需要一定數量的記憶體來紀錄每個物件有什麼屬性、屬性名稱與屬性的值  \r\n",
    "  \r\n",
    "假如 程式設計師 想要在自己創造的 class 物件中限制不得隨意創造屬性  \r\n",
    "可以參考 `__slot__` 魔法\r\n"
   ],
   "metadata": {}
  },
  {
   "cell_type": "markdown",
   "source": [
    "# 資料組與具名資料組\r\n",
    "---\r\n",
    "資料組 tuple  \r\n",
    "資料組是可以依序儲存特定數量其他東西的物件  \r\n",
    "他是不可變的  \r\n",
    "我們不能在其身上新增、刪除或替換  \r\n",
    "資料組不可變的特性的主要好處是我們可以用它做為字典的鍵(key)或其他需要有雜湊(hash)的地方  "
   ],
   "metadata": {}
  },
  {
   "cell_type": "code",
   "execution_count": 6,
   "source": [
    "# 建立資料組 tuple\r\n",
    "stock = 'FB', 75.00, 75.03, 74.90\r\n",
    "stock2 = ('FB', 75.00, 75.03, 74.90)\r\n",
    "\r\n",
    "# 以上兩個方法都是建立 tuple\r\n",
    "# 個人強烈建議 使用下方有括弧的\r\n",
    "# 因為要將資料組用於其他物件中的話，括弧是必要的，不然直譯器不知道她是 tuple 還是參數"
   ],
   "outputs": [],
   "metadata": {}
  },
  {
   "cell_type": "markdown",
   "source": [
    "我們也可以用 slice 方法來讀取 tuple 內的資料"
   ],
   "metadata": {}
  },
  {
   "cell_type": "code",
   "execution_count": 7,
   "source": [
    "stock[1:3]"
   ],
   "outputs": [
    {
     "output_type": "execute_result",
     "data": {
      "text/plain": [
       "(75.0, 75.03)"
      ]
     },
     "metadata": {},
     "execution_count": 7
    }
   ],
   "metadata": {}
  },
  {
   "cell_type": "markdown",
   "source": [
    "這個範例同時展現了 tuple 的彈性與缺點   \r\n",
    "那就是不可讀  \r\n",
    "若程式上沒有註解或文件    \r\n",
    "其他人不會知道 index 1, 2 存的是什麼資料   \r\n",
    "我們來看看下一節 具名 tuple 的功用   "
   ],
   "metadata": {}
  },
  {
   "cell_type": "markdown",
   "source": [
    "# 具名資料組\r\n",
    "---\r\n",
    "顧名思義  \r\n",
    "就是給 tuple 的每個 index 賦予變數名稱  \r\n",
    "方便描述這個資料組裡存的是什麼資料  "
   ],
   "metadata": {}
  },
  {
   "cell_type": "code",
   "execution_count": 13,
   "source": [
    "from collections import namedtuple\r\n",
    "Stock = namedtuple(\"Stock\",\"symbol, current, high, low\")\r\n",
    "stock = Stock(\"FB\", 75.00, high=75.03, low=74.90)"
   ],
   "outputs": [],
   "metadata": {}
  },
  {
   "cell_type": "markdown",
   "source": [
    "namedtuple 接受兩個參數  \r\n",
    "第一個是 具名資料組 的名稱  \r\n",
    "第二個是 具名資料組的 屬性字串"
   ],
   "metadata": {}
  },
  {
   "cell_type": "code",
   "execution_count": 12,
   "source": [
    "print(stock)\r\n",
    "print(stock.high)\r\n",
    "symbol, current, high, low = stock\r\n",
    "print(current)"
   ],
   "outputs": [
    {
     "output_type": "stream",
     "name": "stdout",
     "text": [
      "Stock(symbol='FB', current=75.0, high=75.03, low=74.9)\n",
      "75.03\n",
      "75.0\n"
     ]
    }
   ],
   "metadata": {}
  },
  {
   "cell_type": "markdown",
   "source": [
    "# 字典\r\n",
    "---\r\n",
    "字典是很有用的容器  \r\n",
    "能讓程式設計師直接將 物件 或 值 對應到 其他物件 或 其他值 上\r\n",
    "   \r\n",
    "字典對於以特定鍵物件(key)來查詢對應的值是非常有效率的  \r\n",
    "字典可使用 dict() 或 {} 來建構\r\n",
    "\r\n"
   ],
   "metadata": {}
  },
  {
   "cell_type": "code",
   "execution_count": 15,
   "source": [
    "stocks = {\r\n",
    "    \"GOOG\": (613.30, 625.86, 610.50),\r\n",
    "    \"MSFT\": (30.25, 30.70, 30.19)\r\n",
    "}\r\n",
    "\r\n",
    "print(stocks[\"GOOG\"])\r\n",
    "print(stocks[\"RIM\"])"
   ],
   "outputs": [
    {
     "output_type": "stream",
     "name": "stdout",
     "text": [
      "(613.3, 625.86, 610.5)\n"
     ]
    },
    {
     "output_type": "error",
     "ename": "KeyError",
     "evalue": "'RIM'",
     "traceback": [
      "\u001b[1;31m---------------------------------------------------------------------------\u001b[0m",
      "\u001b[1;31mKeyError\u001b[0m                                  Traceback (most recent call last)",
      "\u001b[1;32m~\\AppData\\Local\\Temp/ipykernel_15996/2687983408.py\u001b[0m in \u001b[0;36m<module>\u001b[1;34m\u001b[0m\n\u001b[0;32m      5\u001b[0m \u001b[1;33m\u001b[0m\u001b[0m\n\u001b[0;32m      6\u001b[0m \u001b[0mprint\u001b[0m\u001b[1;33m(\u001b[0m\u001b[0mstocks\u001b[0m\u001b[1;33m[\u001b[0m\u001b[1;34m\"GOOG\"\u001b[0m\u001b[1;33m]\u001b[0m\u001b[1;33m)\u001b[0m\u001b[1;33m\u001b[0m\u001b[1;33m\u001b[0m\u001b[0m\n\u001b[1;32m----> 7\u001b[1;33m \u001b[0mprint\u001b[0m\u001b[1;33m(\u001b[0m\u001b[0mstocks\u001b[0m\u001b[1;33m[\u001b[0m\u001b[1;34m\"RIM\"\u001b[0m\u001b[1;33m]\u001b[0m\u001b[1;33m)\u001b[0m\u001b[1;33m\u001b[0m\u001b[1;33m\u001b[0m\u001b[0m\n\u001b[0m",
      "\u001b[1;31mKeyError\u001b[0m: 'RIM'"
     ]
    }
   ],
   "metadata": {}
  },
  {
   "cell_type": "markdown",
   "source": [
    "如果鍵不在字典裡  \r\n",
    "則會拋出錯誤(例外)  \r\n",
    "我可以用 `get` 方法來處理"
   ],
   "metadata": {}
  },
  {
   "cell_type": "code",
   "execution_count": 17,
   "source": [
    "try:\r\n",
    "    print(stocks[\"GOOG\"])\r\n",
    "    print(stocks[\"RIM\"])\r\n",
    "except Exception as e:\r\n",
    "    print(stocks.get(\"RIM\",\"NOT FOUND\"))"
   ],
   "outputs": [
    {
     "output_type": "stream",
     "name": "stdout",
     "text": [
      "(613.3, 625.86, 610.5)\n",
      "NOT FOUND\n"
     ]
    }
   ],
   "metadata": {}
  },
  {
   "cell_type": "markdown",
   "source": [
    "更進一步  \r\n",
    "可以用 `setdefault` 方法  \r\n",
    "如果鍵在字典中  \r\n",
    "則會回傳在字典中儲存的值  \r\n",
    "若鍵不在字典中  \r\n",
    "則會在字典中 建立一個鍵 並對應到與我們在 setdefault 方法中所給定的值參數  "
   ],
   "metadata": {}
  },
  {
   "cell_type": "code",
   "execution_count": 18,
   "source": [
    "print(stocks.setdefault(\"GOOG\",\"invalid\")) #會回傳GOOG的資料\r\n",
    "print(stocks.setdefault(\"BBRY\",(10.50, 10.62, 10.39))) #字典中沒有BBRY，建立一個BBRY並對應到(10.50, 10.62, 10.39)"
   ],
   "outputs": [
    {
     "output_type": "stream",
     "name": "stdout",
     "text": [
      "(613.3, 625.86, 610.5)\n",
      "(10.5, 10.62, 10.39)\n"
     ]
    }
   ],
   "metadata": {}
  },
  {
   "cell_type": "markdown",
   "source": [
    "另外三個非常有用的方法是  \r\n",
    "`keys()`, `values()` 與 `items()`  \r\n",
    "`keys()`會回傳字典裡所有的 鍵  \r\n",
    "`values()`會回傳字典裡所有的 值  \r\n",
    "`items()`則會回傳每個`(key, value)`"
   ],
   "metadata": {}
  },
  {
   "cell_type": "code",
   "execution_count": 22,
   "source": [
    "print(stocks.items())\r\n",
    "for stock, values in stocks.items():\r\n",
    "    print(f'{stock} last value is {values[0]}')"
   ],
   "outputs": [
    {
     "output_type": "stream",
     "name": "stdout",
     "text": [
      "dict_items([('GOOG', (613.3, 625.86, 610.5)), ('MSFT', (30.25, 30.7, 30.19)), ('BBRY', (10.5, 10.62, 10.39))])\n",
      "GOOG last value is 613.3\n",
      "MSFT last value is 30.25\n",
      "BBRY last value is 10.5\n"
     ]
    }
   ],
   "metadata": {}
  },
  {
   "cell_type": "markdown",
   "source": [
    "要更新字典裡某個鍵(key)的值時(value)  \r\n",
    "如下作法  \r\n",
    "只要直接賦予新的值給該 鍵   \r\n",
    "就行了"
   ],
   "metadata": {}
  },
  {
   "cell_type": "code",
   "execution_count": 24,
   "source": [
    "stocks['GOOG'] = (597.63, 610.00, 596.28)\r\n",
    "stocks['GOOG']"
   ],
   "outputs": [
    {
     "output_type": "execute_result",
     "data": {
      "text/plain": [
       "(597.63, 610.0, 596.28)"
      ]
     },
     "metadata": {},
     "execution_count": 24
    }
   ],
   "metadata": {}
  },
  {
   "cell_type": "markdown",
   "source": [
    "字串是常用的鍵  \r\n",
    "不過我們也可以使用tuple、數字、自訂物件作為字典的鍵"
   ],
   "metadata": {}
  },
  {
   "cell_type": "code",
   "execution_count": 25,
   "source": [
    "random_keys = {}\r\n",
    "random_keys[\"astring\"] = \"something\"\r\n",
    "random_keys[5] = \"aninteger\"\r\n",
    "random_keys[25.2] = \"floats work, too\"\r\n",
    "random_keys[(\"abc\",123)] = \"So do tuple\"\r\n",
    "\r\n",
    "class AnObject:\r\n",
    "    def __init__(self,avalue) -> None:\r\n",
    "        self.avalue = avalue\r\n",
    "\r\n",
    "my_object = AnObject(14)\r\n",
    "random_keys[my_object] = \"We can even store objects\"\r\n",
    "my_object.avalue = 12\r\n",
    "try:\r\n",
    "    random_keys[[1,2,3]] = \"we can't store lists though\"\r\n",
    "except Exception as e:\r\n",
    "    print(\"unable to store list\\n\")\r\n",
    "\r\n",
    "for key, value in random_keys.items():\r\n",
    "    print(f\"{key} has value {value}\")"
   ],
   "outputs": [
    {
     "output_type": "stream",
     "name": "stdout",
     "text": [
      "unable to store list\n",
      "\n",
      "astring has value something\n",
      "5 has value aninteger\n",
      "25.2 has value floats work, too\n",
      "('abc', 123) has value So do tuple\n",
      "<__main__.AnObject object at 0x00000263AF857508> has value We can even store objects\n"
     ]
    }
   ],
   "metadata": {}
  },
  {
   "cell_type": "markdown",
   "source": [
    "# 字典使用案例\r\n",
    "---\r\n",
    "字典的變化非常且有無數用途  \r\n",
    "他有兩種主要使用方式  \r\n",
    "首先是以鍵代表相似物件的不同實例的字典; 例如股票字典  \r\n",
    "  \r\n",
    "第二種設計是每個鍵代表單一結構的某種面向字典\r\n",
    "(這部分完全看不懂書在寫什麼呵呵)"
   ],
   "metadata": {}
  },
  {
   "cell_type": "markdown",
   "source": [
    "# 使用 defaultdict\r\n",
    "---\r\n",
    "我們已經看過如何使用 `setdefault` 來設定不存在的鍵的預設值  \r\n",
    "但若每次在查詢必須設定預設值會有點無聊  \r\n",
    "如果我們要撰寫計算一個句子中字母出現的程式  \r\n",
    "我們可以這麼做  "
   ],
   "metadata": {}
  },
  {
   "cell_type": "code",
   "execution_count": 27,
   "source": [
    "from pprint import pprint\r\n",
    "def letter_frequency(sentence):\r\n",
    "    frequencies = {}\r\n",
    "    for letter in sentence:\r\n",
    "        frequency = frequencies.setdefault(letter, 0)\r\n",
    "        frequencies[letter] = frequency + 1\r\n",
    "    return frequencies\r\n",
    "\r\n",
    "# 每次存取字典時都要檢查是否已存在鍵\r\n",
    "# 若沒有則設為 0 才開始做計算\r\n",
    "\r\n",
    "pprint(letter_frequency('hello'))"
   ],
   "outputs": [
    {
     "output_type": "stream",
     "name": "stdout",
     "text": [
      "{'e': 1, 'h': 1, 'l': 2, 'o': 1}\n"
     ]
    }
   ],
   "metadata": {}
  },
  {
   "cell_type": "code",
   "execution_count": 28,
   "source": [
    "# 當每次遇到空鍵都要執行設為0的動作\r\n",
    "# 我們可以使用 defaultdict 這個字典\r\n",
    "\r\n",
    "from collections import defaultdict\r\n",
    "\r\n",
    "def letter_frequency(sentence):\r\n",
    "    # 呼叫 defaultdict 並以 int 作為建構元\r\n",
    "    # 若是 dict 遇到空鍵值 會自動回傳 0\r\n",
    "    frequencies = defaultdict(int)\r\n",
    "    for letter in sentence:\r\n",
    "        frequencies[letter] += 1\r\n",
    "    return frequencies\r\n",
    "\r\n",
    "pprint(letter_frequency('hello'))"
   ],
   "outputs": [
    {
     "output_type": "stream",
     "name": "stdout",
     "text": [
      "defaultdict(<class 'int'>, {'h': 1, 'e': 1, 'l': 2, 'o': 1})\n"
     ]
    }
   ],
   "metadata": {}
  },
  {
   "cell_type": "markdown",
   "source": [
    "`defaultdict` 不只可以用 int  \r\n",
    "也可以用 list  \r\n",
    "也就是說遇到空鍵值，會回傳空的 list  \r\n",
    "我們也可以自組函式帶入 `defaultdict` 中  \r\n",
    "\r\n"
   ],
   "metadata": {}
  },
  {
   "cell_type": "code",
   "execution_count": 29,
   "source": [
    "from collections import defaultdict\r\n",
    "\r\n",
    "num_items = 0\r\n",
    "def tuple_counter():\r\n",
    "    global num_items\r\n",
    "    num_items += 1\r\n",
    "    return (num_items, [])\r\n",
    "\r\n",
    "d = defaultdict(tuple_counter)\r\n"
   ],
   "outputs": [],
   "metadata": {}
  },
  {
   "cell_type": "code",
   "execution_count": 30,
   "source": [
    "d['a'][1].append(\"hello\")\r\n",
    "d['b'][1].append('world')\r\n",
    "d"
   ],
   "outputs": [
    {
     "output_type": "execute_result",
     "data": {
      "text/plain": [
       "defaultdict(<function __main__.tuple_counter()>,\n",
       "            {'a': (1, ['hello']), 'b': (2, ['world'])})"
      ]
     },
     "metadata": {},
     "execution_count": 30
    }
   ],
   "metadata": {}
  },
  {
   "cell_type": "markdown",
   "source": [
    "# 計數器\r\n",
    "---\r\n"
   ],
   "metadata": {}
  },
  {
   "cell_type": "code",
   "execution_count": 36,
   "source": [
    "from collections import Counter\r\n",
    "\r\n",
    "# 直接使用 Counter 做字母計數\r\n",
    "pprint(Counter('hello'))\r\n",
    "\r\n",
    "responses = [\r\n",
    "    'vanilla',\r\n",
    "    'chocolate',\r\n",
    "    'vanilla',\r\n",
    "    'vanilla',\r\n",
    "    'caramel',\r\n",
    "    'strawberry',\r\n",
    "    'vanilla'\r\n",
    "]\r\n",
    "\r\n",
    "# Counter 還有好用的 most_common 方法\r\n",
    "# 根據計數做排序，在用參數選擇要幾個排名\r\n",
    "# 再用index方式直接回傳計數最多的項目\r\n",
    "pprint(f'The children vote for {Counter(responses).most_common(1)[0][0]} ice cream')"
   ],
   "outputs": [
    {
     "output_type": "stream",
     "name": "stdout",
     "text": [
      "Counter({'l': 2, 'h': 1, 'e': 1, 'o': 1})\n",
      "'The children vote for vanilla ice cream'\n"
     ]
    }
   ],
   "metadata": {}
  },
  {
   "cell_type": "markdown",
   "source": [
    "# 清單\r\n",
    "---"
   ],
   "metadata": {}
  },
  {
   "cell_type": "markdown",
   "source": [
    "清單 List 是 Python 資料結構中最不物件導向的物件  \r\n",
    "清單的各式運算能將他們轉換成計算功能瑞士刀  \r\n",
    "  \r\n",
    "寫 Python 很難不用到清單  \r\n",
    "我們會討論何時應該使用清單以及他的物件本質  \r\n",
    "  \r\n",
    "在 Python 中\r\n",
    "清單通常用於儲存多個「相同」型別物件的實例，例如字串清單 or 數字清單  \r\n",
    "或者是自訂物件清單  \r\n",
    "  \r\n",
    "清單在需要修改內容時，不管是插入某個位置或刪除也都很容易  \r\n",
    "Python 的清單使用非常有效率且精密調整過的內部資料結構  \r\n",
    "讓我們思考要儲存什麼而不是如何儲存  \r\n",
    "  \r\n",
    "清單也是物件  \r\n",
    "以下是常用的方法  \r\n",
    "`append(element)` 將元素加到清單後面  \r\n",
    "`insert(index, element)` 將元素插入到指定位置  \r\n",
    "`count(element)` 告訴我們元素在清單中出現幾次  \r\n",
    "`index()` 告訴我們項目在清單中的索引位置  \r\n",
    "`find()` 跟 `index()` 一樣，找不到則拋回 `-1 `   \r\n",
    "`reverse()` 將清單倒轉  \r\n",
    "`sort()`  排序，有相當複雜的物件導向行為，接下來討論這個  "
   ],
   "metadata": {}
  },
  {
   "cell_type": "markdown",
   "source": [
    "# 清單排序\r\n",
    "---\r\n",
    "`sort()`不用參數就能做出排序  \r\n",
    "依字母順序，大寫在小寫前  \r\n",
    "數字由小到大  \r\n",
    "  \r\n",
    "如果我們想要將自訂物件放進清單中進行排序  \r\n",
    "我們必須做一點工作  \r\n",
    "`__lt__`這個特殊方法表「小於」  \r\n",
    "應該要定義在類別中讓該類別的實例可以進行比較  \r\n",
    "清單的 `sort` 方法會存取每個物件上的這個方法來判別位置  \r\n",
    "此方法應該在我們的類別小於傳入的參數時回傳True  \r\n"
   ],
   "metadata": {}
  },
  {
   "cell_type": "code",
   "execution_count": 1,
   "source": [
    "class WeirdSortee:\r\n",
    "    def __init__(self, string, number, sort_num):\r\n",
    "        self.string = string\r\n",
    "        self.number = number\r\n",
    "        self.sort_num = sort_num\r\n",
    "    \r\n",
    "    def __lt__(self, object):\r\n",
    "        if self.sort_num:\r\n",
    "            return self.number < object.number\r\n",
    "        return self.string < object.string\r\n",
    "    \r\n",
    "    def __repr__(self):\r\n",
    "        return f\"{self.string}:{self.number}\""
   ],
   "outputs": [],
   "metadata": {}
  },
  {
   "cell_type": "code",
   "execution_count": 5,
   "source": [
    "a = WeirdSortee('a',4,True)\r\n",
    "b = WeirdSortee('b',3,True)\r\n",
    "c = WeirdSortee('c',2,True)\r\n",
    "d = WeirdSortee('d',1,True)\r\n",
    "l = [a,b,c,d]\r\n",
    "print(l)\r\n",
    "l.sort()\r\n",
    "print(l)\r\n",
    "\r\n",
    "for i in l:\r\n",
    "    i.sort_num = False\r\n",
    "l.sort()\r\n",
    "print(l)"
   ],
   "outputs": [
    {
     "output_type": "stream",
     "name": "stdout",
     "text": [
      "[a:4, b:3, c:2, d:1]\n",
      "[d:1, c:2, b:3, a:4]\n",
      "[a:4, b:3, c:2, d:1]\n"
     ]
    }
   ],
   "metadata": {}
  },
  {
   "cell_type": "markdown",
   "source": [
    "`__lt__` 方法是排序唯一要實作的方法  \r\n",
    "在技術上  \r\n",
    "該類別也應該實作類似的 `__gt__`、`__eq__`、`__ne__`、`__ge__`、`__le__`  \r\n",
    "讓運算元 <、>、==、!=、>=、<= 也能運作  \r\n",
    "我們也可以在實作 `__lt__`、`__eq__` 後套用 `@total_ordering` 裝飾器取得其餘功能"
   ],
   "metadata": {}
  },
  {
   "cell_type": "code",
   "execution_count": 6,
   "source": [
    "from functools import total_ordering\r\n",
    "\r\n",
    "@total_ordering\r\n",
    "class WeirdSortee:\r\n",
    "    def __init__(self, string, number, sort_num) -> None:\r\n",
    "        self.string = string\r\n",
    "        self.number = number\r\n",
    "        self.sort_num = sort_num\r\n",
    "    \r\n",
    "    def __lt__(self, object):\r\n",
    "        if self.sort_num:\r\n",
    "            return self.number < object.number\r\n",
    "        return self.string < object.string\r\n",
    "    \r\n",
    "    def __repr__(self):\r\n",
    "        return f\"{self.string}:{self.number}\"\r\n",
    "\r\n",
    "    def __eq__(self, o: object) -> bool:\r\n",
    "        return all((\r\n",
    "            self.string == o.string, \r\n",
    "            self.number == o.number,\r\n",
    "            self.sort_num == o.sort_num\r\n",
    "        ))"
   ],
   "outputs": [],
   "metadata": {}
  },
  {
   "cell_type": "markdown",
   "source": [
    "若我們想要自訂排序  \r\n",
    "`sort()` 可以選用 `key` 參數  \r\n",
    "譬如我們想要將所有字串都轉成小寫在進行排序  "
   ],
   "metadata": {}
  },
  {
   "cell_type": "code",
   "execution_count": 10,
   "source": [
    "l = ['hello','HELP','Helo']\r\n",
    "l.sort()\r\n",
    "print(l)\r\n",
    "l.sort(key=str.lower)\r\n",
    "print(l)"
   ],
   "outputs": [
    {
     "output_type": "stream",
     "name": "stdout",
     "text": [
      "['HELP', 'Helo', 'hello']\n",
      "['hello', 'Helo', 'HELP']\n"
     ]
    }
   ],
   "metadata": {}
  },
  {
   "cell_type": "markdown",
   "source": [
    "有幾個排序鍵很普遍所以Python有提供讓我們不必自行撰寫  \r\n",
    "舉例來說  \r\n",
    "以非清單中第一個index項目來對資料組排序  \r\n",
    "我們可以使用 `operator.itemgetter` 方法"
   ],
   "metadata": {}
  },
  {
   "cell_type": "code",
   "execution_count": 12,
   "source": [
    "from operator import itemgetter\r\n",
    "\r\n",
    "l = [('h',4), ('n',6), ('o',5), ('p',1), ('t',3), ('y',2)]\r\n",
    "l.sort(key=itemgetter(1))\r\n",
    "l"
   ],
   "outputs": [
    {
     "output_type": "execute_result",
     "data": {
      "text/plain": [
       "[('p', 1), ('y', 2), ('t', 3), ('h', 4), ('o', 5), ('n', 6)]"
      ]
     },
     "metadata": {},
     "execution_count": 12
    }
   ],
   "metadata": {}
  },
  {
   "cell_type": "markdown",
   "source": [
    "# 集合\r\n",
    "---\r\n"
   ],
   "metadata": {}
  },
  {
   "cell_type": "markdown",
   "source": [
    "清單是個多才多藝的工具  \r\n",
    "但他們想確保清單中物件的唯一性則沒有用處  \r\n",
    "集合可以解決這個問題  \r\n",
    "  \r\n",
    "在 Python 中  \r\n",
    "集合不只能儲存數字  \r\n",
    "也可以儲存可雜湊的物件  \r\n",
    "可雜湊物件是可作為字典鍵的相同物件  \r\n",
    "因此清單和字典不能儲存在集合裡  \r\n",
    "如同數學上的集合  \r\n",
    "每個物件只能儲存一份  "
   ],
   "metadata": {}
  },
  {
   "cell_type": "code",
   "execution_count": 2,
   "source": [
    "song_library = [\r\n",
    "    (\"Phantom of The Opera\", \"Sarah Brightman\"),\r\n",
    "    (\"Knocking On Heaven's Door\", \"Guns N' Roses\"),\r\n",
    "    (\"Captain Nemo\", \"Sarah Brightman\"),\r\n",
    "    (\"Patterns In the Ivy\", \"Opeth\"), \r\n",
    "    (\"November Rain\", \"Guns N' Roses\"), \r\n",
    "    (\"Beautiful\", \"Sarah Brightman\"), \r\n",
    "    (\"Mal's Song\", \"Vixy and Tony\"), \r\n",
    "]"
   ],
   "outputs": [],
   "metadata": {}
  },
  {
   "cell_type": "code",
   "execution_count": 4,
   "source": [
    "artists = set()\r\n",
    "for song, artist in song_library:\r\n",
    "    artists.add(artist)\r\n",
    "\r\n",
    "print(artists)"
   ],
   "outputs": [
    {
     "output_type": "stream",
     "name": "stdout",
     "text": [
      "{'Opeth', 'Vixy and Tony', \"Guns N' Roses\", 'Sarah Brightman'}\n"
     ]
    }
   ],
   "metadata": {}
  },
  {
   "cell_type": "markdown",
   "source": [
    "集合也可以像清單和字典一樣用內鍵語法  \r\n",
    "使用大括弧 `{ }` 即可  \r\n",
    "如果是一個鍵+冒號+值+逗點作為字典  \r\n",
    "如果大括號內全部都是值並以逗點分隔  \r\n",
    "就變成 set 了"
   ],
   "metadata": {}
  },
  {
   "cell_type": "markdown",
   "source": [
    "我們可以觀察到  \r\n",
    "set 印出來的東西可能與加入集合的順序不同  \r\n",
    "是因為他們在雜湊中為了求效率而這樣排列  \r\n",
    "因此集合也沒有索引值  \r\n",
    "集合的目的就只是把東西分成兩群  \r\n",
    "分為 集合內的東西 與 集合外的東西  \r\n",
    "若想排序  \r\n",
    "就必須把集合轉回清單  "
   ],
   "metadata": {}
  },
  {
   "cell_type": "code",
   "execution_count": 5,
   "source": [
    "'Opeth' in artists\r\n"
   ],
   "outputs": [
    {
     "output_type": "execute_result",
     "data": {
      "text/plain": [
       "True"
      ]
     },
     "metadata": {},
     "execution_count": 5
    }
   ],
   "metadata": {}
  },
  {
   "cell_type": "code",
   "execution_count": 6,
   "source": [
    "for artist in artists:\r\n",
    "    print(f'{artist} plays good music')"
   ],
   "outputs": [
    {
     "output_type": "stream",
     "name": "stdout",
     "text": [
      "Opeth plays good music\n",
      "Vixy and Tony plays good music\n",
      "Guns N' Roses plays good music\n",
      "Sarah Brightman plays good music\n"
     ]
    }
   ],
   "metadata": {}
  },
  {
   "cell_type": "code",
   "execution_count": 7,
   "source": [
    "alphabetical = list(artists)\r\n",
    "alphabetical.sort()\r\n",
    "alphabetical"
   ],
   "outputs": [
    {
     "output_type": "execute_result",
     "data": {
      "text/plain": [
       "[\"Guns N' Roses\", 'Opeth', 'Sarah Brightman', 'Vixy and Tony']"
      ]
     },
     "metadata": {},
     "execution_count": 7
    }
   ],
   "metadata": {}
  },
  {
   "cell_type": "markdown",
   "source": [
    "集合最常用的包括聯集交集與對稱差集  \r\n",
    "範例如下  \r\n"
   ],
   "metadata": {}
  },
  {
   "cell_type": "code",
   "execution_count": 11,
   "source": [
    "my_artists = {'Opeth', 'Vixy and Tony', \"Guns N' Roses\", 'Sarah Brightman'}\r\n",
    "auburns_artists = {\"Nickelback\", \"Guns N' Roses\", \"Savage Garden\"}\r\n",
    "\r\n",
    "print(f'All: {my_artists.union(auburns_artists)}')\r\n",
    "print(f'Both: {my_artists.intersection(auburns_artists)}')\r\n",
    "print(f'Either but not both: {my_artists.symmetric_difference(auburns_artists)}')"
   ],
   "outputs": [
    {
     "output_type": "stream",
     "name": "stdout",
     "text": [
      "All: {\"Guns N' Roses\", 'Savage Garden', 'Opeth', 'Vixy and Tony', 'Nickelback', 'Sarah Brightman'}\n",
      "Both: {\"Guns N' Roses\"}\n",
      "Either but not both: {'Opeth', 'Vixy and Tony', 'Savage Garden', 'Nickelback', 'Sarah Brightman'}\n"
     ]
    }
   ],
   "metadata": {}
  },
  {
   "cell_type": "markdown",
   "source": [
    "集合常用的還有判斷  \r\n",
    "某集合是不是屬於某集合  \r\n",
    "或是某集合是不是某集合的超集合  "
   ],
   "metadata": {}
  },
  {
   "cell_type": "code",
   "execution_count": 20,
   "source": [
    "my_artists = {'Opeth', 'Vixy and Tony', \"Guns N' Roses\", 'Sarah Brightman'}\r\n",
    "bands = {\"Guns N' Roses\", \"Opeth\"}\r\n",
    "\r\n",
    "def printsetfunction(x,y):\r\n",
    "    print(f\"{x} is to {y}\")\r\n",
    "    print(f\"issuperset: {x.issuperset(y)}\")\r\n",
    "    print(f\"issubet: {x.issubset(y)}\")\r\n",
    "    print(f\"difference: {x.difference(y)}\")\r\n",
    "    print('*'*20)\r\n",
    "\r\n",
    "printsetfunction(my_artists, bands)\r\n",
    "printsetfunction(bands, my_artists)"
   ],
   "outputs": [
    {
     "output_type": "stream",
     "name": "stdout",
     "text": [
      "{'Opeth', 'Vixy and Tony', \"Guns N' Roses\", 'Sarah Brightman'} is to {'Opeth', \"Guns N' Roses\"}\n",
      "issuperset: True\n",
      "issubet: False\n",
      "difference: {'Vixy and Tony', 'Sarah Brightman'}\n",
      "********************\n",
      "{'Opeth', \"Guns N' Roses\"} is to {'Opeth', 'Vixy and Tony', \"Guns N' Roses\", 'Sarah Brightman'}\n",
      "issuperset: False\n",
      "issubet: True\n",
      "difference: set()\n",
      "********************\n"
     ]
    }
   ],
   "metadata": {}
  },
  {
   "cell_type": "markdown",
   "source": [
    "# 擴充內建\r\n",
    "---\r\n",
    "第三章稍微簡單討論過  \r\n",
    "現在進一步討論細節  \r\n",
    "當我們的內建物件想增加功能時  \r\n",
    "我們可以建構新的物件  \r\n",
    "或是繼承內建物件並加上或改寫方法  \r\n",
    "  \r\n",
    "物件中利用雙底線方法，稱為特殊方法    \r\n",
    "可使整個程式變得更簡潔變得更沒那麼物件導向  \r\n",
    "例如  "
   ],
   "metadata": {}
  },
  {
   "cell_type": "code",
   "execution_count": 21,
   "source": [
    "class SillyInt(int):\r\n",
    "    def __add__(self, num):\r\n",
    "        return 0\r\n",
    "\r\n",
    "a = SillyInt(1)\r\n",
    "b = SillyInt(2)\r\n",
    "a + b"
   ],
   "outputs": [
    {
     "output_type": "execute_result",
     "data": {
      "text/plain": [
       "0"
      ]
     },
     "metadata": {},
     "execution_count": 21
    }
   ],
   "metadata": {}
  },
  {
   "cell_type": "markdown",
   "source": [
    "透過 `__add__` 讓物件在做相加時  \r\n",
    "不必再透過呼叫方法  \r\n",
    "而是利用 `+` 號即可  \r\n",
    "使得整個更為簡單易懂"
   ],
   "metadata": {}
  },
  {
   "cell_type": "markdown",
   "source": [
    "對所有特殊方法來說都是透過雙底線來實現  \r\n",
    "例如我們想要使用 `x in myobj` 我們可以實作 `__contains__`  \r\n",
    "若想要使用 `myobj[i] = value` 我們可以提供 `__setitem__` 語法  \r\n",
    "若想要使用 `something = myobj[i]` 我們可以提供 `__getitem__` 語法  \r\n",
    "在list類別中  \r\n",
    "有33個這樣的特殊方法"
   ],
   "metadata": {}
  },
  {
   "cell_type": "code",
   "execution_count": 22,
   "source": [
    "dir(list)"
   ],
   "outputs": [
    {
     "output_type": "execute_result",
     "data": {
      "text/plain": [
       "['__add__',\n",
       " '__class__',\n",
       " '__contains__',\n",
       " '__delattr__',\n",
       " '__delitem__',\n",
       " '__dir__',\n",
       " '__doc__',\n",
       " '__eq__',\n",
       " '__format__',\n",
       " '__ge__',\n",
       " '__getattribute__',\n",
       " '__getitem__',\n",
       " '__gt__',\n",
       " '__hash__',\n",
       " '__iadd__',\n",
       " '__imul__',\n",
       " '__init__',\n",
       " '__init_subclass__',\n",
       " '__iter__',\n",
       " '__le__',\n",
       " '__len__',\n",
       " '__lt__',\n",
       " '__mul__',\n",
       " '__ne__',\n",
       " '__new__',\n",
       " '__reduce__',\n",
       " '__reduce_ex__',\n",
       " '__repr__',\n",
       " '__reversed__',\n",
       " '__rmul__',\n",
       " '__setattr__',\n",
       " '__setitem__',\n",
       " '__sizeof__',\n",
       " '__str__',\n",
       " '__subclasshook__',\n",
       " 'append',\n",
       " 'clear',\n",
       " 'copy',\n",
       " 'count',\n",
       " 'extend',\n",
       " 'index',\n",
       " 'insert',\n",
       " 'pop',\n",
       " 'remove',\n",
       " 'reverse',\n",
       " 'sort']"
      ]
     },
     "metadata": {},
     "execution_count": 22
    }
   ],
   "metadata": {}
  },
  {
   "cell_type": "markdown",
   "source": [
    "想知道以上方法，可以使用 `help` 函式"
   ],
   "metadata": {}
  },
  {
   "cell_type": "markdown",
   "source": [],
   "metadata": {}
  }
 ],
 "metadata": {
  "orig_nbformat": 4,
  "language_info": {
   "name": "python",
   "version": "3.7.9",
   "mimetype": "text/x-python",
   "codemirror_mode": {
    "name": "ipython",
    "version": 3
   },
   "pygments_lexer": "ipython3",
   "nbconvert_exporter": "python",
   "file_extension": ".py"
  },
  "kernelspec": {
   "name": "python3",
   "display_name": "Python 3.7.9 64-bit ('python3_oop': venv)"
  },
  "interpreter": {
   "hash": "45539b59eebab2005aa4fedb9a515f3794869189fd737dea53041ed0fca9d17e"
  }
 },
 "nbformat": 4,
 "nbformat_minor": 2
}