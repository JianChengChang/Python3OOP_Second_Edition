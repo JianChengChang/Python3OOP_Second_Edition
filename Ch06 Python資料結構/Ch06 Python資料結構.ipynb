{
 "cells": [
  {
   "cell_type": "markdown",
   "source": [
    "這章節來討論以下主題\r\n",
    "* 資料組與具名資料組\r\n",
    "* 字典\r\n",
    "* 清單與組\r\n",
    "* 如何與為何擴充內建物件\r\n",
    "* 三種佇列"
   ],
   "metadata": {}
  },
  {
   "cell_type": "markdown",
   "source": [
    "# 空物件\r\n",
    "---\r\n",
    "讓我們從最基本的  \r\n",
    "在前面章節看過許多次的  \r\n",
    "曾經建構不少物件類別的 Object 開始  "
   ],
   "metadata": {}
  },
  {
   "cell_type": "code",
   "execution_count": 3,
   "source": [
    "o = object()\r\n",
    "o.x = 5"
   ],
   "outputs": [
    {
     "output_type": "error",
     "ename": "AttributeError",
     "evalue": "'object' object has no attribute 'x'",
     "traceback": [
      "\u001b[1;31m---------------------------------------------------------------------------\u001b[0m",
      "\u001b[1;31mAttributeError\u001b[0m                            Traceback (most recent call last)",
      "\u001b[1;32m~\\AppData\\Local\\Temp/ipykernel_15996/435887459.py\u001b[0m in \u001b[0;36m<module>\u001b[1;34m\u001b[0m\n\u001b[0;32m      1\u001b[0m \u001b[0mo\u001b[0m \u001b[1;33m=\u001b[0m \u001b[0mobject\u001b[0m\u001b[1;33m(\u001b[0m\u001b[1;33m)\u001b[0m\u001b[1;33m\u001b[0m\u001b[1;33m\u001b[0m\u001b[0m\n\u001b[1;32m----> 2\u001b[1;33m \u001b[0mo\u001b[0m\u001b[1;33m.\u001b[0m\u001b[0mx\u001b[0m \u001b[1;33m=\u001b[0m \u001b[1;36m5\u001b[0m\u001b[1;33m\u001b[0m\u001b[1;33m\u001b[0m\u001b[0m\n\u001b[0m",
      "\u001b[1;31mAttributeError\u001b[0m: 'object' object has no attribute 'x'"
     ]
    }
   ],
   "metadata": {}
  },
  {
   "cell_type": "markdown",
   "source": [
    "發現 object 物件並不能給予或初始化任何屬性  \r\n",
    "這是 Python 預設的  \r\n",
    "這麼做的目的是為了節省記憶體  \r\n",
    "Python 允許物件具有含糊的屬性  \r\n",
    "也需要一定數量的記憶體來紀錄每個物件有什麼屬性、屬性名稱與屬性的值  \r\n",
    "  \r\n",
    "假如 程式設計師 想要在自己創造的 class 物件中限制不得隨意創造屬性  \r\n",
    "可以參考 \\_\\_slot\\_\\_ 魔法\r\n"
   ],
   "metadata": {}
  },
  {
   "cell_type": "markdown",
   "source": [
    "# 資料組與具名資料組\r\n",
    "---\r\n",
    "資料組 tuple  \r\n",
    "資料組是可以依序儲存特定數量其他東西的物件  \r\n",
    "他是不可變的  \r\n",
    "我們不能在其身上新增、刪除或替換  \r\n",
    "資料組不可變的特性的主要好處是我們可以用它做為字典的鍵(key)或其他需要有雜湊(hash)的地方  "
   ],
   "metadata": {}
  },
  {
   "cell_type": "code",
   "execution_count": 6,
   "source": [
    "# 建立資料組 tuple\r\n",
    "stock = 'FB', 75.00, 75.03, 74.90\r\n",
    "stock2 = ('FB', 75.00, 75.03, 74.90)\r\n",
    "\r\n",
    "# 以上兩個方法都是建立 tuple\r\n",
    "# 個人強烈建議 使用下方有括弧的\r\n",
    "# 因為要將資料組用於其他物件中的話，括弧是必要的，不然直譯器不知道她是 tuple 還是參數"
   ],
   "outputs": [],
   "metadata": {}
  },
  {
   "cell_type": "markdown",
   "source": [
    "我們也可以用 slice 方法來讀取 tuple 內的資料"
   ],
   "metadata": {}
  },
  {
   "cell_type": "code",
   "execution_count": 7,
   "source": [
    "stock[1:3]"
   ],
   "outputs": [
    {
     "output_type": "execute_result",
     "data": {
      "text/plain": [
       "(75.0, 75.03)"
      ]
     },
     "metadata": {},
     "execution_count": 7
    }
   ],
   "metadata": {}
  },
  {
   "cell_type": "markdown",
   "source": [
    "這個範例同時展現了 tuple 的彈性與缺點   \r\n",
    "那就是不可讀  \r\n",
    "若程式上沒有註解或文件    \r\n",
    "其他人不會知道 index 1, 2 存的是什麼資料   \r\n",
    "我們來看看下一節 具名 tuple 的功用   "
   ],
   "metadata": {}
  },
  {
   "cell_type": "markdown",
   "source": [
    "# 具名資料組\r\n",
    "---\r\n",
    "顧名思義  \r\n",
    "就是給 tuple 的每個 index 賦予變數名稱  \r\n",
    "方便描述這個資料組裡存的是什麼資料  "
   ],
   "metadata": {}
  },
  {
   "cell_type": "code",
   "execution_count": 13,
   "source": [
    "from collections import namedtuple\r\n",
    "Stock = namedtuple(\"Stock\",\"symbol, current, high, low\")\r\n",
    "stock = Stock(\"FB\", 75.00, high=75.03, low=74.90)"
   ],
   "outputs": [],
   "metadata": {}
  },
  {
   "cell_type": "markdown",
   "source": [
    "namedtuple 接受兩個參數  \r\n",
    "第一個是 具名資料組 的名稱  \r\n",
    "第二個是 具名資料組的 屬性字串"
   ],
   "metadata": {}
  },
  {
   "cell_type": "code",
   "execution_count": 12,
   "source": [
    "print(stock)\r\n",
    "print(stock.high)\r\n",
    "symbol, current, high, low = stock\r\n",
    "print(current)"
   ],
   "outputs": [
    {
     "output_type": "stream",
     "name": "stdout",
     "text": [
      "Stock(symbol='FB', current=75.0, high=75.03, low=74.9)\n",
      "75.03\n",
      "75.0\n"
     ]
    }
   ],
   "metadata": {}
  },
  {
   "cell_type": "markdown",
   "source": [
    "# 字典\r\n",
    "---\r\n",
    "字典是很有用的容器  \r\n",
    "能讓程式設計師直接將 物件 或 值 對應到 其他物件 或 其他值 上\r\n",
    "   \r\n",
    "字典對於以特定鍵物件(key)來查詢對應的值是非常有效率的  \r\n",
    "字典可使用 dict() 或 {} 來建構\r\n",
    "\r\n"
   ],
   "metadata": {}
  },
  {
   "cell_type": "code",
   "execution_count": 15,
   "source": [
    "stocks = {\r\n",
    "    \"GOOG\": (613.30, 625.86, 610.50),\r\n",
    "    \"MSFT\": (30.25, 30.70, 30.19)\r\n",
    "}\r\n",
    "\r\n",
    "print(stocks[\"GOOG\"])\r\n",
    "print(stocks[\"RIM\"])"
   ],
   "outputs": [
    {
     "output_type": "stream",
     "name": "stdout",
     "text": [
      "(613.3, 625.86, 610.5)\n"
     ]
    },
    {
     "output_type": "error",
     "ename": "KeyError",
     "evalue": "'RIM'",
     "traceback": [
      "\u001b[1;31m---------------------------------------------------------------------------\u001b[0m",
      "\u001b[1;31mKeyError\u001b[0m                                  Traceback (most recent call last)",
      "\u001b[1;32m~\\AppData\\Local\\Temp/ipykernel_15996/2687983408.py\u001b[0m in \u001b[0;36m<module>\u001b[1;34m\u001b[0m\n\u001b[0;32m      5\u001b[0m \u001b[1;33m\u001b[0m\u001b[0m\n\u001b[0;32m      6\u001b[0m \u001b[0mprint\u001b[0m\u001b[1;33m(\u001b[0m\u001b[0mstocks\u001b[0m\u001b[1;33m[\u001b[0m\u001b[1;34m\"GOOG\"\u001b[0m\u001b[1;33m]\u001b[0m\u001b[1;33m)\u001b[0m\u001b[1;33m\u001b[0m\u001b[1;33m\u001b[0m\u001b[0m\n\u001b[1;32m----> 7\u001b[1;33m \u001b[0mprint\u001b[0m\u001b[1;33m(\u001b[0m\u001b[0mstocks\u001b[0m\u001b[1;33m[\u001b[0m\u001b[1;34m\"RIM\"\u001b[0m\u001b[1;33m]\u001b[0m\u001b[1;33m)\u001b[0m\u001b[1;33m\u001b[0m\u001b[1;33m\u001b[0m\u001b[0m\n\u001b[0m",
      "\u001b[1;31mKeyError\u001b[0m: 'RIM'"
     ]
    }
   ],
   "metadata": {}
  },
  {
   "cell_type": "markdown",
   "source": [
    "如果鍵不在字典裡  \r\n",
    "則會拋出錯誤(例外)  \r\n",
    "我可以用 get 方法來處理"
   ],
   "metadata": {}
  },
  {
   "cell_type": "code",
   "execution_count": 17,
   "source": [
    "try:\r\n",
    "    print(stocks[\"GOOG\"])\r\n",
    "    print(stocks[\"RIM\"])\r\n",
    "except Exception as e:\r\n",
    "    print(stocks.get(\"RIM\",\"NOT FOUND\"))"
   ],
   "outputs": [
    {
     "output_type": "stream",
     "name": "stdout",
     "text": [
      "(613.3, 625.86, 610.5)\n",
      "NOT FOUND\n"
     ]
    }
   ],
   "metadata": {}
  },
  {
   "cell_type": "markdown",
   "source": [
    "更進一步  \r\n",
    "可以用 setdefault 方法  \r\n",
    "如果鍵在字典中  \r\n",
    "則會回傳在字典中儲存的值  \r\n",
    "若鍵不在字典中  \r\n",
    "則會在字典中 建立一個鍵 並對應到與我們在 setdefault 方法中所給定的值參數  "
   ],
   "metadata": {}
  },
  {
   "cell_type": "code",
   "execution_count": 18,
   "source": [
    "print(stocks.setdefault(\"GOOG\",\"invalid\")) #會回傳GOOG的資料\r\n",
    "print(stocks.setdefault(\"BBRY\",(10.50, 10.62, 10.39))) #字典中沒有BBRY，建立一個BBRY並對應到(10.50, 10.62, 10.39)"
   ],
   "outputs": [
    {
     "output_type": "stream",
     "name": "stdout",
     "text": [
      "(613.3, 625.86, 610.5)\n",
      "(10.5, 10.62, 10.39)\n"
     ]
    }
   ],
   "metadata": {}
  },
  {
   "cell_type": "markdown",
   "source": [
    "另外三個非常有用的方法是  \r\n",
    "keys(), values() 與 items()  \r\n",
    "keys()會回傳字典裡所有的 鍵  \r\n",
    "values()會回傳字典裡所有的 值  \r\n",
    "items()則會回傳每個(key, value)"
   ],
   "metadata": {}
  },
  {
   "cell_type": "code",
   "execution_count": 22,
   "source": [
    "print(stocks.items())\r\n",
    "for stock, values in stocks.items():\r\n",
    "    print(f'{stock} last value is {values[0]}')"
   ],
   "outputs": [
    {
     "output_type": "stream",
     "name": "stdout",
     "text": [
      "dict_items([('GOOG', (613.3, 625.86, 610.5)), ('MSFT', (30.25, 30.7, 30.19)), ('BBRY', (10.5, 10.62, 10.39))])\n",
      "GOOG last value is 613.3\n",
      "MSFT last value is 30.25\n",
      "BBRY last value is 10.5\n"
     ]
    }
   ],
   "metadata": {}
  },
  {
   "cell_type": "markdown",
   "source": [
    "要更新字典裡某個鍵(key)的值時(value)  \r\n",
    "如下作法  \r\n",
    "只要直接賦予新的值給該 鍵   \r\n",
    "就行了"
   ],
   "metadata": {}
  },
  {
   "cell_type": "code",
   "execution_count": 24,
   "source": [
    "stocks['GOOG'] = (597.63, 610.00, 596.28)\r\n",
    "stocks['GOOG']"
   ],
   "outputs": [
    {
     "output_type": "execute_result",
     "data": {
      "text/plain": [
       "(597.63, 610.0, 596.28)"
      ]
     },
     "metadata": {},
     "execution_count": 24
    }
   ],
   "metadata": {}
  },
  {
   "cell_type": "markdown",
   "source": [
    "字串是常用的鍵  \r\n",
    "不過我們也可以使用tuple、數字、自訂物件作為字典的鍵"
   ],
   "metadata": {}
  },
  {
   "cell_type": "code",
   "execution_count": 25,
   "source": [
    "random_keys = {}\r\n",
    "random_keys[\"astring\"] = \"something\"\r\n",
    "random_keys[5] = \"aninteger\"\r\n",
    "random_keys[25.2] = \"floats work, too\"\r\n",
    "random_keys[(\"abc\",123)] = \"So do tuple\"\r\n",
    "\r\n",
    "class AnObject:\r\n",
    "    def __init__(self,avalue) -> None:\r\n",
    "        self.avalue = avalue\r\n",
    "\r\n",
    "my_object = AnObject(14)\r\n",
    "random_keys[my_object] = \"We can even store objects\"\r\n",
    "my_object.avalue = 12\r\n",
    "try:\r\n",
    "    random_keys[[1,2,3]] = \"we can't store lists though\"\r\n",
    "except Exception as e:\r\n",
    "    print(\"unable to store list\\n\")\r\n",
    "\r\n",
    "for key, value in random_keys.items():\r\n",
    "    print(f\"{key} has value {value}\")"
   ],
   "outputs": [
    {
     "output_type": "stream",
     "name": "stdout",
     "text": [
      "unable to store list\n",
      "\n",
      "astring has value something\n",
      "5 has value aninteger\n",
      "25.2 has value floats work, too\n",
      "('abc', 123) has value So do tuple\n",
      "<__main__.AnObject object at 0x00000263AF857508> has value We can even store objects\n"
     ]
    }
   ],
   "metadata": {}
  },
  {
   "cell_type": "markdown",
   "source": [
    "# 字典使用案例\r\n",
    "---\r\n",
    "字典的變化非常且有無數用途  \r\n",
    "他有兩種主要使用方式  \r\n",
    "首先是以鍵代表相似物件的不同實例的字典; 例如股票字典  \r\n",
    "  \r\n",
    "第二種設計是每個鍵代表單一結構的某種面向字典\r\n",
    "(這部分完全看不懂書在寫什麼呵呵)"
   ],
   "metadata": {}
  },
  {
   "cell_type": "markdown",
   "source": [
    "# 使用 defaultdict\r\n",
    "---\r\n",
    "我們已經看過如何使用 setdefault 來設定不存在的鍵的預設值  \r\n",
    "但若每次在查詢必須設定預設值會有點無聊  \r\n",
    "如果我們要撰寫計算一個句子中字母出現的程式  \r\n",
    "我們可以這麼做  "
   ],
   "metadata": {}
  },
  {
   "cell_type": "code",
   "execution_count": 27,
   "source": [
    "from pprint import pprint\r\n",
    "def letter_frequency(sentence):\r\n",
    "    frequencies = {}\r\n",
    "    for letter in sentence:\r\n",
    "        frequency = frequencies.setdefault(letter, 0)\r\n",
    "        frequencies[letter] = frequency + 1\r\n",
    "    return frequencies\r\n",
    "\r\n",
    "# 每次存取字典時都要檢查是否已存在鍵\r\n",
    "# 若沒有則設為 0 才開始做計算\r\n",
    "\r\n",
    "pprint(letter_frequency('hello'))"
   ],
   "outputs": [
    {
     "output_type": "stream",
     "name": "stdout",
     "text": [
      "{'e': 1, 'h': 1, 'l': 2, 'o': 1}\n"
     ]
    }
   ],
   "metadata": {}
  },
  {
   "cell_type": "code",
   "execution_count": 28,
   "source": [
    "# 當每次遇到空鍵都要執行設為0的動作\r\n",
    "# 我們可以使用 defaultdict 這個字典\r\n",
    "\r\n",
    "from collections import defaultdict\r\n",
    "\r\n",
    "def letter_frequency(sentence):\r\n",
    "    # 呼叫 defaultdict 並以 int 作為建構元\r\n",
    "    # 若是 dict 遇到空鍵值 會自動回傳 0\r\n",
    "    frequencies = defaultdict(int)\r\n",
    "    for letter in sentence:\r\n",
    "        frequencies[letter] += 1\r\n",
    "    return frequencies\r\n",
    "\r\n",
    "pprint(letter_frequency('hello'))"
   ],
   "outputs": [
    {
     "output_type": "stream",
     "name": "stdout",
     "text": [
      "defaultdict(<class 'int'>, {'h': 1, 'e': 1, 'l': 2, 'o': 1})\n"
     ]
    }
   ],
   "metadata": {}
  },
  {
   "cell_type": "markdown",
   "source": [
    "defaultdict 不只可以用 int  \r\n",
    "也可以用 list  \r\n",
    "也就是說遇到空鍵值，會回傳空的 list  \r\n",
    "我們也可以自組函式帶入 defaultdict 中  \r\n",
    "\r\n"
   ],
   "metadata": {}
  },
  {
   "cell_type": "code",
   "execution_count": 29,
   "source": [
    "from collections import defaultdict\r\n",
    "\r\n",
    "num_items = 0\r\n",
    "def tuple_counter():\r\n",
    "    global num_items\r\n",
    "    num_items += 1\r\n",
    "    return (num_items, [])\r\n",
    "\r\n",
    "d = defaultdict(tuple_counter)\r\n"
   ],
   "outputs": [],
   "metadata": {}
  },
  {
   "cell_type": "code",
   "execution_count": 30,
   "source": [
    "d['a'][1].append(\"hello\")\r\n",
    "d['b'][1].append('world')\r\n",
    "d"
   ],
   "outputs": [
    {
     "output_type": "execute_result",
     "data": {
      "text/plain": [
       "defaultdict(<function __main__.tuple_counter()>,\n",
       "            {'a': (1, ['hello']), 'b': (2, ['world'])})"
      ]
     },
     "metadata": {},
     "execution_count": 30
    }
   ],
   "metadata": {}
  },
  {
   "cell_type": "markdown",
   "source": [
    "# 計數器\r\n",
    "---\r\n"
   ],
   "metadata": {}
  },
  {
   "cell_type": "code",
   "execution_count": 36,
   "source": [
    "from collections import Counter\r\n",
    "\r\n",
    "# 直接使用 Counter 做字母計數\r\n",
    "pprint(Counter('hello'))\r\n",
    "\r\n",
    "responses = [\r\n",
    "    'vanilla',\r\n",
    "    'chocolate',\r\n",
    "    'vanilla',\r\n",
    "    'vanilla',\r\n",
    "    'caramel',\r\n",
    "    'strawberry',\r\n",
    "    'vanilla'\r\n",
    "]\r\n",
    "\r\n",
    "# Counter 還有好用的 most_common 方法\r\n",
    "# 根據計數做排序，在用參數選擇要幾個排名\r\n",
    "# 再用index方式直接回傳計數最多的項目\r\n",
    "pprint(f'The children vote for {Counter(responses).most_common(1)[0][0]} ice cream')"
   ],
   "outputs": [
    {
     "output_type": "stream",
     "name": "stdout",
     "text": [
      "Counter({'l': 2, 'h': 1, 'e': 1, 'o': 1})\n",
      "'The children vote for vanilla ice cream'\n"
     ]
    }
   ],
   "metadata": {}
  },
  {
   "cell_type": "markdown",
   "source": [
    "# 清單\r\n",
    "---"
   ],
   "metadata": {}
  },
  {
   "cell_type": "markdown",
   "source": [],
   "metadata": {}
  }
 ],
 "metadata": {
  "orig_nbformat": 4,
  "language_info": {
   "name": "python",
   "version": "3.7.9",
   "mimetype": "text/x-python",
   "codemirror_mode": {
    "name": "ipython",
    "version": 3
   },
   "pygments_lexer": "ipython3",
   "nbconvert_exporter": "python",
   "file_extension": ".py"
  },
  "kernelspec": {
   "name": "python3",
   "display_name": "Python 3.7.9 64-bit ('python3_oop': venv)"
  },
  "interpreter": {
   "hash": "45539b59eebab2005aa4fedb9a515f3794869189fd737dea53041ed0fca9d17e"
  }
 },
 "nbformat": 4,
 "nbformat_minor": 2
}