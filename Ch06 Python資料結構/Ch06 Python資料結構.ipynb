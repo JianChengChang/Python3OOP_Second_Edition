{
 "cells": [
  {
   "cell_type": "markdown",
   "metadata": {},
   "source": [
    "這章節來討論以下主題\n",
    "* 資料組與具名資料組\n",
    "* 字典\n",
    "* 清單與組\n",
    "* 如何與為何擴充內建物件\n",
    "* 三種佇列"
   ]
  },
  {
   "cell_type": "markdown",
   "metadata": {},
   "source": [
    "# 空物件\n",
    "---\n",
    "讓我們從最基本的  \n",
    "在前面章節看過許多次的  \n",
    "曾經建構不少物件類別的 Object 開始  "
   ]
  },
  {
   "cell_type": "code",
   "execution_count": 3,
   "metadata": {},
   "outputs": [
    {
     "ename": "AttributeError",
     "evalue": "'object' object has no attribute 'x'",
     "output_type": "error",
     "traceback": [
      "\u001b[1;31m---------------------------------------------------------------------------\u001b[0m",
      "\u001b[1;31mAttributeError\u001b[0m                            Traceback (most recent call last)",
      "\u001b[1;32m~\\AppData\\Local\\Temp/ipykernel_15996/435887459.py\u001b[0m in \u001b[0;36m<module>\u001b[1;34m\u001b[0m\n\u001b[0;32m      1\u001b[0m \u001b[0mo\u001b[0m \u001b[1;33m=\u001b[0m \u001b[0mobject\u001b[0m\u001b[1;33m(\u001b[0m\u001b[1;33m)\u001b[0m\u001b[1;33m\u001b[0m\u001b[1;33m\u001b[0m\u001b[0m\n\u001b[1;32m----> 2\u001b[1;33m \u001b[0mo\u001b[0m\u001b[1;33m.\u001b[0m\u001b[0mx\u001b[0m \u001b[1;33m=\u001b[0m \u001b[1;36m5\u001b[0m\u001b[1;33m\u001b[0m\u001b[1;33m\u001b[0m\u001b[0m\n\u001b[0m",
      "\u001b[1;31mAttributeError\u001b[0m: 'object' object has no attribute 'x'"
     ]
    }
   ],
   "source": [
    "o = object()\n",
    "o.x = 5"
   ]
  },
  {
   "cell_type": "markdown",
   "metadata": {},
   "source": [
    "發現 object 物件並不能給予或初始化任何屬性  \n",
    "這是 Python 預設的  \n",
    "這麼做的目的是為了節省記憶體  \n",
    "Python 允許物件具有含糊的屬性  \n",
    "也需要一定數量的記憶體來紀錄每個物件有什麼屬性、屬性名稱與屬性的值  \n",
    "  \n",
    "假如 程式設計師 想要在自己創造的 class 物件中限制不得隨意創造屬性  \n",
    "可以參考 `__slot__` 魔法\n"
   ]
  },
  {
   "cell_type": "markdown",
   "metadata": {},
   "source": [
    "# 資料組與具名資料組\n",
    "---\n",
    "資料組 tuple  \n",
    "資料組是可以依序儲存特定數量其他東西的物件  \n",
    "他是不可變的  \n",
    "我們不能在其身上新增、刪除或替換  \n",
    "資料組不可變的特性的主要好處是我們可以用它做為字典的鍵(key)或其他需要有雜湊(hash)的地方  "
   ]
  },
  {
   "cell_type": "code",
   "execution_count": 6,
   "metadata": {},
   "outputs": [],
   "source": [
    "# 建立資料組 tuple\n",
    "stock = 'FB', 75.00, 75.03, 74.90\n",
    "stock2 = ('FB', 75.00, 75.03, 74.90)\n",
    "\n",
    "# 以上兩個方法都是建立 tuple\n",
    "# 個人強烈建議 使用下方有括弧的\n",
    "# 因為要將資料組用於其他物件中的話，括弧是必要的，不然直譯器不知道她是 tuple 還是參數"
   ]
  },
  {
   "cell_type": "markdown",
   "metadata": {},
   "source": [
    "我們也可以用 slice 方法來讀取 tuple 內的資料"
   ]
  },
  {
   "cell_type": "code",
   "execution_count": 7,
   "metadata": {},
   "outputs": [
    {
     "data": {
      "text/plain": [
       "(75.0, 75.03)"
      ]
     },
     "execution_count": 7,
     "metadata": {},
     "output_type": "execute_result"
    }
   ],
   "source": [
    "stock[1:3]"
   ]
  },
  {
   "cell_type": "markdown",
   "metadata": {},
   "source": [
    "這個範例同時展現了 tuple 的彈性與缺點   \n",
    "那就是不可讀  \n",
    "若程式上沒有註解或文件    \n",
    "其他人不會知道 index 1, 2 存的是什麼資料   \n",
    "我們來看看下一節 具名 tuple 的功用   "
   ]
  },
  {
   "cell_type": "markdown",
   "metadata": {},
   "source": [
    "# 具名資料組\n",
    "---\n",
    "顧名思義  \n",
    "就是給 tuple 的每個 index 賦予變數名稱  \n",
    "方便描述這個資料組裡存的是什麼資料  "
   ]
  },
  {
   "cell_type": "code",
   "execution_count": 13,
   "metadata": {},
   "outputs": [],
   "source": [
    "from collections import namedtuple\n",
    "Stock = namedtuple(\"Stock\",\"symbol, current, high, low\")\n",
    "stock = Stock(\"FB\", 75.00, high=75.03, low=74.90)"
   ]
  },
  {
   "cell_type": "markdown",
   "metadata": {},
   "source": [
    "namedtuple 接受兩個參數  \n",
    "第一個是 具名資料組 的名稱  \n",
    "第二個是 具名資料組的 屬性字串"
   ]
  },
  {
   "cell_type": "code",
   "execution_count": 12,
   "metadata": {},
   "outputs": [
    {
     "name": "stdout",
     "output_type": "stream",
     "text": [
      "Stock(symbol='FB', current=75.0, high=75.03, low=74.9)\n",
      "75.03\n",
      "75.0\n"
     ]
    }
   ],
   "source": [
    "print(stock)\n",
    "print(stock.high)\n",
    "symbol, current, high, low = stock\n",
    "print(current)"
   ]
  },
  {
   "cell_type": "markdown",
   "metadata": {},
   "source": [
    "# 字典\n",
    "---\n",
    "字典是很有用的容器  \n",
    "能讓程式設計師直接將 物件 或 值 對應到 其他物件 或 其他值 上\n",
    "   \n",
    "字典對於以特定鍵物件(key)來查詢對應的值是非常有效率的  \n",
    "字典可使用 dict() 或 {} 來建構\n",
    "\n"
   ]
  },
  {
   "cell_type": "code",
   "execution_count": 15,
   "metadata": {},
   "outputs": [
    {
     "name": "stdout",
     "output_type": "stream",
     "text": [
      "(613.3, 625.86, 610.5)\n"
     ]
    },
    {
     "ename": "KeyError",
     "evalue": "'RIM'",
     "output_type": "error",
     "traceback": [
      "\u001b[1;31m---------------------------------------------------------------------------\u001b[0m",
      "\u001b[1;31mKeyError\u001b[0m                                  Traceback (most recent call last)",
      "\u001b[1;32m~\\AppData\\Local\\Temp/ipykernel_15996/2687983408.py\u001b[0m in \u001b[0;36m<module>\u001b[1;34m\u001b[0m\n\u001b[0;32m      5\u001b[0m \u001b[1;33m\u001b[0m\u001b[0m\n\u001b[0;32m      6\u001b[0m \u001b[0mprint\u001b[0m\u001b[1;33m(\u001b[0m\u001b[0mstocks\u001b[0m\u001b[1;33m[\u001b[0m\u001b[1;34m\"GOOG\"\u001b[0m\u001b[1;33m]\u001b[0m\u001b[1;33m)\u001b[0m\u001b[1;33m\u001b[0m\u001b[1;33m\u001b[0m\u001b[0m\n\u001b[1;32m----> 7\u001b[1;33m \u001b[0mprint\u001b[0m\u001b[1;33m(\u001b[0m\u001b[0mstocks\u001b[0m\u001b[1;33m[\u001b[0m\u001b[1;34m\"RIM\"\u001b[0m\u001b[1;33m]\u001b[0m\u001b[1;33m)\u001b[0m\u001b[1;33m\u001b[0m\u001b[1;33m\u001b[0m\u001b[0m\n\u001b[0m",
      "\u001b[1;31mKeyError\u001b[0m: 'RIM'"
     ]
    }
   ],
   "source": [
    "stocks = {\n",
    "    \"GOOG\": (613.30, 625.86, 610.50),\n",
    "    \"MSFT\": (30.25, 30.70, 30.19)\n",
    "}\n",
    "\n",
    "print(stocks[\"GOOG\"])\n",
    "print(stocks[\"RIM\"])"
   ]
  },
  {
   "cell_type": "markdown",
   "metadata": {},
   "source": [
    "如果鍵不在字典裡  \n",
    "則會拋出錯誤(例外)  \n",
    "我可以用 `get` 方法來處理"
   ]
  },
  {
   "cell_type": "code",
   "execution_count": 17,
   "metadata": {},
   "outputs": [
    {
     "name": "stdout",
     "output_type": "stream",
     "text": [
      "(613.3, 625.86, 610.5)\n",
      "NOT FOUND\n"
     ]
    }
   ],
   "source": [
    "try:\n",
    "    print(stocks[\"GOOG\"])\n",
    "    print(stocks[\"RIM\"])\n",
    "except Exception as e:\n",
    "    print(stocks.get(\"RIM\",\"NOT FOUND\"))"
   ]
  },
  {
   "cell_type": "markdown",
   "metadata": {},
   "source": [
    "更進一步  \n",
    "可以用 `setdefault` 方法  \n",
    "如果鍵在字典中  \n",
    "則會回傳在字典中儲存的值  \n",
    "若鍵不在字典中  \n",
    "則會在字典中 建立一個鍵 並對應到與我們在 setdefault 方法中所給定的值參數  "
   ]
  },
  {
   "cell_type": "code",
   "execution_count": 18,
   "metadata": {},
   "outputs": [
    {
     "name": "stdout",
     "output_type": "stream",
     "text": [
      "(613.3, 625.86, 610.5)\n",
      "(10.5, 10.62, 10.39)\n"
     ]
    }
   ],
   "source": [
    "print(stocks.setdefault(\"GOOG\",\"invalid\")) #會回傳GOOG的資料\n",
    "print(stocks.setdefault(\"BBRY\",(10.50, 10.62, 10.39))) #字典中沒有BBRY，建立一個BBRY並對應到(10.50, 10.62, 10.39)"
   ]
  },
  {
   "cell_type": "markdown",
   "metadata": {},
   "source": [
    "另外三個非常有用的方法是  \n",
    "`keys()`, `values()` 與 `items()`  \n",
    "`keys()`會回傳字典裡所有的 鍵  \n",
    "`values()`會回傳字典裡所有的 值  \n",
    "`items()`則會回傳每個`(key, value)`"
   ]
  },
  {
   "cell_type": "code",
   "execution_count": 22,
   "metadata": {},
   "outputs": [
    {
     "name": "stdout",
     "output_type": "stream",
     "text": [
      "dict_items([('GOOG', (613.3, 625.86, 610.5)), ('MSFT', (30.25, 30.7, 30.19)), ('BBRY', (10.5, 10.62, 10.39))])\n",
      "GOOG last value is 613.3\n",
      "MSFT last value is 30.25\n",
      "BBRY last value is 10.5\n"
     ]
    }
   ],
   "source": [
    "print(stocks.items())\n",
    "for stock, values in stocks.items():\n",
    "    print(f'{stock} last value is {values[0]}')"
   ]
  },
  {
   "cell_type": "markdown",
   "metadata": {},
   "source": [
    "要更新字典裡某個鍵(key)的值時(value)  \n",
    "如下作法  \n",
    "只要直接賦予新的值給該 鍵   \n",
    "就行了"
   ]
  },
  {
   "cell_type": "code",
   "execution_count": 24,
   "metadata": {},
   "outputs": [
    {
     "data": {
      "text/plain": [
       "(597.63, 610.0, 596.28)"
      ]
     },
     "execution_count": 24,
     "metadata": {},
     "output_type": "execute_result"
    }
   ],
   "source": [
    "stocks['GOOG'] = (597.63, 610.00, 596.28)\n",
    "stocks['GOOG']"
   ]
  },
  {
   "cell_type": "markdown",
   "metadata": {},
   "source": [
    "字串是常用的鍵  \n",
    "不過我們也可以使用tuple、數字、自訂物件作為字典的鍵"
   ]
  },
  {
   "cell_type": "code",
   "execution_count": 25,
   "metadata": {},
   "outputs": [
    {
     "name": "stdout",
     "output_type": "stream",
     "text": [
      "unable to store list\n",
      "\n",
      "astring has value something\n",
      "5 has value aninteger\n",
      "25.2 has value floats work, too\n",
      "('abc', 123) has value So do tuple\n",
      "<__main__.AnObject object at 0x00000263AF857508> has value We can even store objects\n"
     ]
    }
   ],
   "source": [
    "random_keys = {}\n",
    "random_keys[\"astring\"] = \"something\"\n",
    "random_keys[5] = \"aninteger\"\n",
    "random_keys[25.2] = \"floats work, too\"\n",
    "random_keys[(\"abc\",123)] = \"So do tuple\"\n",
    "\n",
    "class AnObject:\n",
    "    def __init__(self,avalue) -> None:\n",
    "        self.avalue = avalue\n",
    "\n",
    "my_object = AnObject(14)\n",
    "random_keys[my_object] = \"We can even store objects\"\n",
    "my_object.avalue = 12\n",
    "try:\n",
    "    random_keys[[1,2,3]] = \"we can't store lists though\"\n",
    "except Exception as e:\n",
    "    print(\"unable to store list\\n\")\n",
    "\n",
    "for key, value in random_keys.items():\n",
    "    print(f\"{key} has value {value}\")"
   ]
  },
  {
   "cell_type": "markdown",
   "metadata": {},
   "source": [
    "# 字典使用案例\n",
    "---\n",
    "字典的變化非常且有無數用途  \n",
    "他有兩種主要使用方式  \n",
    "首先是以鍵代表相似物件的不同實例的字典; 例如股票字典  \n",
    "  \n",
    "第二種設計是每個鍵代表單一結構的某種面向字典\n",
    "(這部分完全看不懂書在寫什麼呵呵)"
   ]
  },
  {
   "cell_type": "markdown",
   "metadata": {},
   "source": [
    "# 使用 defaultdict\n",
    "---\n",
    "我們已經看過如何使用 `setdefault` 來設定不存在的鍵的預設值  \n",
    "但若每次在查詢必須設定預設值會有點無聊  \n",
    "如果我們要撰寫計算一個句子中字母出現的程式  \n",
    "我們可以這麼做  "
   ]
  },
  {
   "cell_type": "code",
   "execution_count": 27,
   "metadata": {},
   "outputs": [
    {
     "name": "stdout",
     "output_type": "stream",
     "text": [
      "{'e': 1, 'h': 1, 'l': 2, 'o': 1}\n"
     ]
    }
   ],
   "source": [
    "from pprint import pprint\n",
    "def letter_frequency(sentence):\n",
    "    frequencies = {}\n",
    "    for letter in sentence:\n",
    "        frequency = frequencies.setdefault(letter, 0)\n",
    "        frequencies[letter] = frequency + 1\n",
    "    return frequencies\n",
    "\n",
    "# 每次存取字典時都要檢查是否已存在鍵\n",
    "# 若沒有則設為 0 才開始做計算\n",
    "\n",
    "pprint(letter_frequency('hello'))"
   ]
  },
  {
   "cell_type": "code",
   "execution_count": 28,
   "metadata": {},
   "outputs": [
    {
     "name": "stdout",
     "output_type": "stream",
     "text": [
      "defaultdict(<class 'int'>, {'h': 1, 'e': 1, 'l': 2, 'o': 1})\n"
     ]
    }
   ],
   "source": [
    "# 當每次遇到空鍵都要執行設為0的動作\n",
    "# 我們可以使用 defaultdict 這個字典\n",
    "\n",
    "from collections import defaultdict\n",
    "\n",
    "def letter_frequency(sentence):\n",
    "    # 呼叫 defaultdict 並以 int 作為建構元\n",
    "    # 若是 dict 遇到空鍵值 會自動回傳 0\n",
    "    frequencies = defaultdict(int)\n",
    "    for letter in sentence:\n",
    "        frequencies[letter] += 1\n",
    "    return frequencies\n",
    "\n",
    "pprint(letter_frequency('hello'))"
   ]
  },
  {
   "cell_type": "markdown",
   "metadata": {},
   "source": [
    "`defaultdict` 不只可以用 int  \n",
    "也可以用 list  \n",
    "也就是說遇到空鍵值，會回傳空的 list  \n",
    "我們也可以自組函式帶入 `defaultdict` 中  \n",
    "\n"
   ]
  },
  {
   "cell_type": "code",
   "execution_count": 29,
   "metadata": {},
   "outputs": [],
   "source": [
    "from collections import defaultdict\n",
    "\n",
    "num_items = 0\n",
    "def tuple_counter():\n",
    "    global num_items\n",
    "    num_items += 1\n",
    "    return (num_items, [])\n",
    "\n",
    "d = defaultdict(tuple_counter)\n"
   ]
  },
  {
   "cell_type": "code",
   "execution_count": 30,
   "metadata": {},
   "outputs": [
    {
     "data": {
      "text/plain": [
       "defaultdict(<function __main__.tuple_counter()>,\n",
       "            {'a': (1, ['hello']), 'b': (2, ['world'])})"
      ]
     },
     "execution_count": 30,
     "metadata": {},
     "output_type": "execute_result"
    }
   ],
   "source": [
    "d['a'][1].append(\"hello\")\n",
    "d['b'][1].append('world')\n",
    "d"
   ]
  },
  {
   "cell_type": "markdown",
   "metadata": {},
   "source": [
    "# 計數器\n",
    "---\n"
   ]
  },
  {
   "cell_type": "code",
   "execution_count": 36,
   "metadata": {},
   "outputs": [
    {
     "name": "stdout",
     "output_type": "stream",
     "text": [
      "Counter({'l': 2, 'h': 1, 'e': 1, 'o': 1})\n",
      "'The children vote for vanilla ice cream'\n"
     ]
    }
   ],
   "source": [
    "from collections import Counter\n",
    "\n",
    "# 直接使用 Counter 做字母計數\n",
    "pprint(Counter('hello'))\n",
    "\n",
    "responses = [\n",
    "    'vanilla',\n",
    "    'chocolate',\n",
    "    'vanilla',\n",
    "    'vanilla',\n",
    "    'caramel',\n",
    "    'strawberry',\n",
    "    'vanilla'\n",
    "]\n",
    "\n",
    "# Counter 還有好用的 most_common 方法\n",
    "# 根據計數做排序，在用參數選擇要幾個排名\n",
    "# 再用index方式直接回傳計數最多的項目\n",
    "pprint(f'The children vote for {Counter(responses).most_common(1)[0][0]} ice cream')"
   ]
  },
  {
   "cell_type": "markdown",
   "metadata": {},
   "source": [
    "# 清單\n",
    "---"
   ]
  },
  {
   "cell_type": "markdown",
   "metadata": {},
   "source": [
    "清單 List 是 Python 資料結構中最不物件導向的物件  \n",
    "清單的各式運算能將他們轉換成計算功能瑞士刀  \n",
    "  \n",
    "寫 Python 很難不用到清單  \n",
    "我們會討論何時應該使用清單以及他的物件本質  \n",
    "  \n",
    "在 Python 中\n",
    "清單通常用於儲存多個「相同」型別物件的實例，例如字串清單 or 數字清單  \n",
    "或者是自訂物件清單  \n",
    "  \n",
    "清單在需要修改內容時，不管是插入某個位置或刪除也都很容易  \n",
    "Python 的清單使用非常有效率且精密調整過的內部資料結構  \n",
    "讓我們思考要儲存什麼而不是如何儲存  \n",
    "  \n",
    "清單也是物件  \n",
    "以下是常用的方法  \n",
    "`append(element)` 將元素加到清單後面  \n",
    "`insert(index, element)` 將元素插入到指定位置  \n",
    "`count(element)` 告訴我們元素在清單中出現幾次  \n",
    "`index()` 告訴我們項目在清單中的索引位置  \n",
    "`find()` 跟 `index()` 一樣，找不到則拋回 `-1 `   \n",
    "`reverse()` 將清單倒轉  \n",
    "`sort()`  排序，有相當複雜的物件導向行為，接下來討論這個  "
   ]
  },
  {
   "cell_type": "markdown",
   "metadata": {},
   "source": [
    "# 清單排序\n",
    "---\n",
    "`sort()`不用參數就能做出排序  \n",
    "依字母順序，大寫在小寫前  \n",
    "數字由小到大  \n",
    "  \n",
    "如果我們想要將自訂物件放進清單中進行排序  \n",
    "我們必須做一點工作  \n",
    "`__lt__`這個特殊方法表「小於」  \n",
    "應該要定義在類別中讓該類別的實例可以進行比較  \n",
    "清單的 `sort` 方法會存取每個物件上的這個方法來判別位置  \n",
    "此方法應該在我們的類別小於傳入的參數時回傳True  \n"
   ]
  },
  {
   "cell_type": "code",
   "execution_count": 1,
   "metadata": {},
   "outputs": [],
   "source": [
    "class WeirdSortee:\n",
    "    def __init__(self, string, number, sort_num):\n",
    "        self.string = string\n",
    "        self.number = number\n",
    "        self.sort_num = sort_num\n",
    "    \n",
    "    def __lt__(self, object):\n",
    "        if self.sort_num:\n",
    "            return self.number < object.number\n",
    "        return self.string < object.string\n",
    "    \n",
    "    def __repr__(self):\n",
    "        return f\"{self.string}:{self.number}\""
   ]
  },
  {
   "cell_type": "code",
   "execution_count": 5,
   "metadata": {},
   "outputs": [
    {
     "name": "stdout",
     "output_type": "stream",
     "text": [
      "[a:4, b:3, c:2, d:1]\n",
      "[d:1, c:2, b:3, a:4]\n",
      "[a:4, b:3, c:2, d:1]\n"
     ]
    }
   ],
   "source": [
    "a = WeirdSortee('a',4,True)\n",
    "b = WeirdSortee('b',3,True)\n",
    "c = WeirdSortee('c',2,True)\n",
    "d = WeirdSortee('d',1,True)\n",
    "l = [a,b,c,d]\n",
    "print(l)\n",
    "l.sort()\n",
    "print(l)\n",
    "\n",
    "for i in l:\n",
    "    i.sort_num = False\n",
    "l.sort()\n",
    "print(l)"
   ]
  },
  {
   "cell_type": "markdown",
   "metadata": {},
   "source": [
    "`__lt__` 方法是排序唯一要實作的方法  \n",
    "在技術上  \n",
    "該類別也應該實作類似的 `__gt__`、`__eq__`、`__ne__`、`__ge__`、`__le__`  \n",
    "讓運算元 <、>、==、!=、>=、<= 也能運作  \n",
    "我們也可以在實作 `__lt__`、`__eq__` 後套用 `@total_ordering` 裝飾器取得其餘功能"
   ]
  },
  {
   "cell_type": "code",
   "execution_count": 6,
   "metadata": {},
   "outputs": [],
   "source": [
    "from functools import total_ordering\n",
    "\n",
    "@total_ordering\n",
    "class WeirdSortee:\n",
    "    def __init__(self, string, number, sort_num) -> None:\n",
    "        self.string = string\n",
    "        self.number = number\n",
    "        self.sort_num = sort_num\n",
    "    \n",
    "    def __lt__(self, object):\n",
    "        if self.sort_num:\n",
    "            return self.number < object.number\n",
    "        return self.string < object.string\n",
    "    \n",
    "    def __repr__(self):\n",
    "        return f\"{self.string}:{self.number}\"\n",
    "\n",
    "    def __eq__(self, o: object) -> bool:\n",
    "        return all((\n",
    "            self.string == o.string, \n",
    "            self.number == o.number,\n",
    "            self.sort_num == o.sort_num\n",
    "        ))"
   ]
  },
  {
   "cell_type": "markdown",
   "metadata": {},
   "source": [
    "若我們想要自訂排序  \n",
    "`sort()` 可以選用 `key` 參數  \n",
    "譬如我們想要將所有字串都轉成小寫在進行排序  "
   ]
  },
  {
   "cell_type": "code",
   "execution_count": 10,
   "metadata": {},
   "outputs": [
    {
     "name": "stdout",
     "output_type": "stream",
     "text": [
      "['HELP', 'Helo', 'hello']\n",
      "['hello', 'Helo', 'HELP']\n"
     ]
    }
   ],
   "source": [
    "l = ['hello','HELP','Helo']\n",
    "l.sort()\n",
    "print(l)\n",
    "l.sort(key=str.lower)\n",
    "print(l)"
   ]
  },
  {
   "cell_type": "markdown",
   "metadata": {},
   "source": [
    "有幾個排序鍵很普遍所以Python有提供讓我們不必自行撰寫  \n",
    "舉例來說  \n",
    "以非清單中第一個index項目來對資料組排序  \n",
    "我們可以使用 `operator.itemgetter` 方法"
   ]
  },
  {
   "cell_type": "code",
   "execution_count": 12,
   "metadata": {},
   "outputs": [
    {
     "data": {
      "text/plain": [
       "[('p', 1), ('y', 2), ('t', 3), ('h', 4), ('o', 5), ('n', 6)]"
      ]
     },
     "execution_count": 12,
     "metadata": {},
     "output_type": "execute_result"
    }
   ],
   "source": [
    "from operator import itemgetter\n",
    "\n",
    "l = [('h',4), ('n',6), ('o',5), ('p',1), ('t',3), ('y',2)]\n",
    "l.sort(key=itemgetter(1))\n",
    "l"
   ]
  },
  {
   "cell_type": "markdown",
   "metadata": {},
   "source": [
    "# 集合\n",
    "---\n"
   ]
  },
  {
   "cell_type": "markdown",
   "metadata": {},
   "source": [
    "清單是個多才多藝的工具  \n",
    "但他們想確保清單中物件的唯一性則沒有用處  \n",
    "集合可以解決這個問題  \n",
    "  \n",
    "在 Python 中  \n",
    "集合不只能儲存數字  \n",
    "也可以儲存可雜湊的物件  \n",
    "可雜湊物件是可作為字典鍵的相同物件  \n",
    "因此清單和字典不能儲存在集合裡  \n",
    "如同數學上的集合  \n",
    "每個物件只能儲存一份  "
   ]
  },
  {
   "cell_type": "code",
   "execution_count": 2,
   "metadata": {},
   "outputs": [],
   "source": [
    "song_library = [\n",
    "    (\"Phantom of The Opera\", \"Sarah Brightman\"),\n",
    "    (\"Knocking On Heaven's Door\", \"Guns N' Roses\"),\n",
    "    (\"Captain Nemo\", \"Sarah Brightman\"),\n",
    "    (\"Patterns In the Ivy\", \"Opeth\"), \n",
    "    (\"November Rain\", \"Guns N' Roses\"), \n",
    "    (\"Beautiful\", \"Sarah Brightman\"), \n",
    "    (\"Mal's Song\", \"Vixy and Tony\"), \n",
    "]"
   ]
  },
  {
   "cell_type": "code",
   "execution_count": 4,
   "metadata": {},
   "outputs": [
    {
     "name": "stdout",
     "output_type": "stream",
     "text": [
      "{'Opeth', 'Vixy and Tony', \"Guns N' Roses\", 'Sarah Brightman'}\n"
     ]
    }
   ],
   "source": [
    "artists = set()\n",
    "for song, artist in song_library:\n",
    "    artists.add(artist)\n",
    "\n",
    "print(artists)"
   ]
  },
  {
   "cell_type": "markdown",
   "metadata": {},
   "source": [
    "集合也可以像清單和字典一樣用內鍵語法  \n",
    "使用大括弧 `{ }` 即可  \n",
    "如果是一個鍵+冒號+值+逗點作為字典  \n",
    "如果大括號內全部都是值並以逗點分隔  \n",
    "就變成 set 了"
   ]
  },
  {
   "cell_type": "markdown",
   "metadata": {},
   "source": [
    "我們可以觀察到  \n",
    "set 印出來的東西可能與加入集合的順序不同  \n",
    "是因為他們在雜湊中為了求效率而這樣排列  \n",
    "因此集合也沒有索引值  \n",
    "集合的目的就只是把東西分成兩群  \n",
    "分為 集合內的東西 與 集合外的東西  \n",
    "若想排序  \n",
    "就必須把集合轉回清單  "
   ]
  },
  {
   "cell_type": "code",
   "execution_count": 5,
   "metadata": {},
   "outputs": [
    {
     "data": {
      "text/plain": [
       "True"
      ]
     },
     "execution_count": 5,
     "metadata": {},
     "output_type": "execute_result"
    }
   ],
   "source": [
    "'Opeth' in artists\n"
   ]
  },
  {
   "cell_type": "code",
   "execution_count": 6,
   "metadata": {},
   "outputs": [
    {
     "name": "stdout",
     "output_type": "stream",
     "text": [
      "Opeth plays good music\n",
      "Vixy and Tony plays good music\n",
      "Guns N' Roses plays good music\n",
      "Sarah Brightman plays good music\n"
     ]
    }
   ],
   "source": [
    "for artist in artists:\n",
    "    print(f'{artist} plays good music')"
   ]
  },
  {
   "cell_type": "code",
   "execution_count": 7,
   "metadata": {},
   "outputs": [
    {
     "data": {
      "text/plain": [
       "[\"Guns N' Roses\", 'Opeth', 'Sarah Brightman', 'Vixy and Tony']"
      ]
     },
     "execution_count": 7,
     "metadata": {},
     "output_type": "execute_result"
    }
   ],
   "source": [
    "alphabetical = list(artists)\n",
    "alphabetical.sort()\n",
    "alphabetical"
   ]
  },
  {
   "cell_type": "markdown",
   "metadata": {},
   "source": [
    "集合最常用的包括聯集交集與對稱差集  \n",
    "範例如下  \n"
   ]
  },
  {
   "cell_type": "code",
   "execution_count": 11,
   "metadata": {},
   "outputs": [
    {
     "name": "stdout",
     "output_type": "stream",
     "text": [
      "All: {\"Guns N' Roses\", 'Savage Garden', 'Opeth', 'Vixy and Tony', 'Nickelback', 'Sarah Brightman'}\n",
      "Both: {\"Guns N' Roses\"}\n",
      "Either but not both: {'Opeth', 'Vixy and Tony', 'Savage Garden', 'Nickelback', 'Sarah Brightman'}\n"
     ]
    }
   ],
   "source": [
    "my_artists = {'Opeth', 'Vixy and Tony', \"Guns N' Roses\", 'Sarah Brightman'}\n",
    "auburns_artists = {\"Nickelback\", \"Guns N' Roses\", \"Savage Garden\"}\n",
    "\n",
    "print(f'All: {my_artists.union(auburns_artists)}')\n",
    "print(f'Both: {my_artists.intersection(auburns_artists)}')\n",
    "print(f'Either but not both: {my_artists.symmetric_difference(auburns_artists)}')"
   ]
  },
  {
   "cell_type": "markdown",
   "metadata": {},
   "source": [
    "集合常用的還有判斷  \n",
    "某集合是不是屬於某集合  \n",
    "或是某集合是不是某集合的超集合  "
   ]
  },
  {
   "cell_type": "code",
   "execution_count": 20,
   "metadata": {},
   "outputs": [
    {
     "name": "stdout",
     "output_type": "stream",
     "text": [
      "{'Opeth', 'Vixy and Tony', \"Guns N' Roses\", 'Sarah Brightman'} is to {'Opeth', \"Guns N' Roses\"}\n",
      "issuperset: True\n",
      "issubet: False\n",
      "difference: {'Vixy and Tony', 'Sarah Brightman'}\n",
      "********************\n",
      "{'Opeth', \"Guns N' Roses\"} is to {'Opeth', 'Vixy and Tony', \"Guns N' Roses\", 'Sarah Brightman'}\n",
      "issuperset: False\n",
      "issubet: True\n",
      "difference: set()\n",
      "********************\n"
     ]
    }
   ],
   "source": [
    "my_artists = {'Opeth', 'Vixy and Tony', \"Guns N' Roses\", 'Sarah Brightman'}\n",
    "bands = {\"Guns N' Roses\", \"Opeth\"}\n",
    "\n",
    "def printsetfunction(x,y):\n",
    "    print(f\"{x} is to {y}\")\n",
    "    print(f\"issuperset: {x.issuperset(y)}\")\n",
    "    print(f\"issubet: {x.issubset(y)}\")\n",
    "    print(f\"difference: {x.difference(y)}\")\n",
    "    print('*'*20)\n",
    "\n",
    "printsetfunction(my_artists, bands)\n",
    "printsetfunction(bands, my_artists)"
   ]
  },
  {
   "cell_type": "markdown",
   "metadata": {},
   "source": [
    "# 擴充內建\n",
    "---\n",
    "第三章稍微簡單討論過  \n",
    "現在進一步討論細節  \n",
    "當我們的內建物件想增加功能時  \n",
    "我們可以建構新的物件  \n",
    "或是繼承內建物件並加上或改寫方法  \n",
    "  \n",
    "物件中利用雙底線方法，稱為特殊方法    \n",
    "可使整個程式變得更簡潔變得更沒那麼物件導向  \n",
    "例如  "
   ]
  },
  {
   "cell_type": "code",
   "execution_count": 21,
   "metadata": {},
   "outputs": [
    {
     "data": {
      "text/plain": [
       "0"
      ]
     },
     "execution_count": 21,
     "metadata": {},
     "output_type": "execute_result"
    }
   ],
   "source": [
    "class SillyInt(int):\n",
    "    def __add__(self, num):\n",
    "        return 0\n",
    "\n",
    "a = SillyInt(1)\n",
    "b = SillyInt(2)\n",
    "a + b"
   ]
  },
  {
   "cell_type": "markdown",
   "metadata": {},
   "source": [
    "透過 `__add__` 讓物件在做相加時  \n",
    "不必再透過呼叫方法  \n",
    "而是利用 `+` 號即可  \n",
    "使得整個更為簡單易懂"
   ]
  },
  {
   "cell_type": "markdown",
   "metadata": {},
   "source": [
    "對所有特殊方法來說都是透過雙底線來實現  \n",
    "例如我們想要使用 `x in myobj` 我們可以實作 `__contains__`  \n",
    "若想要使用 `myobj[i] = value` 我們可以提供 `__setitem__` 語法  \n",
    "若想要使用 `something = myobj[i]` 我們可以提供 `__getitem__` 語法  \n",
    "在list類別中  \n",
    "有33個這樣的特殊方法"
   ]
  },
  {
   "cell_type": "code",
   "execution_count": 22,
   "metadata": {},
   "outputs": [
    {
     "data": {
      "text/plain": [
       "['__add__',\n",
       " '__class__',\n",
       " '__contains__',\n",
       " '__delattr__',\n",
       " '__delitem__',\n",
       " '__dir__',\n",
       " '__doc__',\n",
       " '__eq__',\n",
       " '__format__',\n",
       " '__ge__',\n",
       " '__getattribute__',\n",
       " '__getitem__',\n",
       " '__gt__',\n",
       " '__hash__',\n",
       " '__iadd__',\n",
       " '__imul__',\n",
       " '__init__',\n",
       " '__init_subclass__',\n",
       " '__iter__',\n",
       " '__le__',\n",
       " '__len__',\n",
       " '__lt__',\n",
       " '__mul__',\n",
       " '__ne__',\n",
       " '__new__',\n",
       " '__reduce__',\n",
       " '__reduce_ex__',\n",
       " '__repr__',\n",
       " '__reversed__',\n",
       " '__rmul__',\n",
       " '__setattr__',\n",
       " '__setitem__',\n",
       " '__sizeof__',\n",
       " '__str__',\n",
       " '__subclasshook__',\n",
       " 'append',\n",
       " 'clear',\n",
       " 'copy',\n",
       " 'count',\n",
       " 'extend',\n",
       " 'index',\n",
       " 'insert',\n",
       " 'pop',\n",
       " 'remove',\n",
       " 'reverse',\n",
       " 'sort']"
      ]
     },
     "execution_count": 22,
     "metadata": {},
     "output_type": "execute_result"
    }
   ],
   "source": [
    "dir(list)"
   ]
  },
  {
   "cell_type": "markdown",
   "metadata": {},
   "source": [
    "想知道以上方法，可以使用 `help` 函式"
   ]
  },
  {
   "cell_type": "code",
   "execution_count": 23,
   "metadata": {},
   "outputs": [
    {
     "name": "stdout",
     "output_type": "stream",
     "text": [
      "Help on wrapper_descriptor:\n",
      "\n",
      "__add__(self, value, /)\n",
      "    Return self+value.\n",
      "\n"
     ]
    }
   ],
   "source": [
    "help(list.__add__)"
   ]
  },
  {
   "cell_type": "markdown",
   "metadata": {},
   "source": [
    "接下來試做一個會按照輸入順序 print 的字典  "
   ]
  },
  {
   "cell_type": "code",
   "execution_count": 26,
   "metadata": {},
   "outputs": [],
   "source": [
    "from collections import KeysView, ItemsView, ValuesView\n",
    "\n",
    "class DictSorted(dict):\n",
    "\n",
    "    def __new__(*args, **kwargs):\n",
    "        new_dict = dict.__new__(*args, **kwargs)\n",
    "        new_dict.ordered_keys = []\n",
    "        return new_dict\n",
    "    \n",
    "    def __setitem__(self, key, value) -> None:\n",
    "        '''self[key] = value syntax'''\n",
    "        if key not in self.ordered_keys:\n",
    "            self.ordered_keys.append(key)\n",
    "        super().__setitem__(key, value)\n",
    "    \n",
    "    def setdefault(self, key, value):\n",
    "        if key not in self.ordered_keys:\n",
    "            self.ordered_keys.append(key)\n",
    "        return super().setdefault(key, value)\n",
    "    \n",
    "    def keys(self):\n",
    "        return KeysView(self)\n",
    "    \n",
    "    def values(self):\n",
    "        return ValuesView(self)\n",
    "\n",
    "    def items(self):\n",
    "        return ItemsView(self)\n",
    "    \n",
    "    def __iter__(self):\n",
    "        '''for x in self syntax'''\n",
    "        return self.ordered_keys.__iter__()"
   ]
  },
  {
   "cell_type": "markdown",
   "metadata": {},
   "source": [
    "`__new__` 建構新字典  \n",
    "然後將空清單放進物件中  \n",
    "`keys`, `items`, `values` 都回傳字典的視圖  \n",
    "使用 `__iter__` 方法逐個處理 key  \n",
    "使用 `__getitem__` 讀取值  \n",
    "\n"
   ]
  },
  {
   "cell_type": "code",
   "execution_count": 27,
   "metadata": {},
   "outputs": [
    {
     "data": {
      "text/plain": [
       "3"
      ]
     },
     "execution_count": 27,
     "metadata": {},
     "output_type": "execute_result"
    }
   ],
   "source": [
    "ds = DictSorted()\n",
    "d = {}\n",
    "\n",
    "ds['a'] = 1\n",
    "ds['b'] = 2\n",
    "ds.setdefault('c',3 )"
   ]
  },
  {
   "cell_type": "code",
   "execution_count": 28,
   "metadata": {},
   "outputs": [
    {
     "data": {
      "text/plain": [
       "3"
      ]
     },
     "execution_count": 28,
     "metadata": {},
     "output_type": "execute_result"
    }
   ],
   "source": [
    "d['a'] = 1\n",
    "d['b'] = 2\n",
    "d.setdefault('c', 3)"
   ]
  },
  {
   "cell_type": "code",
   "execution_count": 30,
   "metadata": {},
   "outputs": [
    {
     "name": "stdout",
     "output_type": "stream",
     "text": [
      "a 1\n",
      "b 2\n",
      "c 3\n"
     ]
    }
   ],
   "source": [
    "for k, v in ds.items():\n",
    "    print(k,v)"
   ]
  },
  {
   "cell_type": "code",
   "execution_count": 31,
   "metadata": {},
   "outputs": [
    {
     "name": "stdout",
     "output_type": "stream",
     "text": [
      "a 1\n",
      "b 2\n",
      "c 3\n"
     ]
    }
   ],
   "source": [
    "for k, v in d.items():\n",
    "    print(k,v)"
   ]
  },
  {
   "cell_type": "markdown",
   "metadata": {},
   "source": [
    "實作出來發現，看來 Python 3.7 還是有照輸入順序排序 ?"
   ]
  },
  {
   "cell_type": "markdown",
   "metadata": {},
   "source": [
    "# 佇列\n",
    "---\n",
    "佇列如同集合，是特殊的資料結構  \n",
    "他們的功能完全可以用清單去處理  \n",
    "但清單有時卻不是最有效率的工具  \n",
    "  \n",
    "在開始佇列之前  \n",
    "Python 的清單在以下情境是具優勢的資料結構  \n",
    "* 支援高效率的清單元素隨機存取\n",
    "* 具有嚴格的元素排序\n",
    "* 支援高效率的新增操作  \n",
    "  \n",
    "但若你在任意位置而非最後(特別是在開頭)插入元素會比較慢  \n",
    "檢查元素是否在清單也會較慢  \n",
    "搜尋也較慢"
   ]
  },
  {
   "cell_type": "markdown",
   "metadata": {},
   "source": [
    "# FIFO 佇列\n",
    "---\n",
    "FIFO 表示先進先出  \n",
    "最普遍認同的定義  \n",
    "  \n",
    "Python 的 Queue 類別就是這樣  \n",
    "他通常用來作為一或多個產生資料的物件，被一或多個其他物件以某種不同速率的方式取用資料時的交流工具  \n",
    "  \n",
    "Queue 是除了要取用下一個物件外都無須存取資料結構內的任何資料時的好選擇  \n",
    "Queue 具〝無限〞(直到電腦記憶體耗盡)的容量    \n",
    "但通常會設置最大限制  \n",
    "其主要方法為 `put()` 與 `get()` 用來加入元素到隊伍後面和取出目前最前面的元素  \n",
    "這兩個方法都還有選擇性參數來處理當佇列是空或滿時的狀況，不然 `put()` 和 `get()` 都要等到 Queue 物件有資料或有空間時才會完成操作    \n",
    "Queue也提供了 `full()` 和 `empty()` 來判斷 Queue 是滿或空  \n"
   ]
  },
  {
   "cell_type": "code",
   "execution_count": 1,
   "metadata": {},
   "outputs": [
    {
     "ename": "Empty",
     "evalue": "",
     "output_type": "error",
     "traceback": [
      "\u001b[1;31m---------------------------------------------------------------------------\u001b[0m",
      "\u001b[1;31mEmpty\u001b[0m                                     Traceback (most recent call last)",
      "\u001b[1;32m~\\AppData\\Local\\Temp/ipykernel_10076/4146506432.py\u001b[0m in \u001b[0;36m<module>\u001b[1;34m\u001b[0m\n\u001b[0;32m      2\u001b[0m \u001b[1;33m\u001b[0m\u001b[0m\n\u001b[0;32m      3\u001b[0m \u001b[0mlineup\u001b[0m \u001b[1;33m=\u001b[0m \u001b[0mQueue\u001b[0m\u001b[1;33m(\u001b[0m\u001b[0mmaxsize\u001b[0m\u001b[1;33m=\u001b[0m\u001b[1;36m3\u001b[0m\u001b[1;33m)\u001b[0m\u001b[1;33m\u001b[0m\u001b[1;33m\u001b[0m\u001b[0m\n\u001b[1;32m----> 4\u001b[1;33m \u001b[0mlineup\u001b[0m\u001b[1;33m.\u001b[0m\u001b[0mget\u001b[0m\u001b[1;33m(\u001b[0m\u001b[0mblock\u001b[0m \u001b[1;33m=\u001b[0m \u001b[1;32mFalse\u001b[0m\u001b[1;33m,\u001b[0m \u001b[0mtimeout\u001b[0m\u001b[1;33m=\u001b[0m\u001b[1;36m1\u001b[0m\u001b[1;33m)\u001b[0m\u001b[1;33m\u001b[0m\u001b[1;33m\u001b[0m\u001b[0m\n\u001b[0m",
      "\u001b[1;32mc:\\users\\user\\appdata\\local\\programs\\python\\python37\\lib\\queue.py\u001b[0m in \u001b[0;36mget\u001b[1;34m(self, block, timeout)\u001b[0m\n\u001b[0;32m    165\u001b[0m             \u001b[1;32mif\u001b[0m \u001b[1;32mnot\u001b[0m \u001b[0mblock\u001b[0m\u001b[1;33m:\u001b[0m\u001b[1;33m\u001b[0m\u001b[1;33m\u001b[0m\u001b[0m\n\u001b[0;32m    166\u001b[0m                 \u001b[1;32mif\u001b[0m \u001b[1;32mnot\u001b[0m \u001b[0mself\u001b[0m\u001b[1;33m.\u001b[0m\u001b[0m_qsize\u001b[0m\u001b[1;33m(\u001b[0m\u001b[1;33m)\u001b[0m\u001b[1;33m:\u001b[0m\u001b[1;33m\u001b[0m\u001b[1;33m\u001b[0m\u001b[0m\n\u001b[1;32m--> 167\u001b[1;33m                     \u001b[1;32mraise\u001b[0m \u001b[0mEmpty\u001b[0m\u001b[1;33m\u001b[0m\u001b[1;33m\u001b[0m\u001b[0m\n\u001b[0m\u001b[0;32m    168\u001b[0m             \u001b[1;32melif\u001b[0m \u001b[0mtimeout\u001b[0m \u001b[1;32mis\u001b[0m \u001b[1;32mNone\u001b[0m\u001b[1;33m:\u001b[0m\u001b[1;33m\u001b[0m\u001b[1;33m\u001b[0m\u001b[0m\n\u001b[0;32m    169\u001b[0m                 \u001b[1;32mwhile\u001b[0m \u001b[1;32mnot\u001b[0m \u001b[0mself\u001b[0m\u001b[1;33m.\u001b[0m\u001b[0m_qsize\u001b[0m\u001b[1;33m(\u001b[0m\u001b[1;33m)\u001b[0m\u001b[1;33m:\u001b[0m\u001b[1;33m\u001b[0m\u001b[1;33m\u001b[0m\u001b[0m\n",
      "\u001b[1;31mEmpty\u001b[0m: "
     ]
    }
   ],
   "source": [
    "from queue import Queue\n",
    "\n",
    "lineup = Queue(maxsize=3)\n",
    "lineup.get(block = False, timeout=1)"
   ]
  },
  {
   "cell_type": "code",
   "execution_count": 2,
   "metadata": {},
   "outputs": [
    {
     "ename": "Full",
     "evalue": "",
     "output_type": "error",
     "traceback": [
      "\u001b[1;31m---------------------------------------------------------------------------\u001b[0m",
      "\u001b[1;31mFull\u001b[0m                                      Traceback (most recent call last)",
      "\u001b[1;32m~\\AppData\\Local\\Temp/ipykernel_10076/555344805.py\u001b[0m in \u001b[0;36m<module>\u001b[1;34m\u001b[0m\n\u001b[0;32m      2\u001b[0m \u001b[0mlineup\u001b[0m\u001b[1;33m.\u001b[0m\u001b[0mput\u001b[0m\u001b[1;33m(\u001b[0m\u001b[1;34m'two'\u001b[0m\u001b[1;33m)\u001b[0m\u001b[1;33m\u001b[0m\u001b[1;33m\u001b[0m\u001b[0m\n\u001b[0;32m      3\u001b[0m \u001b[0mlineup\u001b[0m\u001b[1;33m.\u001b[0m\u001b[0mput\u001b[0m\u001b[1;33m(\u001b[0m\u001b[1;34m'three'\u001b[0m\u001b[1;33m)\u001b[0m\u001b[1;33m\u001b[0m\u001b[1;33m\u001b[0m\u001b[0m\n\u001b[1;32m----> 4\u001b[1;33m \u001b[0mlineup\u001b[0m\u001b[1;33m.\u001b[0m\u001b[0mput\u001b[0m\u001b[1;33m(\u001b[0m\u001b[1;34m'four'\u001b[0m\u001b[1;33m,\u001b[0m \u001b[0mtimeout\u001b[0m\u001b[1;33m=\u001b[0m\u001b[1;36m1\u001b[0m\u001b[1;33m)\u001b[0m\u001b[1;33m\u001b[0m\u001b[1;33m\u001b[0m\u001b[0m\n\u001b[0m",
      "\u001b[1;32mc:\\users\\user\\appdata\\local\\programs\\python\\python37\\lib\\queue.py\u001b[0m in \u001b[0;36mput\u001b[1;34m(self, item, block, timeout)\u001b[0m\n\u001b[0;32m    145\u001b[0m                         \u001b[0mremaining\u001b[0m \u001b[1;33m=\u001b[0m \u001b[0mendtime\u001b[0m \u001b[1;33m-\u001b[0m \u001b[0mtime\u001b[0m\u001b[1;33m(\u001b[0m\u001b[1;33m)\u001b[0m\u001b[1;33m\u001b[0m\u001b[1;33m\u001b[0m\u001b[0m\n\u001b[0;32m    146\u001b[0m                         \u001b[1;32mif\u001b[0m \u001b[0mremaining\u001b[0m \u001b[1;33m<=\u001b[0m \u001b[1;36m0.0\u001b[0m\u001b[1;33m:\u001b[0m\u001b[1;33m\u001b[0m\u001b[1;33m\u001b[0m\u001b[0m\n\u001b[1;32m--> 147\u001b[1;33m                             \u001b[1;32mraise\u001b[0m \u001b[0mFull\u001b[0m\u001b[1;33m\u001b[0m\u001b[1;33m\u001b[0m\u001b[0m\n\u001b[0m\u001b[0;32m    148\u001b[0m                         \u001b[0mself\u001b[0m\u001b[1;33m.\u001b[0m\u001b[0mnot_full\u001b[0m\u001b[1;33m.\u001b[0m\u001b[0mwait\u001b[0m\u001b[1;33m(\u001b[0m\u001b[0mremaining\u001b[0m\u001b[1;33m)\u001b[0m\u001b[1;33m\u001b[0m\u001b[1;33m\u001b[0m\u001b[0m\n\u001b[0;32m    149\u001b[0m             \u001b[0mself\u001b[0m\u001b[1;33m.\u001b[0m\u001b[0m_put\u001b[0m\u001b[1;33m(\u001b[0m\u001b[0mitem\u001b[0m\u001b[1;33m)\u001b[0m\u001b[1;33m\u001b[0m\u001b[1;33m\u001b[0m\u001b[0m\n",
      "\u001b[1;31mFull\u001b[0m: "
     ]
    }
   ],
   "source": [
    "lineup.put('one')\n",
    "lineup.put('two')\n",
    "lineup.put('three')\n",
    "lineup.put('four', timeout=1)"
   ]
  },
  {
   "cell_type": "code",
   "execution_count": 3,
   "metadata": {},
   "outputs": [
    {
     "data": {
      "text/plain": [
       "True"
      ]
     },
     "execution_count": 3,
     "metadata": {},
     "output_type": "execute_result"
    }
   ],
   "source": [
    "lineup.full()"
   ]
  },
  {
   "cell_type": "code",
   "execution_count": 4,
   "metadata": {},
   "outputs": [
    {
     "data": {
      "text/plain": [
       "'one'"
      ]
     },
     "execution_count": 4,
     "metadata": {},
     "output_type": "execute_result"
    }
   ],
   "source": [
    "lineup.get()"
   ]
  },
  {
   "cell_type": "code",
   "execution_count": 5,
   "metadata": {},
   "outputs": [
    {
     "data": {
      "text/plain": [
       "'two'"
      ]
     },
     "execution_count": 5,
     "metadata": {},
     "output_type": "execute_result"
    }
   ],
   "source": [
    "lineup.get()"
   ]
  },
  {
   "cell_type": "code",
   "execution_count": 6,
   "metadata": {},
   "outputs": [
    {
     "data": {
      "text/plain": [
       "'three'"
      ]
     },
     "execution_count": 6,
     "metadata": {},
     "output_type": "execute_result"
    }
   ],
   "source": [
    "lineup.get()"
   ]
  },
  {
   "cell_type": "code",
   "execution_count": 7,
   "metadata": {},
   "outputs": [
    {
     "data": {
      "text/plain": [
       "True"
      ]
     },
     "execution_count": 7,
     "metadata": {},
     "output_type": "execute_result"
    }
   ],
   "source": [
    "lineup.empty()"
   ]
  },
  {
   "cell_type": "markdown",
   "metadata": {},
   "source": [
    "# LIFO 佇列\n",
    "---\n"
   ]
  },
  {
   "cell_type": "markdown",
   "metadata": {},
   "source": [
    "LIFO 佇列通常稱為堆疊(stack)  \n",
    "是一個後進先出的佇列模式"
   ]
  },
  {
   "cell_type": "code",
   "execution_count": 1,
   "metadata": {},
   "outputs": [
    {
     "ename": "Full",
     "evalue": "",
     "output_type": "error",
     "traceback": [
      "\u001b[1;31m---------------------------------------------------------------------------\u001b[0m",
      "\u001b[1;31mFull\u001b[0m                                      Traceback (most recent call last)",
      "\u001b[1;32m~\\AppData\\Local\\Temp/ipykernel_624/141288014.py\u001b[0m in \u001b[0;36m<module>\u001b[1;34m\u001b[0m\n\u001b[0;32m      5\u001b[0m \u001b[0mstack\u001b[0m\u001b[1;33m.\u001b[0m\u001b[0mput\u001b[0m\u001b[1;33m(\u001b[0m\u001b[1;34m'two'\u001b[0m\u001b[1;33m)\u001b[0m\u001b[1;33m\u001b[0m\u001b[1;33m\u001b[0m\u001b[0m\n\u001b[0;32m      6\u001b[0m \u001b[0mstack\u001b[0m\u001b[1;33m.\u001b[0m\u001b[0mput\u001b[0m\u001b[1;33m(\u001b[0m\u001b[1;34m'three'\u001b[0m\u001b[1;33m)\u001b[0m\u001b[1;33m\u001b[0m\u001b[1;33m\u001b[0m\u001b[0m\n\u001b[1;32m----> 7\u001b[1;33m \u001b[0mstack\u001b[0m\u001b[1;33m.\u001b[0m\u001b[0mput\u001b[0m\u001b[1;33m(\u001b[0m\u001b[1;34m'four'\u001b[0m\u001b[1;33m,\u001b[0m \u001b[0mblock\u001b[0m\u001b[1;33m=\u001b[0m\u001b[1;32mFalse\u001b[0m\u001b[1;33m)\u001b[0m\u001b[1;33m\u001b[0m\u001b[1;33m\u001b[0m\u001b[0m\n\u001b[0m",
      "\u001b[1;32mc:\\users\\user\\appdata\\local\\programs\\python\\python37\\lib\\queue.py\u001b[0m in \u001b[0;36mput\u001b[1;34m(self, item, block, timeout)\u001b[0m\n\u001b[0;32m    134\u001b[0m                 \u001b[1;32mif\u001b[0m \u001b[1;32mnot\u001b[0m \u001b[0mblock\u001b[0m\u001b[1;33m:\u001b[0m\u001b[1;33m\u001b[0m\u001b[1;33m\u001b[0m\u001b[0m\n\u001b[0;32m    135\u001b[0m                     \u001b[1;32mif\u001b[0m \u001b[0mself\u001b[0m\u001b[1;33m.\u001b[0m\u001b[0m_qsize\u001b[0m\u001b[1;33m(\u001b[0m\u001b[1;33m)\u001b[0m \u001b[1;33m>=\u001b[0m \u001b[0mself\u001b[0m\u001b[1;33m.\u001b[0m\u001b[0mmaxsize\u001b[0m\u001b[1;33m:\u001b[0m\u001b[1;33m\u001b[0m\u001b[1;33m\u001b[0m\u001b[0m\n\u001b[1;32m--> 136\u001b[1;33m                         \u001b[1;32mraise\u001b[0m \u001b[0mFull\u001b[0m\u001b[1;33m\u001b[0m\u001b[1;33m\u001b[0m\u001b[0m\n\u001b[0m\u001b[0;32m    137\u001b[0m                 \u001b[1;32melif\u001b[0m \u001b[0mtimeout\u001b[0m \u001b[1;32mis\u001b[0m \u001b[1;32mNone\u001b[0m\u001b[1;33m:\u001b[0m\u001b[1;33m\u001b[0m\u001b[1;33m\u001b[0m\u001b[0m\n\u001b[0;32m    138\u001b[0m                     \u001b[1;32mwhile\u001b[0m \u001b[0mself\u001b[0m\u001b[1;33m.\u001b[0m\u001b[0m_qsize\u001b[0m\u001b[1;33m(\u001b[0m\u001b[1;33m)\u001b[0m \u001b[1;33m>=\u001b[0m \u001b[0mself\u001b[0m\u001b[1;33m.\u001b[0m\u001b[0mmaxsize\u001b[0m\u001b[1;33m:\u001b[0m\u001b[1;33m\u001b[0m\u001b[1;33m\u001b[0m\u001b[0m\n",
      "\u001b[1;31mFull\u001b[0m: "
     ]
    }
   ],
   "source": [
    "from queue import LifoQueue\n",
    "\n",
    "stack = LifoQueue(maxsize=3)\n",
    "stack.put('one')\n",
    "stack.put('two')\n",
    "stack.put('three')\n",
    "stack.put('four', block=False)"
   ]
  },
  {
   "cell_type": "code",
   "execution_count": 2,
   "metadata": {},
   "outputs": [
    {
     "data": {
      "text/plain": [
       "'three'"
      ]
     },
     "execution_count": 2,
     "metadata": {},
     "output_type": "execute_result"
    }
   ],
   "source": [
    "stack.get()"
   ]
  },
  {
   "cell_type": "code",
   "execution_count": 3,
   "metadata": {},
   "outputs": [
    {
     "data": {
      "text/plain": [
       "'two'"
      ]
     },
     "execution_count": 3,
     "metadata": {},
     "output_type": "execute_result"
    }
   ],
   "source": [
    "stack.get()"
   ]
  },
  {
   "cell_type": "code",
   "execution_count": 4,
   "metadata": {},
   "outputs": [
    {
     "data": {
      "text/plain": [
       "'one'"
      ]
     },
     "execution_count": 4,
     "metadata": {},
     "output_type": "execute_result"
    }
   ],
   "source": [
    "stack.get()"
   ]
  },
  {
   "cell_type": "code",
   "execution_count": 5,
   "metadata": {},
   "outputs": [
    {
     "data": {
      "text/plain": [
       "True"
      ]
     },
     "execution_count": 5,
     "metadata": {},
     "output_type": "execute_result"
    }
   ],
   "source": [
    "stack.empty()"
   ]
  },
  {
   "cell_type": "markdown",
   "metadata": {},
   "source": [
    "# 優先佇列\n",
    "---\n",
    "優先佇列相較於前面的佇列施行非常不同的排序方式  \n",
    "常見作法是將資料組(tuple)儲存在優先佇列中  \n",
    "資料組的第一個元素是優先順序  \n",
    "佇列中有多個相同優先順序是可以接受的  \n",
    "只是就無法保證哪一個會先被回傳  \n"
   ]
  },
  {
   "cell_type": "code",
   "execution_count": 6,
   "metadata": {},
   "outputs": [
    {
     "ename": "Full",
     "evalue": "",
     "output_type": "error",
     "traceback": [
      "\u001b[1;31m---------------------------------------------------------------------------\u001b[0m",
      "\u001b[1;31mFull\u001b[0m                                      Traceback (most recent call last)",
      "\u001b[1;32m~\\AppData\\Local\\Temp/ipykernel_624/1152811952.py\u001b[0m in \u001b[0;36m<module>\u001b[1;34m\u001b[0m\n\u001b[0;32m      6\u001b[0m \u001b[0mheap\u001b[0m\u001b[1;33m.\u001b[0m\u001b[0mput\u001b[0m\u001b[1;33m(\u001b[0m\u001b[1;33m(\u001b[0m\u001b[1;36m1\u001b[0m\u001b[1;33m,\u001b[0m \u001b[1;34m'one'\u001b[0m\u001b[1;33m)\u001b[0m\u001b[1;33m)\u001b[0m\u001b[1;33m\u001b[0m\u001b[1;33m\u001b[0m\u001b[0m\n\u001b[0;32m      7\u001b[0m \u001b[0mheap\u001b[0m\u001b[1;33m.\u001b[0m\u001b[0mput\u001b[0m\u001b[1;33m(\u001b[0m\u001b[1;33m(\u001b[0m\u001b[1;36m2\u001b[0m\u001b[1;33m,\u001b[0m \u001b[1;34m\"two\"\u001b[0m\u001b[1;33m)\u001b[0m\u001b[1;33m)\u001b[0m\u001b[1;33m\u001b[0m\u001b[1;33m\u001b[0m\u001b[0m\n\u001b[1;32m----> 8\u001b[1;33m \u001b[0mheap\u001b[0m\u001b[1;33m.\u001b[0m\u001b[0mput\u001b[0m\u001b[1;33m(\u001b[0m\u001b[1;33m(\u001b[0m\u001b[1;36m5\u001b[0m\u001b[1;33m,\u001b[0m \u001b[1;34m'five'\u001b[0m\u001b[1;33m)\u001b[0m\u001b[1;33m,\u001b[0m \u001b[0mblock\u001b[0m\u001b[1;33m=\u001b[0m\u001b[1;32mFalse\u001b[0m\u001b[1;33m)\u001b[0m\u001b[1;33m\u001b[0m\u001b[1;33m\u001b[0m\u001b[0m\n\u001b[0m",
      "\u001b[1;32mc:\\users\\user\\appdata\\local\\programs\\python\\python37\\lib\\queue.py\u001b[0m in \u001b[0;36mput\u001b[1;34m(self, item, block, timeout)\u001b[0m\n\u001b[0;32m    134\u001b[0m                 \u001b[1;32mif\u001b[0m \u001b[1;32mnot\u001b[0m \u001b[0mblock\u001b[0m\u001b[1;33m:\u001b[0m\u001b[1;33m\u001b[0m\u001b[1;33m\u001b[0m\u001b[0m\n\u001b[0;32m    135\u001b[0m                     \u001b[1;32mif\u001b[0m \u001b[0mself\u001b[0m\u001b[1;33m.\u001b[0m\u001b[0m_qsize\u001b[0m\u001b[1;33m(\u001b[0m\u001b[1;33m)\u001b[0m \u001b[1;33m>=\u001b[0m \u001b[0mself\u001b[0m\u001b[1;33m.\u001b[0m\u001b[0mmaxsize\u001b[0m\u001b[1;33m:\u001b[0m\u001b[1;33m\u001b[0m\u001b[1;33m\u001b[0m\u001b[0m\n\u001b[1;32m--> 136\u001b[1;33m                         \u001b[1;32mraise\u001b[0m \u001b[0mFull\u001b[0m\u001b[1;33m\u001b[0m\u001b[1;33m\u001b[0m\u001b[0m\n\u001b[0m\u001b[0;32m    137\u001b[0m                 \u001b[1;32melif\u001b[0m \u001b[0mtimeout\u001b[0m \u001b[1;32mis\u001b[0m \u001b[1;32mNone\u001b[0m\u001b[1;33m:\u001b[0m\u001b[1;33m\u001b[0m\u001b[1;33m\u001b[0m\u001b[0m\n\u001b[0;32m    138\u001b[0m                     \u001b[1;32mwhile\u001b[0m \u001b[0mself\u001b[0m\u001b[1;33m.\u001b[0m\u001b[0m_qsize\u001b[0m\u001b[1;33m(\u001b[0m\u001b[1;33m)\u001b[0m \u001b[1;33m>=\u001b[0m \u001b[0mself\u001b[0m\u001b[1;33m.\u001b[0m\u001b[0mmaxsize\u001b[0m\u001b[1;33m:\u001b[0m\u001b[1;33m\u001b[0m\u001b[1;33m\u001b[0m\u001b[0m\n",
      "\u001b[1;31mFull\u001b[0m: "
     ]
    }
   ],
   "source": [
    "from queue import PriorityQueue\n",
    "\n",
    "heap = PriorityQueue(maxsize=4)\n",
    "heap.put((3, \"three\"))\n",
    "heap.put((4, \"four\"))\n",
    "heap.put((1, 'one'))\n",
    "heap.put((2, \"two\"))\n",
    "heap.put((5, 'five'), block=False)"
   ]
  },
  {
   "cell_type": "code",
   "execution_count": 7,
   "metadata": {},
   "outputs": [
    {
     "name": "stdout",
     "output_type": "stream",
     "text": [
      "(1, 'one')\n",
      "(2, 'two')\n",
      "(3, 'three')\n",
      "(4, 'four')\n"
     ]
    }
   ],
   "source": [
    "while not heap.empty():\n",
    "    print(heap.get())"
   ]
  },
  {
   "cell_type": "code",
   "execution_count": null,
   "metadata": {},
   "outputs": [],
   "source": []
  }
 ],
 "metadata": {
  "interpreter": {
   "hash": "45539b59eebab2005aa4fedb9a515f3794869189fd737dea53041ed0fca9d17e"
  },
  "kernelspec": {
   "display_name": "Python 3.7.9 64-bit ('python3_oop': venv)",
   "name": "python3"
  },
  "language_info": {
   "codemirror_mode": {
    "name": "ipython",
    "version": 3
   },
   "file_extension": ".py",
   "mimetype": "text/x-python",
   "name": "python",
   "nbconvert_exporter": "python",
   "pygments_lexer": "ipython3",
   "version": "3.7.9"
  },
  "orig_nbformat": 4
 },
 "nbformat": 4,
 "nbformat_minor": 2
}
