{
 "cells": [
  {
   "cell_type": "markdown",
   "id": "452a4957",
   "metadata": {},
   "source": [
    "在程式碼的世界中  \n",
    "重複的程式碼被視為邪惡的  \n",
    "不應該有多個相同或類似的程式碼存在於不同地方  "
   ]
  },
  {
   "cell_type": "markdown",
   "id": "3e745479",
   "metadata": {},
   "source": [
    "這邊討論最著名的物件導向原則：繼承  \n",
    "繼承可以讓我們可以在兩個或以上的類別之間建構〝是一個〞的關係  \n",
    "這邊會討論：  \n",
    "* 基本繼承\n",
    "* 從內建繼承\n",
    "* 多重繼承\n",
    "* 多型與鴨子型別"
   ]
  },
  {
   "cell_type": "markdown",
   "id": "c58ba8ec",
   "metadata": {},
   "source": [
    "# 基本繼承\n",
    "---"
   ]
  },
  {
   "cell_type": "markdown",
   "id": "ca991263",
   "metadata": {},
   "source": [
    "基本上  \n",
    "每個類別都使用了繼承，都是繼承object這個特殊類別的子類別  \n",
    "此類別提供了一些資料與行為(都是內部使用的雙底線行為)  \n",
    "若我們沒有明確的繼承其他類別  \n",
    "Python則會自動繼承object"
   ]
  },
  {
   "cell_type": "code",
   "execution_count": 1,
   "id": "0d8d7570",
   "metadata": {},
   "outputs": [],
   "source": [
    "class MySubClass(object):\n",
    "    pass"
   ]
  },
  {
   "cell_type": "markdown",
   "id": "4f38238c",
   "metadata": {},
   "source": [
    "父類別、超類別是指繼承來源  \n",
    "子類別則是繼承者  \n",
    "上述例子中  \n",
    "父類別是object  \n",
    "子類別是MySubClass  \n",
    "子類別是從父類別衍伸出來，或者說擴充的父輩  "
   ]
  },
  {
   "cell_type": "markdown",
   "id": "4884bdea",
   "metadata": {},
   "source": [
    "我們先從一個聯絡人管理系統開始  \n",
    "它可以記錄多個人的姓名與電子郵件  \n",
    "聯絡人類別負責在類別變數中維護聯絡人清單並初始化個人聯絡人的姓名與地址"
   ]
  },
  {
   "cell_type": "code",
   "execution_count": 2,
   "id": "b706735f",
   "metadata": {},
   "outputs": [],
   "source": [
    "class Contact:\n",
    "    all_contacts = []\n",
    "    \n",
    "    def __init__(self, name, email):\n",
    "        self.name = name\n",
    "        self.email = email\n",
    "        Contact.all_contacts.append(self)\n",
    "        \n",
    "    def __repr__(self) -> str:\n",
    "        '''\n",
    "        __repr__ !r 是把回傳的文字加上 ''\n",
    "\n",
    "        ''' \n",
    "        return(f\"{self.__class__.__name__}(\"\n",
    "               f\"{self.name!r}, {self.email!r}\"\n",
    "               f\")\"\n",
    "        )"
   ]
  },
  {
   "cell_type": "markdown",
   "id": "18047443",
   "metadata": {},
   "source": [
    "> 小心這個語法，若曾經使用過self.all_contacts設定變數，  \n",
    "> 則實際上會建構只與該類別物件關聯的新變數實例，  \n",
    "> 透過Contact.all_contacts存取的類別變數還是不變"
   ]
  },
  {
   "cell_type": "markdown",
   "id": "b4fd6eed",
   "metadata": {},
   "source": [
    "建構一個新的Supplier類別，  \n",
    "其動作與Contact類別相似，  \n",
    "但Supplier多了自己的order方法"
   ]
  },
  {
   "cell_type": "code",
   "execution_count": 3,
   "id": "ed484e1e",
   "metadata": {},
   "outputs": [],
   "source": [
    "class Supplier(Contact):\n",
    "    def order(self, order):\n",
    "        print(f\"If this were a real system we would send '{order}' to '{self.name}'\")"
   ]
  },
  {
   "cell_type": "code",
   "execution_count": 4,
   "id": "0fdec188",
   "metadata": {},
   "outputs": [
    {
     "name": "stdout",
     "output_type": "stream",
     "text": [
      "Some body somebody@example.net Sup Plier supplier@example.net\n"
     ]
    }
   ],
   "source": [
    "c = Contact(\"Some body\", \"somebody@example.net\")\n",
    "s = Supplier(\"Sup Plier\",\"supplier@example.net\")\n",
    "print(c.name, c.email, s.name, s.email)"
   ]
  },
  {
   "cell_type": "code",
   "execution_count": 5,
   "id": "073bcc65",
   "metadata": {},
   "outputs": [
    {
     "data": {
      "text/plain": [
       "[Contact('Some body', 'somebody@example.net'),\n",
       " Supplier('Sup Plier', 'supplier@example.net')]"
      ]
     },
     "execution_count": 5,
     "metadata": {},
     "output_type": "execute_result"
    }
   ],
   "source": [
    "c.all_contacts"
   ]
  },
  {
   "cell_type": "code",
   "execution_count": 6,
   "id": "3b16513b",
   "metadata": {},
   "outputs": [
    {
     "name": "stdout",
     "output_type": "stream",
     "text": [
      "[Contact('Some body', 'somebody@example.net'),\n",
      " Supplier('Sup Plier', 'supplier@example.net'),\n",
      " Contact('Dusty', 'dusty@example.com'),\n",
      " Contact('Steve', 'steve@example.com')]\n"
     ]
    }
   ],
   "source": [
    "c_1 = Contact('Dusty', 'dusty@example.com')\n",
    "c_2 = Contact('Steve', 'steve@example.com')\n",
    "\n",
    "from pprint import pprint\n",
    "pprint(c.all_contacts)"
   ]
  },
  {
   "cell_type": "code",
   "execution_count": 7,
   "id": "fd5252d7",
   "metadata": {},
   "outputs": [
    {
     "data": {
      "text/plain": [
       "'Some body'"
      ]
     },
     "execution_count": 7,
     "metadata": {},
     "output_type": "execute_result"
    }
   ],
   "source": [
    "c.all_contacts[0].name"
   ]
  },
  {
   "cell_type": "code",
   "execution_count": 8,
   "id": "6c022f6f",
   "metadata": {},
   "outputs": [
    {
     "ename": "AttributeError",
     "evalue": "'Contact' object has no attribute 'order'",
     "output_type": "error",
     "traceback": [
      "\u001b[1;31m---------------------------------------------------------------------------\u001b[0m",
      "\u001b[1;31mAttributeError\u001b[0m                            Traceback (most recent call last)",
      "\u001b[1;32m~\\AppData\\Local\\Temp/ipykernel_13580/3109398320.py\u001b[0m in \u001b[0;36m<module>\u001b[1;34m\u001b[0m\n\u001b[1;32m----> 1\u001b[1;33m \u001b[0mc\u001b[0m\u001b[1;33m.\u001b[0m\u001b[0morder\u001b[0m\u001b[1;33m(\u001b[0m\u001b[1;34m\"I need Pliers\"\u001b[0m\u001b[1;33m)\u001b[0m\u001b[1;33m\u001b[0m\u001b[1;33m\u001b[0m\u001b[0m\n\u001b[0m",
      "\u001b[1;31mAttributeError\u001b[0m: 'Contact' object has no attribute 'order'"
     ]
    }
   ],
   "source": [
    "c.order(\"I need Pliers\")"
   ]
  },
  {
   "cell_type": "code",
   "execution_count": 9,
   "id": "8a3045cb",
   "metadata": {},
   "outputs": [
    {
     "name": "stdout",
     "output_type": "stream",
     "text": [
      "If this were a real system we would send 'I need Pliers' to 'Sup Plier'\n"
     ]
    }
   ],
   "source": [
    "s.order(\"I need Pliers\")"
   ]
  },
  {
   "cell_type": "markdown",
   "id": "28051384",
   "metadata": {},
   "source": [
    "# 擴充內建\n",
    "---"
   ]
  },
  {
   "cell_type": "markdown",
   "id": "1b3ab192",
   "metadata": {},
   "source": [
    "若我們要以名稱搜尋清單  \n",
    "我們可以加入方法到Contact中來搜尋"
   ]
  },
  {
   "cell_type": "code",
   "execution_count": 10,
   "id": "bb99b367",
   "metadata": {},
   "outputs": [],
   "source": [
    "class ContactList(list):\n",
    "    def search(self, name):\n",
    "        matching_contacts = []\n",
    "        for contact in self:\n",
    "            if name in contact.name:\n",
    "                matching_contacts.append(contact)\n",
    "        return matching_contacts"
   ]
  },
  {
   "cell_type": "code",
   "execution_count": 11,
   "id": "d76c4dfc",
   "metadata": {},
   "outputs": [],
   "source": [
    "class Contact:\n",
    "    all_contacts = ContactList()\n",
    "    \n",
    "    def __init__(self, name, email):\n",
    "        self.name = name\n",
    "        self.email = email\n",
    "        self.all_contacts.append(self)\n",
    "        \n",
    "    def __repr__(self) -> str:\n",
    "        '''\n",
    "        __repr__ !r 是把回傳的文字加上 ''\n",
    "\n",
    "        ''' \n",
    "        return(f\"{self.__class__.__name__}(\"\n",
    "               f\"{self.name!r}, {self.email!r}\"\n",
    "               f\")\"\n",
    "        )"
   ]
  },
  {
   "cell_type": "code",
   "execution_count": 12,
   "id": "ca1414de",
   "metadata": {},
   "outputs": [
    {
     "data": {
      "text/plain": [
       "['John A', 'John B']"
      ]
     },
     "execution_count": 12,
     "metadata": {},
     "output_type": "execute_result"
    }
   ],
   "source": [
    "c1 = Contact('John A', 'johna@example.net')\n",
    "c2 = Contact('John B', 'johnb@example.net')\n",
    "c3 = Contact('Jenna C', 'jennac@example.net')\n",
    "[c.name for c in Contact.all_contacts.search('John')]"
   ]
  },
  {
   "cell_type": "code",
   "execution_count": 13,
   "id": "9b2d6054",
   "metadata": {},
   "outputs": [
    {
     "data": {
      "text/plain": [
       "[Contact('John A', 'johna@example.net'),\n",
       " Contact('John B', 'johnb@example.net'),\n",
       " Contact('Jenna C', 'jennac@example.net')]"
      ]
     },
     "execution_count": 13,
     "metadata": {},
     "output_type": "execute_result"
    }
   ],
   "source": [
    "c1.all_contacts"
   ]
  },
  {
   "cell_type": "code",
   "execution_count": 14,
   "id": "8861e2de",
   "metadata": {},
   "outputs": [
    {
     "data": {
      "text/plain": [
       "[Contact('John A', 'johna@example.net'),\n",
       " Contact('John B', 'johnb@example.net'),\n",
       " Contact('Jenna C', 'jennac@example.net')]"
      ]
     },
     "execution_count": 14,
     "metadata": {},
     "output_type": "execute_result"
    }
   ],
   "source": [
    "Contact.all_contacts"
   ]
  },
  {
   "cell_type": "markdown",
   "id": "874f54cd",
   "metadata": {},
   "source": [
    "以上是擴充list類別  \n",
    "我們接下來擴充一個dict類別  \n",
    "在dict上增加一個找出最長key的方法  "
   ]
  },
  {
   "cell_type": "code",
   "execution_count": 15,
   "id": "9954b973",
   "metadata": {},
   "outputs": [],
   "source": [
    "class LongNameDict(dict):\n",
    "    def longest_key(self):\n",
    "        '''\n",
    "        找出LongNameDict中\n",
    "        名字最長的key\n",
    "        '''\n",
    "        longest = None\n",
    "        for key in self:\n",
    "            if not longest or len(key) > len(longest):\n",
    "                longest = key\n",
    "        return longest"
   ]
  },
  {
   "cell_type": "code",
   "execution_count": 16,
   "id": "35a820b9",
   "metadata": {},
   "outputs": [
    {
     "data": {
      "text/plain": [
       "'longest yet'"
      ]
     },
     "execution_count": 16,
     "metadata": {},
     "output_type": "execute_result"
    }
   ],
   "source": [
    "longkeys = LongNameDict()\n",
    "longkeys['hello'] = 1\n",
    "longkeys['longest yet'] = 5\n",
    "longkeys['hello2'] = 'world'\n",
    "longkeys.longest_key()"
   ]
  },
  {
   "cell_type": "code",
   "execution_count": 17,
   "id": "302df32d",
   "metadata": {},
   "outputs": [
    {
     "data": {
      "text/plain": [
       "'longest yet'"
      ]
     },
     "execution_count": 17,
     "metadata": {},
     "output_type": "execute_result"
    }
   ],
   "source": [
    "max(longkeys, key=len)"
   ]
  },
  {
   "cell_type": "markdown",
   "id": "5cba04d8",
   "metadata": {},
   "source": [
    "# 複寫與super\n",
    "---"
   ]
  },
  {
   "cell_type": "markdown",
   "id": "e5384e89",
   "metadata": {},
   "source": [
    "這邊我們建立一個 Friend 類別去繼承 Contact  \n",
    "並建立一個新的屬性 phone"
   ]
  },
  {
   "cell_type": "code",
   "execution_count": 18,
   "id": "7709a80b",
   "metadata": {},
   "outputs": [],
   "source": [
    "class Friend(Contact):\n",
    "    def __init__(self, name, email, phone):\n",
    "        self.name = name\n",
    "        self.email = email\n",
    "        self.phone = phone"
   ]
  },
  {
   "cell_type": "code",
   "execution_count": 19,
   "id": "5ccb936e",
   "metadata": {},
   "outputs": [
    {
     "data": {
      "text/plain": [
       "[Contact('John A', 'johna@example.net'),\n",
       " Contact('John B', 'johnb@example.net'),\n",
       " Contact('Jenna C', 'jennac@example.net')]"
      ]
     },
     "execution_count": 19,
     "metadata": {},
     "output_type": "execute_result"
    }
   ],
   "source": [
    "f1 = Friend('Dusty', 'Dusty@private.com','555-1212')\n",
    "Contact.all_contacts"
   ]
  },
  {
   "cell_type": "markdown",
   "id": "59dde220",
   "metadata": {},
   "source": [
    "這邊可以看到  \n",
    "Friend 和 Contact 中程式碼重複了 name 和 email 屬性  \n",
    "這讓我們在維護程式碼會更為複雜  \n",
    "而且 Friend 類別也忽略了 Contact 裡本身的 all_contacts 清單  \n",
    "在呼叫 all_contacts 時會看到 Friend 類別不在裡面\n",
    "這裡應該用 super() 去取代  "
   ]
  },
  {
   "cell_type": "code",
   "execution_count": 20,
   "id": "78bce5d5",
   "metadata": {},
   "outputs": [],
   "source": [
    "class Friend(Contact):\n",
    "    def __init__(self, name, email, phone):\n",
    "        super().__init__(name,email)\n",
    "        self.phone = phone"
   ]
  },
  {
   "cell_type": "code",
   "execution_count": 21,
   "id": "6bb9f20e",
   "metadata": {},
   "outputs": [
    {
     "data": {
      "text/plain": [
       "[Contact('John A', 'johna@example.net'),\n",
       " Contact('John B', 'johnb@example.net'),\n",
       " Contact('Jenna C', 'jennac@example.net'),\n",
       " Friend('Dusty', 'Dusty@private.com')]"
      ]
     },
     "execution_count": 21,
     "metadata": {},
     "output_type": "execute_result"
    }
   ],
   "source": [
    "f1 = Friend('Dusty', 'Dusty@private.com','555-1212')\n",
    "Contact.all_contacts"
   ]
  },
  {
   "cell_type": "markdown",
   "id": "d636aec0",
   "metadata": {},
   "source": [
    "# 多重繼承\n",
    "---"
   ]
  },
  {
   "cell_type": "markdown",
   "id": "bf0a3bf4",
   "metadata": {},
   "source": [
    "多重繼承是個有爭議的主題  \n",
    "子類別繼承自一個以上的父類別  \n",
    "許多程式專家建議別這麼做  \n",
    "   \n",
    "最簡單與最有用的多重繼承形式稱為混合(mixin)  \n",
    "它的目的是要其他類別繼承以提供功能  "
   ]
  },
  {
   "cell_type": "code",
   "execution_count": 22,
   "id": "9963510f",
   "metadata": {},
   "outputs": [],
   "source": [
    "class MailSender:\n",
    "    def send_mail(self, message):\n",
    "        print('Sending mail to ' + self.email +'\\nMailbody :'+ str(message))"
   ]
  },
  {
   "cell_type": "code",
   "execution_count": 23,
   "id": "63617070",
   "metadata": {},
   "outputs": [],
   "source": [
    "class EmailableContact(Contact, MailSender):\n",
    "    pass"
   ]
  },
  {
   "cell_type": "code",
   "execution_count": 24,
   "id": "ebd080b1",
   "metadata": {},
   "outputs": [
    {
     "data": {
      "text/plain": [
       "[Contact('John A', 'johna@example.net'),\n",
       " Contact('John B', 'johnb@example.net'),\n",
       " Contact('Jenna C', 'jennac@example.net'),\n",
       " Friend('Dusty', 'Dusty@private.com'),\n",
       " EmailableContact('John', 'jsmith@example.net')]"
      ]
     },
     "execution_count": 24,
     "metadata": {},
     "output_type": "execute_result"
    }
   ],
   "source": [
    "e = EmailableContact('John', 'jsmith@example.net')\n",
    "Contact.all_contacts"
   ]
  },
  {
   "cell_type": "code",
   "execution_count": 25,
   "id": "6c897e70",
   "metadata": {},
   "outputs": [
    {
     "name": "stdout",
     "output_type": "stream",
     "text": [
      "Sending mail to jsmith@example.net\n",
      "Mailbody :123\n"
     ]
    }
   ],
   "source": [
    "e.send_mail(123)"
   ]
  },
  {
   "cell_type": "code",
   "execution_count": 26,
   "id": "e729dfa9",
   "metadata": {},
   "outputs": [
    {
     "ename": "NameError",
     "evalue": "name 'Protocol' is not defined",
     "output_type": "error",
     "traceback": [
      "\u001b[1;31m---------------------------------------------------------------------------\u001b[0m",
      "\u001b[1;31mNameError\u001b[0m                                 Traceback (most recent call last)",
      "\u001b[1;32m~\\AppData\\Local\\Temp/ipykernel_13580/3072657142.py\u001b[0m in \u001b[0;36m<module>\u001b[1;34m\u001b[0m\n\u001b[0;32m      1\u001b[0m \u001b[1;31m# Python 3.8 才有 Protocol\u001b[0m\u001b[1;33m\u001b[0m\u001b[1;33m\u001b[0m\u001b[1;33m\u001b[0m\u001b[0m\n\u001b[0;32m      2\u001b[0m \u001b[1;33m\u001b[0m\u001b[0m\n\u001b[1;32m----> 3\u001b[1;33m \u001b[1;32mclass\u001b[0m \u001b[0mEmailable\u001b[0m\u001b[1;33m(\u001b[0m\u001b[0mProtocol\u001b[0m\u001b[1;33m)\u001b[0m\u001b[1;33m:\u001b[0m\u001b[1;33m\u001b[0m\u001b[1;33m\u001b[0m\u001b[0m\n\u001b[0m\u001b[0;32m      4\u001b[0m     \u001b[0memail\u001b[0m\u001b[1;33m:\u001b[0m \u001b[0mstr\u001b[0m\u001b[1;33m\u001b[0m\u001b[1;33m\u001b[0m\u001b[0m\n\u001b[0;32m      5\u001b[0m \u001b[1;33m\u001b[0m\u001b[0m\n",
      "\u001b[1;31mNameError\u001b[0m: name 'Protocol' is not defined"
     ]
    }
   ],
   "source": [
    "# Python 3.8 才有 Protocol\n",
    "\n",
    "class Emailable(Protocol):\n",
    "    email: str\n",
    "\n",
    "class MailSender(Emailable):\n",
    "    def send_mail(self, message: str) -> None:\n",
    "        print(f\"Sending mail to {self.email}\")"
   ]
  },
  {
   "cell_type": "markdown",
   "id": "3ca435e8",
   "metadata": {},
   "source": [
    "# 菱形缺陷\n",
    "---"
   ]
  },
  {
   "attachments": {
    "image.png": {
     "image/png": "[encoded data removed]"
    }
   },
   "cell_type": "markdown",
   "id": "97438ff0",
   "metadata": {},
   "source": [
    "在多重繼承的狀況下  \n",
    "要是沒設計好\n",
    "基底類別可能不只被呼叫一次\n",
    "但基底類別應該只能被呼叫一次 \n",
    "  \n",
    "來看以下例子，應該能更清楚展現這個問題  \n",
    "有一個基底類別有 call_me 方法  \n",
    "兩個子類別複寫該方法  \n",
    "然後再一個子類別去多重繼承上方的兩個子類別  \n",
    "示意圖如下  \n",
    "![image.png](attachment:image.png)"
   ]
  },
  {
   "cell_type": "code",
   "execution_count": 27,
   "id": "2433c448",
   "metadata": {},
   "outputs": [],
   "source": [
    "class BaseClass:\n",
    "    num_base_calls = 0\n",
    "    \n",
    "    def call_me(self) -> None:\n",
    "        print(\"Calling method on BaseClass\")\n",
    "        self.num_base_calls += 1\n",
    "        \n",
    "class LeftSubclass(BaseClass):\n",
    "    num_left_calls = 0\n",
    "\n",
    "    def call_me(self) -> None:\n",
    "        BaseClass.call_me(self)\n",
    "        print(\"Calling method on LeftSubclass\")\n",
    "        self.num_left_calls += 1\n",
    "\n",
    "class RightSubclass(BaseClass):\n",
    "    num_right_calls = 0\n",
    "    \n",
    "    def call_me(self) -> None:\n",
    "        BaseClass.call_me(self)\n",
    "        print(\"Calling method on RightSubclass\")\n",
    "        self.num_right_calls += 1\n",
    "\n",
    "class Subclass(LeftSubclass, RightSubclass):\n",
    "    num_sub_calls = 0\n",
    "    \n",
    "    def call_me(self) -> None:\n",
    "        LeftSubclass.call_me(self)\n",
    "        RightSubclass.call_me(self)\n",
    "        print('Calling method on Subclass')\n",
    "        self.num_sub_calls += 1"
   ]
  },
  {
   "cell_type": "code",
   "execution_count": 28,
   "id": "26f21294",
   "metadata": {},
   "outputs": [
    {
     "name": "stdout",
     "output_type": "stream",
     "text": [
      "Calling method on BaseClass\n",
      "Calling method on LeftSubclass\n",
      "Calling method on BaseClass\n",
      "Calling method on RightSubclass\n",
      "Calling method on Subclass\n"
     ]
    }
   ],
   "source": [
    "s = Subclass()\n",
    "s.call_me()"
   ]
  },
  {
   "cell_type": "code",
   "execution_count": 29,
   "id": "d98439d4",
   "metadata": {},
   "outputs": [
    {
     "name": "stdout",
     "output_type": "stream",
     "text": [
      "1 1 1 2\n"
     ]
    }
   ],
   "source": [
    "print(s.num_sub_calls, s.num_left_calls, s.num_right_calls, s.num_base_calls)"
   ]
  },
  {
   "cell_type": "markdown",
   "id": "a5b96804",
   "metadata": {},
   "source": [
    "發現沒有設計好的多重繼承  \n",
    "在基底 Class 被呼叫了兩次 !  \n",
    "  \n",
    "為了解決這個問題  \n",
    "我們用 super() 去改寫   "
   ]
  },
  {
   "cell_type": "code",
   "execution_count": 30,
   "id": "92101eb8",
   "metadata": {},
   "outputs": [],
   "source": [
    "class BaseClass:\n",
    "    num_base_calls = 0\n",
    "    \n",
    "    def call_me(self) -> None:\n",
    "        print(\"Calling method on BaseClass\")\n",
    "        self.num_base_calls += 1\n",
    "        \n",
    "class LeftSubclass_S(BaseClass):\n",
    "    num_left_calls = 0\n",
    "\n",
    "    def call_me(self) -> None:\n",
    "        super().call_me()\n",
    "        print(\"Calling method on LeftSubclass\")\n",
    "        self.num_left_calls += 1\n",
    "\n",
    "class RightSubclass_S(BaseClass):\n",
    "    num_right_calls = 0\n",
    "    \n",
    "    def call_me(self) -> None:\n",
    "        super().call_me()\n",
    "        print(\"Calling method on RightSubclass\")\n",
    "        self.num_right_calls += 1\n",
    "\n",
    "class Subclass_S(LeftSubclass_S, RightSubclass_S):\n",
    "    num_sub_calls = 0\n",
    "    \n",
    "    def call_me(self) -> None:\n",
    "        super().call_me()\n",
    "        print('Calling method on Subclass')\n",
    "        self.num_sub_calls += 1"
   ]
  },
  {
   "cell_type": "code",
   "execution_count": 31,
   "id": "3bdbfaa0",
   "metadata": {},
   "outputs": [
    {
     "name": "stdout",
     "output_type": "stream",
     "text": [
      "Calling method on BaseClass\n",
      "Calling method on RightSubclass\n",
      "Calling method on LeftSubclass\n",
      "Calling method on Subclass\n"
     ]
    }
   ],
   "source": [
    "ss = Subclass_S()\n",
    "ss.call_me()"
   ]
  },
  {
   "cell_type": "code",
   "execution_count": 32,
   "id": "e7783a62",
   "metadata": {},
   "outputs": [
    {
     "name": "stdout",
     "output_type": "stream",
     "text": [
      "1 1 1 1\n"
     ]
    }
   ],
   "source": [
    "print(ss.num_sub_calls, ss.num_left_calls, ss.num_right_calls, ss.num_base_calls)"
   ]
  },
  {
   "cell_type": "code",
   "execution_count": 33,
   "id": "1817ca70",
   "metadata": {},
   "outputs": [
    {
     "name": "stdout",
     "output_type": "stream",
     "text": [
      "(<class '__main__.Subclass_S'>,\n",
      " <class '__main__.LeftSubclass_S'>,\n",
      " <class '__main__.RightSubclass_S'>,\n",
      " <class '__main__.BaseClass'>,\n",
      " <class 'object'>)\n"
     ]
    }
   ],
   "source": [
    "from pprint import pprint\n",
    "pprint(Subclass_S.__mro__)"
   ]
  },
  {
   "cell_type": "markdown",
   "id": "f66624ce",
   "metadata": {},
   "source": [
    "從上方的 mro 方法  \n",
    "Subclass_S super.call_me() 指向的是 LeftSubclass_S.call_me()    \n",
    "LeftSubclass_S 的 super.call_me() 指向的是 RightSubclass_S.call_me() 而不是 BaseClass  \n",
    "接下來 RightSubclass_S super.call_me 指向了 BaseClass.call_me()  \n",
    "super() 確保了類別階層中每個方法都只執行一次"
   ]
  },
  {
   "cell_type": "markdown",
   "id": "88e16ac1",
   "metadata": {},
   "source": [
    "# 不同組的參數\n",
    "---"
   ]
  },
  {
   "cell_type": "markdown",
   "id": "dec4c9ec",
   "metadata": {},
   "source": [
    "接下來的事情更複雜  \n",
    "在 Friend 我們想要繼承兩個父類別  \n",
    "原本以不同組的參數呼叫兩個父類別的 \\_\\_init__  \n",
    "> Contact.\\_\\_init__(self, name, email)  \n",
    "> AddressHolder.\\_\\_init__(self, street, city, state, code)  \n",
    "  \n",
    "如何使用 super() 來管理不同組的參數?  \n",
    "若第一個 super 呼叫傳入 name 和 email 參數給 Contact.\\_\\_init__  \n",
    "然後Contact.\\_\\_init__呼叫 super  \n",
    "他需要能夠傳遞參數給下一個方法，也就是 AddressHolder.\\_\\_init__  \n",
    "\n",
    "此問題的唯一解  \n",
    "是一開始就得計畫好  \n",
    "必須將基底類別參數清單設計成不是每個子類別實作都需要的關鍵字參數  \n",
    "還要確保方法自由接受預期外的參數並將他們傳遞給 super 呼叫  \n",
    "以備之後的階層順序下會需要這些參數  \n"
   ]
  },
  {
   "cell_type": "code",
   "execution_count": 45,
   "id": "ba42bc96",
   "metadata": {},
   "outputs": [],
   "source": [
    "class Contact:\n",
    "    all_contacts = []\n",
    "    \n",
    "    def __init__(self, name = '', email='', **kwargs):\n",
    "        super().__init__(**kwargs)\n",
    "        self.name = name\n",
    "        self.email = email\n",
    "        self.all_contacts.append(self)\n",
    "\n",
    "    def __repr__(self) -> str:\n",
    "        '''\n",
    "        __repr__ !r 是把回傳的文字加上 ''\n",
    "\n",
    "        ''' \n",
    "        return(f\"{self.__class__.__name__}(\"\n",
    "               f\"{self.name!r}, {self.email!r}\"\n",
    "               f\")\"\n",
    "        )\n",
    "\n",
    "class AddressHolder:\n",
    "    def __init__(self, street = '', city = '', state = '', code = '', **kwargs):\n",
    "        super().__init__(**kwargs)\n",
    "        self.street = street\n",
    "        self.city = city\n",
    "        self.state = state\n",
    "        self.code = code\n",
    "        \n",
    "class Friend(Contact, AddressHolder):\n",
    "    def __init__(self, phone = '', **kwargs):\n",
    "        super().__init__(**kwargs)\n",
    "        self.phone = phone"
   ]
  },
  {
   "cell_type": "markdown",
   "id": "616db345",
   "metadata": {},
   "source": [
    "上述程式碼中  \n",
    "我們不會知道應該要給Friend.\\_\\_init__什麼參數  \n",
    "因此這樣的程式設計需要對類別、方法加上文件、文字做解釋  \n",
    "  \n",
    "若我們想要在父類別重複使用變數呢  \n",
    "上方程式碼的 Friend 類別中的 phone 就沒辦法傳到父類別  \n",
    "因為它不在 kwargs 字典中  \n",
    "\n",
    "有幾個方式可以確保 phone 參數能夠傳遞  \n",
    "可以使用以下任一方式  \n",
    "> * 不要將 phone 放在明確的關鍵字參數，把它放進 kwargs , 在 Friend 類別中以 self.phone = kwargs['phone']\n",
    "> * 讓 phone 做為明確關鍵字，先更新 kwargs['phone'] = phone 後再用 super() 傳遞\n",
    "> * 讓 phone 做為明確關鍵字，用 kwargs.update 將 dict(phone=phone) 或 {'phone' = phone} 更新至 kwargs 後再用 super 傳遞\n",
    "> * 讓 phone 做為明確關鍵字，以 super().\\_\\_init__(phone = phone, \\*\\*kwargs) "
   ]
  },
  {
   "cell_type": "code",
   "execution_count": 46,
   "id": "3656e61d",
   "metadata": {},
   "outputs": [
    {
     "data": {
      "text/plain": [
       "[Friend('David', 'david@example.net')]"
      ]
     },
     "execution_count": 46,
     "metadata": {},
     "output_type": "execute_result"
    }
   ],
   "source": [
    "paras = {\n",
    "    'name': 'David',\n",
    "    'email': 'david@example.net',\n",
    "    'city': 'Taipei'\n",
    "}\n",
    "\n",
    "f = Friend(phone = '1234', **paras)\n",
    "f.all_contacts"
   ]
  },
  {
   "cell_type": "markdown",
   "id": "2f0a3fe4",
   "metadata": {},
   "source": [
    "# 多型\n",
    "---\n",
    "在不用知道是哪一個子類別的情況下，根據子類別的不同而發生不同的行為  \n",
    "稱為多型"
   ]
  },
  {
   "cell_type": "code",
   "execution_count": 49,
   "id": "6391d893",
   "metadata": {},
   "outputs": [],
   "source": [
    "from pathlib import Path\n",
    "class AudioFile:\n",
    "    ext: str\n",
    "    def __init__(self, filepath: Path) -> None:\n",
    "        if not filepath.suffix == self.ext:\n",
    "            raise ValueError(\"Invalid file format\")\n",
    "        self.filepath = filepath"
   ]
  },
  {
   "cell_type": "code",
   "execution_count": 50,
   "id": "c099c0a6",
   "metadata": {},
   "outputs": [],
   "source": [
    "class MP3File(AudioFile):\n",
    "    ext = \".mp3\"\n",
    "    def play(self) -> None:\n",
    "        print(f\"playing {self.filepath} as mp3\")\n",
    "        \n",
    "class WavFile(AudioFile):\n",
    "    ext = \".wav\"\n",
    "    def play(self) -> None:\n",
    "        print(f\"playing {self.filepath} as wav\")\n",
    "        \n",
    "class OggFile(AudioFile):\n",
    "    ext = \".ogg\"\n",
    "    def play(self) -> None:\n",
    "        print(f\"playing {self.filepath} as ogg\")"
   ]
  },
  {
   "cell_type": "code",
   "execution_count": 51,
   "id": "b7a7b3e6",
   "metadata": {},
   "outputs": [
    {
     "name": "stdout",
     "output_type": "stream",
     "text": [
      "playing Heart of the Sunrise.mp3 as mp3\n"
     ]
    }
   ],
   "source": [
    "p_1 = MP3File(Path(\"Heart of the Sunrise.mp3\"))\n",
    "p_1.play()"
   ]
  },
  {
   "cell_type": "code",
   "execution_count": 52,
   "id": "4cbc62e9",
   "metadata": {},
   "outputs": [
    {
     "name": "stdout",
     "output_type": "stream",
     "text": [
      "playing Roundabout.wav as wav\n"
     ]
    }
   ],
   "source": [
    "p_2 = WavFile(Path(\"Roundabout.wav\"))\n",
    "p_2.play()"
   ]
  },
  {
   "cell_type": "code",
   "execution_count": 53,
   "id": "4a01ba2d",
   "metadata": {},
   "outputs": [
    {
     "name": "stdout",
     "output_type": "stream",
     "text": [
      "playing Heart of the Sunrise.ogg as ogg\n"
     ]
    }
   ],
   "source": [
    "p_3 = OggFile(Path(\"Heart of the Sunrise.ogg\"))\n",
    "p_3.play()"
   ]
  },
  {
   "cell_type": "code",
   "execution_count": 54,
   "id": "30df104a",
   "metadata": {},
   "outputs": [
    {
     "ename": "ValueError",
     "evalue": "Invalid file format",
     "output_type": "error",
     "traceback": [
      "\u001b[1;31m---------------------------------------------------------------------------\u001b[0m",
      "\u001b[1;31mValueError\u001b[0m                                Traceback (most recent call last)",
      "\u001b[1;32m~\\AppData\\Local\\Temp/ipykernel_13580/548660330.py\u001b[0m in \u001b[0;36m<module>\u001b[1;34m\u001b[0m\n\u001b[1;32m----> 1\u001b[1;33m \u001b[0mp_4\u001b[0m \u001b[1;33m=\u001b[0m \u001b[0mMP3File\u001b[0m\u001b[1;33m(\u001b[0m\u001b[0mPath\u001b[0m\u001b[1;33m(\u001b[0m\u001b[1;34m\"The Fish.mov\"\u001b[0m\u001b[1;33m)\u001b[0m\u001b[1;33m)\u001b[0m\u001b[1;33m\u001b[0m\u001b[1;33m\u001b[0m\u001b[0m\n\u001b[0m",
      "\u001b[1;32m~\\AppData\\Local\\Temp/ipykernel_13580/4085600954.py\u001b[0m in \u001b[0;36m__init__\u001b[1;34m(self, filepath)\u001b[0m\n\u001b[0;32m      4\u001b[0m     \u001b[1;32mdef\u001b[0m \u001b[0m__init__\u001b[0m\u001b[1;33m(\u001b[0m\u001b[0mself\u001b[0m\u001b[1;33m,\u001b[0m \u001b[0mfilepath\u001b[0m\u001b[1;33m:\u001b[0m \u001b[0mPath\u001b[0m\u001b[1;33m)\u001b[0m \u001b[1;33m->\u001b[0m \u001b[1;32mNone\u001b[0m\u001b[1;33m:\u001b[0m\u001b[1;33m\u001b[0m\u001b[1;33m\u001b[0m\u001b[0m\n\u001b[0;32m      5\u001b[0m         \u001b[1;32mif\u001b[0m \u001b[1;32mnot\u001b[0m \u001b[0mfilepath\u001b[0m\u001b[1;33m.\u001b[0m\u001b[0msuffix\u001b[0m \u001b[1;33m==\u001b[0m \u001b[0mself\u001b[0m\u001b[1;33m.\u001b[0m\u001b[0mext\u001b[0m\u001b[1;33m:\u001b[0m\u001b[1;33m\u001b[0m\u001b[1;33m\u001b[0m\u001b[0m\n\u001b[1;32m----> 6\u001b[1;33m             \u001b[1;32mraise\u001b[0m \u001b[0mValueError\u001b[0m\u001b[1;33m(\u001b[0m\u001b[1;34m\"Invalid file format\"\u001b[0m\u001b[1;33m)\u001b[0m\u001b[1;33m\u001b[0m\u001b[1;33m\u001b[0m\u001b[0m\n\u001b[0m\u001b[0;32m      7\u001b[0m         \u001b[0mself\u001b[0m\u001b[1;33m.\u001b[0m\u001b[0mfilepath\u001b[0m \u001b[1;33m=\u001b[0m \u001b[0mfilepath\u001b[0m\u001b[1;33m\u001b[0m\u001b[1;33m\u001b[0m\u001b[0m\n",
      "\u001b[1;31mValueError\u001b[0m: Invalid file format"
     ]
    }
   ],
   "source": [
    "p_4 = MP3File(Path(\"The Fish.mov\"))"
   ]
  },
  {
   "cell_type": "markdown",
   "id": "2c9abefc",
   "metadata": {},
   "source": [
    "下面這個例子是不用多型的方法寫的"
   ]
  },
  {
   "cell_type": "code",
   "execution_count": 55,
   "id": "42da4e92",
   "metadata": {},
   "outputs": [],
   "source": [
    "class FlacFile:\n",
    "    def __init__(self, filepath: Path) -> None:\n",
    "        if not filepath.suffix == \".flac\":\n",
    "            raise ValueError(\"Not a .flac file\")\n",
    "        self.filepath = filepath\n",
    "        \n",
    "    def play(self) -> None:\n",
    "        print(f\"playing {self.filepath} as flac\")"
   ]
  },
  {
   "cell_type": "markdown",
   "id": "d8190775",
   "metadata": {},
   "source": [
    "如果不用多型方法，  \n",
    "在判斷檔案副檔名是否符合類別時，  \n",
    "就要個別在不同附檔的 class 中寫 初始化參數  \n",
    "造成程式碼大量重複\n",
    "  \n",
    "  \n",
    "學到這邊個人感覺還是要先把抽象型別學完在學多型可能比較洽當  \n",
    "(網路的教學都是照這個步驟)"
   ]
  },
  {
   "cell_type": "markdown",
   "id": "4ae1a0dd",
   "metadata": {},
   "source": [
    "# 案例\n",
    "---"
   ]
  },
  {
   "cell_type": "markdown",
   "id": "07631996",
   "metadata": {},
   "source": [
    "建立儲存iris花瓣長寬的類別"
   ]
  },
  {
   "cell_type": "code",
   "execution_count": 60,
   "id": "e98dfada",
   "metadata": {},
   "outputs": [],
   "source": [
    "class Sample:\n",
    "    '''Save the iris data'''\n",
    "    def __init__(self, sepal_length, sepal_width, petal_length, petal_width):\n",
    "        self.sepal_length = sepal_length\n",
    "        self.sepal_width = sepal_width\n",
    "        self.petal_length = petal_length\n",
    "        self.petal_width = petal_width"
   ]
  },
  {
   "cell_type": "markdown",
   "id": "90d22e6c",
   "metadata": {},
   "source": [
    "建立一個類別供後續繼承+多型用"
   ]
  },
  {
   "cell_type": "code",
   "execution_count": 61,
   "id": "02514f60",
   "metadata": {},
   "outputs": [],
   "source": [
    "class Distance:\n",
    "    '''Definition of a distance computation'''\n",
    "    def distance(self, s1: Sample, s2: Sample) -> float:\n",
    "        pass"
   ]
  },
  {
   "cell_type": "markdown",
   "id": "7772db2e",
   "metadata": {},
   "source": [
    "### 多型\n",
    "計算不同距離方法的數值"
   ]
  },
  {
   "cell_type": "markdown",
   "id": "c52d1052",
   "metadata": {},
   "source": [
    "### **Euclidean**\n",
    "\n",
    "兩點距離：$$ED2(t,u)=\\sqrt{(t_x-u_x)^2+(t_y-u_y)^2}$$  \n",
    "  \n",
    "四點距離：$$ED4(t,u)=\\sqrt{(t_{sl}-u_{sl})^2+(t_{sw}-u_{sw})^2+(t_{pl}-u_{pl})^2+(t_{pw}-u_{pw})^2}$$"
   ]
  },
  {
   "cell_type": "code",
   "execution_count": 63,
   "id": "594d1ffa",
   "metadata": {},
   "outputs": [],
   "source": [
    "from math import hypot\n",
    "\n",
    "class ED(Distance):\n",
    "    def distance(self, s1: Sample, s2: Sample) -> float:\n",
    "        return hypot(\n",
    "            s1.sepal_length - s2.sepal_length,\n",
    "            s1.sepal_width - s2.sepal_width,\n",
    "            s1.petal_length - s2.petal_length,\n",
    "            s1.petal_width - s1.petal_width,\n",
    "        )"
   ]
  },
  {
   "cell_type": "markdown",
   "id": "789072a5",
   "metadata": {},
   "source": [
    "### Manhattan\n",
    "$$MD(t,u)=|t_x-u_x|+|t_y-u_y|$$"
   ]
  },
  {
   "cell_type": "code",
   "execution_count": 64,
   "id": "f27f565f",
   "metadata": {},
   "outputs": [],
   "source": [
    "class MD(Distance):\n",
    "    def distance(self, s1: Sample, s2: Sample) -> float:\n",
    "        return sum(\n",
    "            [\n",
    "                abs(s1.sepal_length - s2.sepal_length),\n",
    "                abs(s1.sepal_width - s2.sepal_width),\n",
    "                abs(s1.petal_length - s2.petal_length),\n",
    "                abs(s1.petal_width - s1.petal_width),\n",
    "            ]\n",
    "        )"
   ]
  },
  {
   "cell_type": "markdown",
   "id": "21e084a6",
   "metadata": {},
   "source": [
    "### Chebyshev\n",
    "$$CD(k,u)=max(|k_x-u_x|, |k_y - u_y|)$$"
   ]
  },
  {
   "cell_type": "code",
   "execution_count": 65,
   "id": "78f2606f",
   "metadata": {},
   "outputs": [],
   "source": [
    "class CD(Distance):\n",
    "    def distance(self, s1: Sample, s2: Sample) -> float:\n",
    "        return max(\n",
    "            [\n",
    "                abs(s1.sepal_length - s2.sepal_length),\n",
    "                abs(s1.sepal_width - s2.sepal_width),\n",
    "                abs(s1.petal_length - s2.petal_length),\n",
    "                abs(s1.petal_width - s1.petal_width),\n",
    "            ]\n",
    "        )"
   ]
  },
  {
   "cell_type": "markdown",
   "id": "32f94d9f",
   "metadata": {},
   "source": [
    "### Sorensen\n",
    "$$SD(k,u)=\\frac{|k_x-u_x|+|k_y-u_y|}{(k_x+u_x)+(k_y+u_y)}$$"
   ]
  },
  {
   "cell_type": "code",
   "execution_count": 66,
   "id": "47e44b29",
   "metadata": {},
   "outputs": [],
   "source": [
    "class SD(Distance):\n",
    "    def distance(self, s1: Sample, s2: Sample) -> float:\n",
    "        return sum(\n",
    "            [\n",
    "                abs(s1.sepal_length - s2.sepal_length),\n",
    "                abs(s1.sepal_width - s2.sepal_width),\n",
    "                abs(s1.petal_length - s2.petal_length),\n",
    "                abs(s1.petal_width - s1.petal_width),\n",
    "            ]\n",
    "        ) / sum(\n",
    "            [\n",
    "                s1.sepal_length + s2.sepal_length,\n",
    "                s1.sepal_width + s2.sepal_width,\n",
    "                s1.petal_length + s2.petal_length,\n",
    "                s1.petal_width + s1.petal_width,                   \n",
    "            ]\n",
    "        )  "
   ]
  },
  {
   "cell_type": "code",
   "execution_count": null,
   "id": "ca94933b",
   "metadata": {},
   "outputs": [],
   "source": []
  }
 ],
 "metadata": {
  "kernelspec": {
   "display_name": "Python 3 (ipykernel)",
   "language": "python",
   "name": "python3"
  },
  "language_info": {
   "codemirror_mode": {
    "name": "ipython",
    "version": 3
   },
   "file_extension": ".py",
   "mimetype": "text/x-python",
   "name": "python",
   "nbconvert_exporter": "python",
   "pygments_lexer": "ipython3",
   "version": "3.7.9"
  }
 },
 "nbformat": 4,
 "nbformat_minor": 5
}
