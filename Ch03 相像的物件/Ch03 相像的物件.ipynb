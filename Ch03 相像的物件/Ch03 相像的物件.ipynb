{
 "cells": [
  {
   "cell_type": "markdown",
   "id": "452a4957",
   "metadata": {},
   "source": [
    "在程式碼的世界中  \n",
    "重複的程式碼被視為邪惡的  \n",
    "不應該有多個相同或類似的程式碼存在於不同地方  "
   ]
  },
  {
   "cell_type": "markdown",
   "id": "3e745479",
   "metadata": {},
   "source": [
    "這邊討論最著名的物件導向原則：繼承  \n",
    "繼承可以讓我們可以在兩個或以上的類別之間建構〝是一個〞的關係  \n",
    "這邊會討論：  \n",
    "* 基本繼承\n",
    "* 從內建繼承\n",
    "* 多重繼承\n",
    "* 多型與鴨子型別"
   ]
  },
  {
   "cell_type": "markdown",
   "id": "c58ba8ec",
   "metadata": {},
   "source": [
    "# 基本繼承\n",
    "---"
   ]
  },
  {
   "cell_type": "markdown",
   "id": "ca991263",
   "metadata": {},
   "source": [
    "基本上  \n",
    "每個類別都使用了繼承，都是繼承object這個特殊類別的子類別  \n",
    "此類別提供了一些資料與行為(都是內部使用的雙底線行為)  \n",
    "若我們沒有明確的繼承其他類別  \n",
    "Python則會自動繼承object"
   ]
  },
  {
   "cell_type": "code",
   "execution_count": 2,
   "id": "0d8d7570",
   "metadata": {},
   "outputs": [],
   "source": [
    "class MySubClass(object):\n",
    "    pass"
   ]
  },
  {
   "cell_type": "markdown",
   "id": "4f38238c",
   "metadata": {},
   "source": [
    "父類別、超類別是指繼承來源  \n",
    "子類別則是繼承者  \n",
    "上述例子中  \n",
    "父類別是object  \n",
    "子類別是MySubClass  \n",
    "子類別是從父類別衍伸出來，或者說擴充的父輩  "
   ]
  },
  {
   "cell_type": "markdown",
   "id": "4884bdea",
   "metadata": {},
   "source": [
    "我們先從一個聯絡人管理系統開始  \n",
    "它可以記錄多個人的姓名與電子郵件  \n",
    "聯絡人類別負責在類別變數中維護聯絡人清單並初始化個人聯絡人的姓名與地址"
   ]
  },
  {
   "cell_type": "code",
   "execution_count": 21,
   "id": "b706735f",
   "metadata": {},
   "outputs": [],
   "source": [
    "class Contact:\n",
    "    all_contacts = []\n",
    "    \n",
    "    def __init__(self, name, email):\n",
    "        self.name = name\n",
    "        self.email = email\n",
    "        Contact.all_contacts.append(self)\n",
    "        \n",
    "    def __repr__(self) -> str:\n",
    "        # __repr__ !r 是把回傳的文字加上 ''\n",
    "        return(f\"{self.__class__.__name__}(\"\n",
    "               f\"{self.name!r}, {self.email!r}\"\n",
    "               f\")\"\n",
    "        )"
   ]
  },
  {
   "cell_type": "markdown",
   "id": "18047443",
   "metadata": {},
   "source": [
    "> 小心這個語法，若曾經使用過self.all_contacts設定變數，  \n",
    "> 則實際上會建構只與該類別物件關聯的新變數實例，  \n",
    "> 透過Contact.all_contacts存取的類別變數還是不變"
   ]
  },
  {
   "cell_type": "markdown",
   "id": "b4fd6eed",
   "metadata": {},
   "source": [
    "建構一個新的Supplier類別，  \n",
    "其動作與Contact類別相似，  \n",
    "但Supplier多了自己的order方法"
   ]
  },
  {
   "cell_type": "code",
   "execution_count": 22,
   "id": "ed484e1e",
   "metadata": {},
   "outputs": [],
   "source": [
    "class Supplier(Contact):\n",
    "    def order(self, order):\n",
    "        print(f\"If this were a real system we would send '{order}' to '{self.name}'\")"
   ]
  },
  {
   "cell_type": "code",
   "execution_count": 23,
   "id": "0fdec188",
   "metadata": {},
   "outputs": [
    {
     "name": "stdout",
     "output_type": "stream",
     "text": [
      "Some body somebody@example.net Sup Plier supplier@example.net\n"
     ]
    }
   ],
   "source": [
    "c = Contact(\"Some body\", \"somebody@example.net\")\n",
    "s = Supplier(\"Sup Plier\",\"supplier@example.net\")\n",
    "print(c.name, c.email, s.name, s.email)"
   ]
  },
  {
   "cell_type": "code",
   "execution_count": 27,
   "id": "073bcc65",
   "metadata": {},
   "outputs": [
    {
     "data": {
      "text/plain": [
       "[Contact('Some body', 'somebody@example.net'),\n",
       " Supplier('Sup Plier', 'supplier@example.net')]"
      ]
     },
     "execution_count": 27,
     "metadata": {},
     "output_type": "execute_result"
    }
   ],
   "source": [
    "c.all_contacts"
   ]
  },
  {
   "cell_type": "code",
   "execution_count": 29,
   "id": "3b16513b",
   "metadata": {},
   "outputs": [
    {
     "name": "stdout",
     "output_type": "stream",
     "text": [
      "[Contact('Some body', 'somebody@example.net'),\n",
      " Supplier('Sup Plier', 'supplier@example.net'),\n",
      " Contact('Dusty', 'dusty@example.com'),\n",
      " Contact('Steve', 'steve@example.com')]\n"
     ]
    }
   ],
   "source": [
    "c_1 = Contact('Dusty', 'dusty@example.com')\n",
    "c_2 = Contact('Steve', 'steve@example.com')\n",
    "\n",
    "from pprint import pprint\n",
    "pprint(c.all_contacts)"
   ]
  },
  {
   "cell_type": "code",
   "execution_count": 7,
   "id": "fd5252d7",
   "metadata": {},
   "outputs": [
    {
     "data": {
      "text/plain": [
       "'Some body'"
      ]
     },
     "execution_count": 7,
     "metadata": {},
     "output_type": "execute_result"
    }
   ],
   "source": [
    "c.all_contacts[0].name"
   ]
  },
  {
   "cell_type": "code",
   "execution_count": 8,
   "id": "6c022f6f",
   "metadata": {},
   "outputs": [
    {
     "ename": "AttributeError",
     "evalue": "'Contact' object has no attribute 'order'",
     "output_type": "error",
     "traceback": [
      "\u001b[1;31m---------------------------------------------------------------------------\u001b[0m",
      "\u001b[1;31mAttributeError\u001b[0m                            Traceback (most recent call last)",
      "\u001b[1;32m~\\AppData\\Local\\Temp/ipykernel_6572/3109398320.py\u001b[0m in \u001b[0;36m<module>\u001b[1;34m\u001b[0m\n\u001b[1;32m----> 1\u001b[1;33m \u001b[0mc\u001b[0m\u001b[1;33m.\u001b[0m\u001b[0morder\u001b[0m\u001b[1;33m(\u001b[0m\u001b[1;34m\"I need Pliers\"\u001b[0m\u001b[1;33m)\u001b[0m\u001b[1;33m\u001b[0m\u001b[1;33m\u001b[0m\u001b[0m\n\u001b[0m",
      "\u001b[1;31mAttributeError\u001b[0m: 'Contact' object has no attribute 'order'"
     ]
    }
   ],
   "source": [
    "c.order(\"I need Pliers\")"
   ]
  },
  {
   "cell_type": "code",
   "execution_count": 9,
   "id": "8a3045cb",
   "metadata": {},
   "outputs": [
    {
     "name": "stdout",
     "output_type": "stream",
     "text": [
      "If this were a real system we would send 'I need Pliers' to 'Sup Plier'\n"
     ]
    }
   ],
   "source": [
    "s.order(\"I need Pliers\")"
   ]
  },
  {
   "cell_type": "markdown",
   "id": "28051384",
   "metadata": {},
   "source": [
    "# 擴充內建\n",
    "---"
   ]
  },
  {
   "cell_type": "markdown",
   "id": "1b3ab192",
   "metadata": {},
   "source": [
    "若我們要以名稱搜尋清單  \n",
    "我們可以加入方法到Contact中來搜尋"
   ]
  },
  {
   "cell_type": "code",
   "execution_count": 30,
   "id": "bb99b367",
   "metadata": {},
   "outputs": [],
   "source": [
    "class ContactList(list):\n",
    "    def search(self, name):\n",
    "        matching_contacts = []\n",
    "        for contact in self:\n",
    "            if name in contact.name:\n",
    "                matching_contacts.append(contact)\n",
    "        return matching_contacts"
   ]
  },
  {
   "cell_type": "code",
   "execution_count": 31,
   "id": "d76c4dfc",
   "metadata": {},
   "outputs": [],
   "source": [
    "class Contact:\n",
    "    all_contacts = ContactList()\n",
    "    \n",
    "    def __init__(self, name, email):\n",
    "        self.name = name\n",
    "        self.email = email\n",
    "        self.all_contacts.append(self)"
   ]
  },
  {
   "cell_type": "code",
   "execution_count": 32,
   "id": "ca1414de",
   "metadata": {},
   "outputs": [
    {
     "data": {
      "text/plain": [
       "['John A', 'John B']"
      ]
     },
     "execution_count": 32,
     "metadata": {},
     "output_type": "execute_result"
    }
   ],
   "source": [
    "c1 = Contact('John A', 'johna@example.net')\n",
    "c2 = Contact('John B', 'johnb@example.net')\n",
    "c3 = Contact('Jenna C', 'jennac@example.net')\n",
    "[c.name for c in Contact.all_contacts.search('John')]"
   ]
  },
  {
   "cell_type": "code",
   "execution_count": 33,
   "id": "9b2d6054",
   "metadata": {},
   "outputs": [
    {
     "data": {
      "text/plain": [
       "[<__main__.Contact at 0x1409c3b6408>,\n",
       " <__main__.Contact at 0x1409c3b6c48>,\n",
       " <__main__.Contact at 0x1409c3b67c8>]"
      ]
     },
     "execution_count": 33,
     "metadata": {},
     "output_type": "execute_result"
    }
   ],
   "source": [
    "c1.all_contacts"
   ]
  },
  {
   "cell_type": "code",
   "execution_count": 34,
   "id": "8861e2de",
   "metadata": {},
   "outputs": [
    {
     "data": {
      "text/plain": [
       "[<__main__.Contact at 0x1409c3b6408>,\n",
       " <__main__.Contact at 0x1409c3b6c48>,\n",
       " <__main__.Contact at 0x1409c3b67c8>]"
      ]
     },
     "execution_count": 34,
     "metadata": {},
     "output_type": "execute_result"
    }
   ],
   "source": [
    "Contact.all_contacts"
   ]
  },
  {
   "cell_type": "markdown",
   "id": "874f54cd",
   "metadata": {},
   "source": [
    "以上是擴充list類別  \n",
    "我們接下來擴充一個dict類別  \n",
    "在dict上增加一個找出最長key的方法  "
   ]
  },
  {
   "cell_type": "code",
   "execution_count": 35,
   "id": "9954b973",
   "metadata": {},
   "outputs": [],
   "source": [
    "class LongNameDict(dict):\n",
    "    def longest_key(self):\n",
    "        '''\n",
    "        找出LongNameDict中\n",
    "        名字最長的key\n",
    "        '''\n",
    "        longest = None\n",
    "        for key in self:\n",
    "            if not longest or len(key) > len(longest):\n",
    "                longest = key\n",
    "        return longest"
   ]
  },
  {
   "cell_type": "code",
   "execution_count": 37,
   "id": "35a820b9",
   "metadata": {},
   "outputs": [
    {
     "data": {
      "text/plain": [
       "'longest yet'"
      ]
     },
     "execution_count": 37,
     "metadata": {},
     "output_type": "execute_result"
    }
   ],
   "source": [
    "longkeys = LongNameDict()\n",
    "longkeys['hello'] = 1\n",
    "longkeys['longest yet'] = 5\n",
    "longkeys['hello2'] = 'world'\n",
    "longkeys.longest_key()"
   ]
  },
  {
   "cell_type": "code",
   "execution_count": 38,
   "id": "302df32d",
   "metadata": {},
   "outputs": [
    {
     "data": {
      "text/plain": [
       "'longest yet'"
      ]
     },
     "execution_count": 38,
     "metadata": {},
     "output_type": "execute_result"
    }
   ],
   "source": [
    "max(longkeys, key=len)"
   ]
  },
  {
   "cell_type": "markdown",
   "id": "5cba04d8",
   "metadata": {},
   "source": [
    "# 複寫與super\n",
    "---"
   ]
  },
  {
   "cell_type": "code",
   "execution_count": null,
   "id": "e0674f26",
   "metadata": {},
   "outputs": [],
   "source": []
  }
 ],
 "metadata": {
  "kernelspec": {
   "display_name": "Python 3 (ipykernel)",
   "language": "python",
   "name": "python3"
  },
  "language_info": {
   "codemirror_mode": {
    "name": "ipython",
    "version": 3
   },
   "file_extension": ".py",
   "mimetype": "text/x-python",
   "name": "python",
   "nbconvert_exporter": "python",
   "pygments_lexer": "ipython3",
   "version": "3.7.9"
  }
 },
 "nbformat": 4,
 "nbformat_minor": 5
}
