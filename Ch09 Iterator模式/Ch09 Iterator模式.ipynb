{
 "cells": [
  {
   "cell_type": "markdown",
   "metadata": {},
   "source": [
    "這章討論\n",
    "* 何謂設計模式\n",
    "* iterator 協定，最強設計模式之一\n",
    "* 清單、集合、字典操作式\n",
    "* 生產器與協程"
   ]
  },
  {
   "cell_type": "markdown",
   "metadata": {},
   "source": [
    "# 設計模式簡介\n",
    "---\n",
    "設計模式嘗試將同樣的正規定義帶進軟體工程中的結構設計  \n",
    "不同的設計模式解決不同的問題  \n",
    "建構設計模式的人首先找出開發者在各種情況下會遇到的共同問題  \n",
    "然後對於理想方案給出物件導向設計上的建議   \n",
    "\n",
    "這一章討論 Iterator 模式  \n",
    "此模式使得 Python 開發者提供多個語法來存取其物件導向原則  \n"
   ]
  },
  {
   "cell_type": "markdown",
   "metadata": {},
   "source": [
    "## Iterator \n",
    "  \n",
    "Iterator 是具有 `next()` 和 `done()` 方法的物件  \n",
    "後者在序列中沒有其他項目時回傳 `True`  \n",
    "Iterator 會向下方程式碼一樣逐個處理\n",
    "\n",
    "```\n",
    "while not iterator.done():\n",
    "    item = iterator.next()\n",
    "    # do something with the item\n",
    "```\n",
    "  \n",
    "`__next__()` 迭代是一種特殊功能  \n",
    "此方法可使用內建的 `next(iterator)` 存取  \n",
    "`done` 方法則會迴圈完成時拋出 `StopIteration`"
   ]
  },
  {
   "cell_type": "markdown",
   "metadata": {},
   "source": [
    "## 迭代協定\n",
    "  \n",
    "在 collections.abc 模組中的抽象基底 Iterator 類別定義 Python 中的迭代協定  \n",
    "他必須要有 for 迴圈呼叫已從序列取得新元素的 `__next__()`  \n",
    "每個迭代都需要滿足 Iterable 介面  \n",
    "任何提供 `__iter__` 方法的類別都是可迭代的  "
   ]
  },
  {
   "cell_type": "code",
   "execution_count": 1,
   "metadata": {},
   "outputs": [],
   "source": [
    "class CapitalIterable:\n",
    "    def __init__(self, string):\n",
    "        self.string = string\n",
    "    def __iter__(self):\n",
    "        return CapitalIterator(self.string)\n",
    "\n",
    "class CapitalIterator:\n",
    "    def __init__(self, string):\n",
    "        self.words = [w.capitalize() for w in string.split()]\n",
    "        self.index = 0\n",
    "    def __next__(self):\n",
    "        if self.index == len(self.words):\n",
    "            raise StopIteration()\n",
    "        word = self.words[self.index]\n",
    "        self.index += 1\n",
    "        return word\n",
    "    def __iter__(self):\n",
    "        return self"
   ]
  },
  {
   "cell_type": "markdown",
   "metadata": {},
   "source": [
    "此程式的任務是逐個處理字串中的單字並將第一個字母轉成大寫後輸出"
   ]
  },
  {
   "cell_type": "code",
   "execution_count": 2,
   "metadata": {},
   "outputs": [
    {
     "name": "stdout",
     "output_type": "stream",
     "text": [
      "The\n",
      "Quick\n",
      "Brown\n",
      "Fox\n",
      "Jumps\n",
      "Over\n",
      "The\n",
      "Lazy\n",
      "Dog\n"
     ]
    }
   ],
   "source": [
    "iterable = CapitalIterable('the quick brown fox jumps over the lazy dog')\n",
    "iterator = iter(iterable)\n",
    "while True:\n",
    "    try:\n",
    "        print(next(iterator))\n",
    "    except StopIteration:\n",
    "        break"
   ]
  },
  {
   "cell_type": "markdown",
   "metadata": {},
   "source": [
    "更簡單一點的語法"
   ]
  },
  {
   "cell_type": "code",
   "execution_count": 3,
   "metadata": {},
   "outputs": [
    {
     "name": "stdout",
     "output_type": "stream",
     "text": [
      "The\n",
      "Quick\n",
      "Brown\n",
      "Fox\n",
      "Jumps\n",
      "Over\n",
      "The\n",
      "Lazy\n",
      "Dog\n"
     ]
    }
   ],
   "source": [
    "for i in iterable:\n",
    "    print(i)"
   ]
  },
  {
   "cell_type": "markdown",
   "metadata": {},
   "source": [
    "# 操作式\n",
    "---\n",
    "操作式是簡單但很強的語法  \n",
    "能夠讓我們以很少的程式轉換或過濾迭代物件  \n",
    "運算結果可以是普通的清單、集合或字典"
   ]
  },
  {
   "cell_type": "markdown",
   "metadata": {},
   "source": [
    "## 清單操作式\n",
    "  \n",
    "清單操作式 (Comprehension) 是 Python 中最有威力的工具之一  \n",
    "讓我們檢視最常見的操作  \n",
    "如下"
   ]
  },
  {
   "cell_type": "code",
   "execution_count": 4,
   "metadata": {},
   "outputs": [],
   "source": [
    "input_strings = ['1','5','28' ,'131', '3']\n",
    "\n",
    "output_integers = []\n",
    "for num in input_strings:\n",
    "    output_integers.append(int(num))"
   ]
  },
  {
   "cell_type": "markdown",
   "metadata": {},
   "source": [
    "將上述程式改為操作式，如下範例"
   ]
  },
  {
   "cell_type": "code",
   "execution_count": 5,
   "metadata": {},
   "outputs": [],
   "source": [
    "output_integers = [int(num) for num in input_strings]"
   ]
  },
  {
   "cell_type": "markdown",
   "metadata": {},
   "source": [
    "程式縮減為一行  \n",
    "且依舊保有可讀性  \n",
    "效能也好\n",
    "在操作大量項目時  \n",
    "會比 for 迴圈快很多  \n",
    "我們也能在操作式中加入 if 條件"
   ]
  },
  {
   "cell_type": "code",
   "execution_count": 6,
   "metadata": {},
   "outputs": [],
   "source": [
    "output_ints = [int(n) for n in input_strings if len(n) < 3]"
   ]
  },
  {
   "cell_type": "markdown",
   "metadata": {},
   "source": [
    "## 集合與字典操作式\n",
    "  \n",
    "操作式也能使用在集合與字典上  \n",
    "下面是使用具名資料組建構的作者 / 書名 / 類型  \n",
    "以及讀取所有撰寫特定類型書籍的作者的集合"
   ]
  },
  {
   "cell_type": "code",
   "execution_count": 7,
   "metadata": {},
   "outputs": [
    {
     "name": "stdout",
     "output_type": "stream",
     "text": [
      "{'Pratchett', 'Turner', 'Le Guin'}\n"
     ]
    }
   ],
   "source": [
    "from collections import namedtuple\n",
    "\n",
    "Book = namedtuple(\"Book\", \"author title genre\")\n",
    "books = [\n",
    "    Book(\"Pratchett\", \"Nightwatch\", \"fantasy\"), \n",
    "    Book(\"Pratchett\", \"Thief of Time\", \"fantasy\"), \n",
    "    Book(\"Le Guin\", \"The Dispossessed\", \"scifi\"),  \n",
    "    Book(\"Le Guin\", \"A Wizard ot Earthsea\", \"fantasy\"),  \n",
    "    Book(\"Turner\", \"The Thief\", \"fantasy\"),   \n",
    "    Book(\"Phillips\", \"Preston Diamond\", \"western\"),  \n",
    "    Book(\"Phillips\", \"Twice Upon A Time\", \"scifi\"),  \n",
    "]\n",
    "\n",
    "fantasy_authors = {b.author for b in books if b.genre == 'fantasy'}\n",
    "print(fantasy_authors)"
   ]
  },
  {
   "cell_type": "markdown",
   "metadata": {},
   "source": [
    "上述程式利用大括弧去做操作式  \n",
    "出來的結果會是集合(set)  \n",
    "因此 Pratchett 不會被列出兩次"
   ]
  },
  {
   "cell_type": "code",
   "execution_count": 8,
   "metadata": {},
   "outputs": [
    {
     "data": {
      "text/plain": [
       "{'Nightwatch': Book(author='Pratchett', title='Nightwatch', genre='fantasy'),\n",
       " 'Thief of Time': Book(author='Pratchett', title='Thief of Time', genre='fantasy'),\n",
       " 'A Wizard ot Earthsea': Book(author='Le Guin', title='A Wizard ot Earthsea', genre='fantasy'),\n",
       " 'The Thief': Book(author='Turner', title='The Thief', genre='fantasy')}"
      ]
     },
     "execution_count": 8,
     "metadata": {},
     "output_type": "execute_result"
    }
   ],
   "source": [
    "fantasy_title = {\n",
    "    b.title: b for b in books if b.genre == 'fantasy'\n",
    "}\n",
    "\n",
    "fantasy_title"
   ]
  },
  {
   "cell_type": "markdown",
   "metadata": {},
   "source": [
    "也可做成字典操作式"
   ]
  },
  {
   "cell_type": "markdown",
   "metadata": {},
   "source": [
    "## 產生器運算式\n",
    "  \n",
    "有時我們想要處理新的序列而不置入系統記憶體新的清單、集合或字典  \n",
    "只是想要處理一個項目且不需要建構最終容器物件  \n",
    "就要靠產生器運算式  \n",
    "跟操作式一樣的語法  \n",
    "只是將操作式包裝在 `( )` 而不是 `[ ]` 或 `{ }` \n",
    "如下範例\n",
    "\n",
    "```\n",
    "import sys\n",
    "\n",
    "inname = sys.args[1]\n",
    "outname = sys.args[2]\n",
    "\n",
    "with open(inname) as infile:\n",
    "    with open(outname, 'w') as outfile:\n",
    "        warnings = (l for l in infile if 'WARNING' in l)\n",
    "        for l in warnings:\n",
    "            outfile.write(l)\n",
    "```\n",
    "上方程式會將 log 中的 WARNING 的那幾行抓出來獨立寫在另外一個檔案  \n",
    "對於處理資料量很大  \n",
    "產生器運算式對記憶體與速度有很大的影響  \n",
    "  \n",
    "一般來說  \n",
    "如果資料只需要過濾或轉換  \n",
    "而不需要清單、集合或字典儲存時  \n",
    "要盡可能的運用運算式產生器  \n",
    "這樣會更有效率  "
   ]
  },
  {
   "cell_type": "markdown",
   "metadata": {},
   "source": [
    "# 產生器\n",
    "---\n",
    "來看個例子  \n",
    "```\n",
    "import sys\n",
    "\n",
    "inname, outname = sys.argv[1:3]\n",
    "\n",
    "def warning_filter(insequence):\n",
    "    for l in insequence:\n",
    "        if 'WARNING' in l:\n",
    "            yield l.replace('\\tWARNING','')\n",
    "\n",
    "with open(inname) as infile:\n",
    "    with open(outname, 'w') as outfile:\n",
    "        filter = warning_filter(infile)\n",
    "        for l in filter:\n",
    "            outfile.write(l)\n",
    "```\n",
    "什麼是 `yield` ??  \n",
    "`yield` 是產生器的關鍵  \n",
    "當 Python 看到函式中的 `yield` 時  \n",
    "他會將函式包裝在物件中  \n",
    "將 `yield` 陳述想成類似 `return`，離開函式時回傳一個值  \n",
    "但當函式透過 `next()` 再次被呼叫時    \n",
    "會從上次離開的位置繼續  \n",
    "也就是 `yield` 的下一行  \n",
    "而不是函式的最前面開始之處  \n",
    "上面的程式因為 `yield` 後面沒有下一行了  \n",
    "所以跳回 for 迴圈進行下一輪"
   ]
  },
  {
   "cell_type": "code",
   "execution_count": 9,
   "metadata": {},
   "outputs": [
    {
     "name": "stdout",
     "output_type": "stream",
     "text": [
      "<generator object warning_filter at 0x0000021D1FBC19C8>\n"
     ]
    }
   ],
   "source": [
    "def warning_filter(insequence):\n",
    "    for l in insequence:\n",
    "        if 'WARNING' in l:\n",
    "            yield l.replace('\\tWARNING','')\n",
    "\n",
    "print(warning_filter([]))"
   ]
  },
  {
   "cell_type": "markdown",
   "metadata": {},
   "source": [
    "可以看到此函式建構出一個特殊的產生器物件"
   ]
  },
  {
   "cell_type": "code",
   "execution_count": 78,
   "metadata": {},
   "outputs": [
    {
     "name": "stdout",
     "output_type": "stream",
     "text": [
      "1\n",
      "10\n",
      "2\n",
      "10\n",
      "3\n",
      "10\n",
      "4\n",
      "10\n",
      "5\n",
      "10\n"
     ]
    }
   ],
   "source": [
    "def print_number(num_list):\n",
    "    for item in num_list:\n",
    "        yield item\n",
    "        print(10)\n",
    "\n",
    "num_list = [1,2,3,4,5]\n",
    "a = print_number(num_list)\n",
    "\n",
    "for i in a:\n",
    "    print(i)"
   ]
  },
  {
   "cell_type": "markdown",
   "metadata": {},
   "source": [
    "# 從其他iterable 產生項目\n",
    "---\n",
    "讓我們思考一個經典電腦問題：遍歷一個普通樹  \n",
    "檔案系統是常見的樹資料結構"
   ]
  },
  {
   "cell_type": "code",
   "execution_count": 97,
   "metadata": {},
   "outputs": [
    {
     "name": "stdout",
     "output_type": "stream",
     "text": [
      "/\n",
      "etc/\n",
      "------------------\n",
      "passwd\n",
      "groups\n",
      "httpd/\n",
      "http.conf\n",
      "var/\n",
      "log/\n",
      "messages\n",
      "kernel\n"
     ]
    }
   ],
   "source": [
    "class File:\n",
    "    def __init__(self, name) -> None:\n",
    "        self.name = name\n",
    "\n",
    "class Folder(File):\n",
    "    def __init__(self, name) -> None:\n",
    "        super().__init__(name)\n",
    "        self.children = []\n",
    "\n",
    "root = Folder('')\n",
    "etc = Folder('etc')\n",
    "root.children.append(etc)\n",
    "etc.children.append(File('passwd'))\n",
    "etc.children.append(File('groups'))\n",
    "httpd = Folder('httpd')\n",
    "etc.children.append(httpd)\n",
    "httpd.children.append(File('http.conf'))\n",
    "var = Folder('var')\n",
    "root.children.append(var)\n",
    "log = Folder('log')\n",
    "var.children.append(log)\n",
    "log.children.append(File('messages'))\n",
    "log.children.append(File('kernel'))\n",
    "\n",
    "def walk(file):\n",
    "    if isinstance(file, Folder):\n",
    "        yield file.name + '/'\n",
    "        for f in file.children:\n",
    "            yield from walk(f)\n",
    "    else:\n",
    "        yield file.name\n",
    "\n",
    "result = walk(root)\n",
    "print(next(result))\n",
    "print(next(result))\n",
    "print('------------------')\n",
    "for r in result:\n",
    "    print(r)"
   ]
  },
  {
   "cell_type": "markdown",
   "metadata": {},
   "source": [
    "# 協程\n",
    "---\n",
    "協程 (coroutine) 是非常強的結構  \n",
    "通常會和產生器搞混  \n",
    "協程相當難理解  \n",
    "且也不太常用    \n",
    "有一些函式庫大量使用協程(主要用在同時性和非同步程式設計)  \n",
    "下面是一個簡單的協程範例  "
   ]
  },
  {
   "cell_type": "code",
   "execution_count": 89,
   "metadata": {},
   "outputs": [],
   "source": [
    "def tally():\n",
    "    score = 0\n",
    "    while True:\n",
    "        increment = yield score\n",
    "        score += increment"
   ]
  },
  {
   "cell_type": "markdown",
   "metadata": {},
   "source": [
    "這個程式看起來無法運作  \n",
    "我們先來檢視他的執行  \n",
    "這個物件可用來球隊計分"
   ]
  },
  {
   "cell_type": "code",
   "execution_count": 91,
   "metadata": {},
   "outputs": [
    {
     "name": "stdout",
     "output_type": "stream",
     "text": [
      "Game start!\n",
      "white_sox: 0\n",
      "blue_jays: 0\n",
      "\n",
      "The first inning\n",
      "white_sox: 3\n",
      "blue_jays: 2\n",
      "\n",
      "The second inning\n",
      "white_sox: 5\n",
      "blue_jays: 6\n"
     ]
    }
   ],
   "source": [
    "white_sox = tally()\n",
    "blue_jays = tally()\n",
    "\n",
    "print(\"Game start!\")\n",
    "print('white_sox:', next(white_sox))\n",
    "print('blue_jays:', next(blue_jays))\n",
    "print(\"\\nThe first inning\")\n",
    "print('white_sox:', white_sox.send(3))\n",
    "print('blue_jays:', blue_jays.send(2))\n",
    "print(\"\\nThe second inning\")\n",
    "print('white_sox:', white_sox.send(2))\n",
    "print('blue_jays:', blue_jays.send(4))"
   ]
  },
  {
   "cell_type": "markdown",
   "metadata": {},
   "source": [
    "事情發生的順序是這樣的\n",
    "1. `yield` 發生且產生器暫停\n",
    "2. `send()`在函式之外觸發，並將 `send()` 內的值帶進函式裡，並且從剛剛停下的 `yield` 開始出發\n",
    "3. `increment` 被賦予 `send()` 裡的數字\n",
    "4. `score` 加上 `increment`\n",
    "5. 繼續下一圈，碰到 `yield` 將值拋出，產生器暫停"
   ]
  },
  {
   "cell_type": "markdown",
   "metadata": {},
   "source": [
    "現在我們有一個 Linux Log File 如下\n",
    "> unrelated log messages  \n",
    "sd 0:0:0:0 Attached Disk Drive  \n",
    "unrelated log messages  \n",
    "sd 0:0:0:0 (SERIAL=ZZ12345)  \n",
    "unrelated log messages  \n",
    "sd 0:0:0:0 [sda] Options  \n",
    "unrelated log messages  \n",
    "XFS ERROR [sda]  \n",
    "unrelated log messages  \n",
    "sd 2:0:0:1 Attached Disk Drive  \n",
    "unrelated log messages  \n",
    "sd 2:0:0:1 (SERIAL=ZZ67890)  \n",
    "unrelated log messages  \n",
    "sd 2:0:0:1 [sdb] Options  \n",
    "unrelated log messages  \n",
    "sd 3:0:1:8 Attached Disk Drive  \n",
    "unrelated log messages  \n",
    "sd 3:0:1:8 (SERIAL=WW11111)  \n",
    "unrelated log messages  \n",
    "sd 3:0:1:8 [sdc] Options  \n",
    "unrelated log messages  \n",
    "XFS ERROR [sdc]  \n",
    "unrelated log messages  \n",
    "  \n",
    "我們要找出所有發生 XFS ERROR 的 SERIAL NUMBER  \n",
    "程式如下"
   ]
  },
  {
   "cell_type": "code",
   "execution_count": 25,
   "metadata": {},
   "outputs": [
    {
     "name": "stdout",
     "output_type": "stream",
     "text": [
      "WW11111\n",
      "ZZ12345\n",
      "Done\n"
     ]
    }
   ],
   "source": [
    "import re\n",
    "\n",
    "def match_regex(filename, regex):\n",
    "    with open(filename) as file:\n",
    "        lines = file.readlines()\n",
    "    for line in reversed(lines):\n",
    "        match = re.match(regex, line)\n",
    "        if match:\n",
    "            regex = yield match.group(1)\n",
    "\n",
    "def get_serial(filename):\n",
    "    ERROR_RE = 'XFS ERROR (\\[sd[a-z]\\])'\n",
    "    matcher = match_regex(filename, ERROR_RE)\n",
    "    device = next(matcher)\n",
    "    while True:\n",
    "        bus = matcher.send(f'(sd \\S+) {re.escape(device)}.*')\n",
    "        serial = matcher.send(f'{bus} \\(SERIAL=([^)]*)\\)')\n",
    "        yield serial\n",
    "        device = matcher.send(ERROR_RE)\n",
    "try:\n",
    "    for serial_number in get_serial('EXAMPLE_LOG.log'):\n",
    "        print(serial_number)\n",
    "except RuntimeError:\n",
    "    print('Done')"
   ]
  },
  {
   "cell_type": "code",
   "execution_count": null,
   "metadata": {},
   "outputs": [],
   "source": []
  }
 ],
 "metadata": {
  "interpreter": {
   "hash": "45539b59eebab2005aa4fedb9a515f3794869189fd737dea53041ed0fca9d17e"
  },
  "kernelspec": {
   "display_name": "Python 3.7.9 64-bit ('python3_oop': venv)",
   "name": "python3"
  },
  "language_info": {
   "codemirror_mode": {
    "name": "ipython",
    "version": 3
   },
   "file_extension": ".py",
   "mimetype": "text/x-python",
   "name": "python",
   "nbconvert_exporter": "python",
   "pygments_lexer": "ipython3",
   "version": "3.7.9"
  },
  "orig_nbformat": 4
 },
 "nbformat": 4,
 "nbformat_minor": 2
}
