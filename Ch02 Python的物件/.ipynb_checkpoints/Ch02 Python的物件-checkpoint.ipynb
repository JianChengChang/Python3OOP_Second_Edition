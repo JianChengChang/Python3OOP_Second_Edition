{
 "cells": [
  {
   "cell_type": "markdown",
   "id": "df4d1bb8",
   "metadata": {},
   "source": [
    "# 建構Python類別\n",
    "我們無須寫很多程式才能理解 Python 是非常〝乾淨〞的語言。<br>\n",
    "最簡單的類別在 Python3 中看起來如下"
   ]
  },
  {
   "cell_type": "code",
   "execution_count": 1,
   "id": "5cd6682a",
   "metadata": {},
   "outputs": [],
   "source": [
    "class MyFirstClass:\n",
    "    pass"
   ]
  },
  {
   "cell_type": "markdown",
   "id": "80a0f904",
   "metadata": {},
   "source": [
    "> 類別名稱必須依循標準的Python變數命名規則<br>\n",
    "> 必須以字母或底線開頭，只能由字母底線數字組成<br>\n",
    "> Python個風格指引建議類別以CamelCase記號法"
   ]
  },
  {
   "cell_type": "markdown",
   "id": "1cd60b5a",
   "metadata": {},
   "source": [
    "Python是以縮排來表示類別內容<br>\n",
    "建議以4個空白<br>\n",
    "但個人已經習慣用 tab<br>"
   ]
  },
  {
   "cell_type": "code",
   "execution_count": 2,
   "id": "fcaf52be",
   "metadata": {},
   "outputs": [
    {
     "name": "stdout",
     "output_type": "stream",
     "text": [
      "<__main__.MyFirstClass object at 0x000001CA68846D08>\n",
      "<__main__.MyFirstClass object at 0x000001CA688466C8>\n"
     ]
    }
   ],
   "source": [
    "a = MyFirstClass()\n",
    "b = MyFirstClass()\n",
    "print(a)\n",
    "print(b)"
   ]
  },
  {
   "cell_type": "markdown",
   "id": "9b6edbe1",
   "metadata": {},
   "source": [
    "此程式碼初始化兩個物件，名稱為 a 和 b<br>\n",
    "對 a 和 b print 之後會顯示他們為類別物件，以及他們記憶體位置。<br>\n",
    "記憶體位置不同，代表兩個不同物件。<br>"
   ]
  },
  {
   "cell_type": "markdown",
   "id": "a97ea206",
   "metadata": {},
   "source": [
    "## 加入屬性\n",
    "我們可以使用點記號法對初始化物件設定屬性"
   ]
  },
  {
   "cell_type": "code",
   "execution_count": 3,
   "id": "3a6bfaf1",
   "metadata": {},
   "outputs": [
    {
     "name": "stdout",
     "output_type": "stream",
     "text": [
      "5 4\n",
      "3 6\n"
     ]
    }
   ],
   "source": [
    "class Point:\n",
    "    pass\n",
    "\n",
    "p1 = Point()\n",
    "p2 = Point()\n",
    "\n",
    "p1.x = 5\n",
    "p1.y = 4\n",
    "\n",
    "p2.x = 3\n",
    "p2.y = 6\n",
    "\n",
    "print(p1.x, p1.y)\n",
    "print(p2.x, p2.y)"
   ]
  },
  {
   "cell_type": "markdown",
   "id": "4c2813fb",
   "metadata": {},
   "source": [
    "此程式建構空的 Point 類別，沒有資料或行為，<br>\n",
    "然後建構兩個類別實例並指派 x,y 二為座標，<br>\n",
    "我們只需用 <object\\>.<attribute\\> = <value\\> 語法指派值給物件的屬性，<br>\n",
    "稱為點記號法，<br>\n",
    "值可以是任何東西，Python的原始型別、內建資料型別或其他物件，也能是其他函式或類別。<br>"
   ]
  },
  {
   "cell_type": "markdown",
   "id": "9e6162e3",
   "metadata": {},
   "source": [
    "## 讓它做點事\n",
    "現在，有屬性的物件是很棒<br>\n",
    "但物件導向程式設計是與物件間的互動有關<br>\n",
    "讓我們對 Point 類別建立一些動作<br>\n",
    "設計一個 reset 來將物件中的 x,y 座標回到原點<br>"
   ]
  },
  {
   "cell_type": "code",
   "execution_count": 1,
   "id": "11be25c5",
   "metadata": {},
   "outputs": [
    {
     "name": "stdout",
     "output_type": "stream",
     "text": [
      "0 0\n"
     ]
    }
   ],
   "source": [
    "class Point:\n",
    "    def reset(self):\n",
    "        self.x = 0\n",
    "        self.y = 0\n",
    "\n",
    "p = Point()\n",
    "p.reset()\n",
    "print(p.x, p.y)"
   ]
  },
  {
   "cell_type": "markdown",
   "id": "45c3dab2",
   "metadata": {},
   "source": [
    "Python中的方法格式與函式相同<br>\n",
    "以 def 關鍵字開頭 <br>"
   ]
  },
  {
   "cell_type": "markdown",
   "id": "f3370367",
   "metadata": {},
   "source": [
    "## 跟自己說話\n",
    "方法(method)跟正常函式(formula)之間的差別是，所有方法都必須要有一個必要參數<br>\n",
    "此參數傳統上稱為 self<br>\n",
    "<br>\n",
    "注意當我們呼叫p.reset()時<br>\n",
    "我們不用傳入 self 函數<br>\n",
    "Python自動的幫我們處理這個<br>\n",
    "<br>\n",
    "我們也可以直接傳入物件當作self參數"
   ]
  },
  {
   "cell_type": "code",
   "execution_count": 4,
   "id": "5babf73d",
   "metadata": {},
   "outputs": [
    {
     "name": "stdout",
     "output_type": "stream",
     "text": [
      "0 0\n"
     ]
    }
   ],
   "source": [
    "p = Point()\n",
    "Point.reset(p)\n",
    "print(p.x, p.y)"
   ]
  },
  {
   "cell_type": "markdown",
   "id": "4bf0dde9",
   "metadata": {},
   "source": [
    "若忘記在類別方法引用 self 呢?<br>\n",
    "會出現以下錯誤<br>"
   ]
  },
  {
   "cell_type": "code",
   "execution_count": 6,
   "id": "a78cecd8",
   "metadata": {},
   "outputs": [
    {
     "ename": "TypeError",
     "evalue": "reset() takes 0 positional arguments but 1 was given",
     "output_type": "error",
     "traceback": [
      "\u001b[1;31m---------------------------------------------------------------------------\u001b[0m",
      "\u001b[1;31mTypeError\u001b[0m                                 Traceback (most recent call last)",
      "\u001b[1;32m~\\AppData\\Local\\Temp/ipykernel_12496/4168672087.py\u001b[0m in \u001b[0;36m<module>\u001b[1;34m\u001b[0m\n\u001b[0;32m      4\u001b[0m \u001b[1;33m\u001b[0m\u001b[0m\n\u001b[0;32m      5\u001b[0m \u001b[0mp\u001b[0m \u001b[1;33m=\u001b[0m \u001b[0mPoint\u001b[0m\u001b[1;33m(\u001b[0m\u001b[1;33m)\u001b[0m\u001b[1;33m\u001b[0m\u001b[1;33m\u001b[0m\u001b[0m\n\u001b[1;32m----> 6\u001b[1;33m \u001b[0mp\u001b[0m\u001b[1;33m.\u001b[0m\u001b[0mreset\u001b[0m\u001b[1;33m(\u001b[0m\u001b[1;33m)\u001b[0m\u001b[1;33m\u001b[0m\u001b[1;33m\u001b[0m\u001b[0m\n\u001b[0m",
      "\u001b[1;31mTypeError\u001b[0m: reset() takes 0 positional arguments but 1 was given"
     ]
    }
   ],
   "source": [
    "class Point():\n",
    "    def reset():\n",
    "        pass\n",
    "\n",
    "p = Point()\n",
    "p.reset()"
   ]
  },
  {
   "cell_type": "markdown",
   "id": "497f907f",
   "metadata": {},
   "source": [
    "## 更多的參數\n",
    "加入能夠移動座標的新方法<br>\n",
    "引入接受其他 Point 物件並回傳兩者之間的距離<br>"
   ]
  },
  {
   "cell_type": "code",
   "execution_count": 7,
   "id": "aec35d5c",
   "metadata": {},
   "outputs": [
    {
     "name": "stdout",
     "output_type": "stream",
     "text": [
      "5.0\n",
      "4.47213595499958\n",
      "0.0\n"
     ]
    }
   ],
   "source": [
    "import math\n",
    "\n",
    "class Point():\n",
    "    def move(self, x ,y):\n",
    "        self.x = x\n",
    "        self.y = y\n",
    "    \n",
    "    def reset(self):\n",
    "        self.move(0, 0)\n",
    "        \n",
    "    def calculate_distance(self, other_point):\n",
    "        return math.sqrt((self.x - other_point.x)**2 + (self.y - other_point.y)**2)\n",
    "\n",
    "# 使用\n",
    "point1 = Point()\n",
    "point2 = Point()\n",
    "\n",
    "point1.reset()\n",
    "point2.move(5, 0)\n",
    "print(point2.calculate_distance(point1))\n",
    "assert point2.calculate_distance(point1) == point1.calculate_distance(point2)\n",
    "point1.move(3,4)\n",
    "print(point1.calculate_distance(point2))\n",
    "print(point1.calculate_distance(point1))"
   ]
  },
  {
   "cell_type": "markdown",
   "id": "fcd2c35a",
   "metadata": {},
   "source": [
    "現在類別中有三個方法<br>\n",
    "move 方法接受x, y值並設定self物件上的值<br>\n",
    "原有的 reset 呼叫 move 方法，並帶入 (0, 0)，使 x, y 移動到 0, 0 (等同於回歸原點)<br>\n",
    "calculate_distance方法則在參數中帶入另一個 Point物件<br>\n",
    "就能計算兩個物件的距離<br>"
   ]
  },
  {
   "cell_type": "markdown",
   "id": "467c06b0",
   "metadata": {},
   "source": [
    "## 物件初始化\n",
    "如果我們沒有明確的使用 move 或直接存取來設定 Point 上的 x, y會發生什麼事 ?\n"
   ]
  },
  {
   "cell_type": "code",
   "execution_count": 9,
   "id": "2833e4d6",
   "metadata": {},
   "outputs": [
    {
     "name": "stdout",
     "output_type": "stream",
     "text": [
      "5\n"
     ]
    },
    {
     "ename": "AttributeError",
     "evalue": "'Point' object has no attribute 'y'",
     "output_type": "error",
     "traceback": [
      "\u001b[1;31m---------------------------------------------------------------------------\u001b[0m",
      "\u001b[1;31mAttributeError\u001b[0m                            Traceback (most recent call last)",
      "\u001b[1;32m~\\AppData\\Local\\Temp/ipykernel_12496/2084099063.py\u001b[0m in \u001b[0;36m<module>\u001b[1;34m\u001b[0m\n\u001b[0;32m      2\u001b[0m \u001b[0mp\u001b[0m\u001b[1;33m.\u001b[0m\u001b[0mx\u001b[0m \u001b[1;33m=\u001b[0m \u001b[1;36m5\u001b[0m\u001b[1;33m\u001b[0m\u001b[1;33m\u001b[0m\u001b[0m\n\u001b[0;32m      3\u001b[0m \u001b[0mprint\u001b[0m\u001b[1;33m(\u001b[0m\u001b[0mp\u001b[0m\u001b[1;33m.\u001b[0m\u001b[0mx\u001b[0m\u001b[1;33m)\u001b[0m\u001b[1;33m\u001b[0m\u001b[1;33m\u001b[0m\u001b[0m\n\u001b[1;32m----> 4\u001b[1;33m \u001b[0mprint\u001b[0m\u001b[1;33m(\u001b[0m\u001b[0mp\u001b[0m\u001b[1;33m.\u001b[0m\u001b[0my\u001b[0m\u001b[1;33m)\u001b[0m\u001b[1;33m\u001b[0m\u001b[1;33m\u001b[0m\u001b[0m\n\u001b[0m",
      "\u001b[1;31mAttributeError\u001b[0m: 'Point' object has no attribute 'y'"
     ]
    }
   ],
   "source": [
    "p = Point()\n",
    "p.x = 5\n",
    "print(p.x)\n",
    "print(p.y)"
   ]
  },
  {
   "cell_type": "markdown",
   "id": "d9cf9382",
   "metadata": {},
   "source": [
    "這邊告訴我們一個 AttributeError<Br>\n",
    "是個非常有用的錯誤訊息<br>\n",
    "直接點明了說 Point 物件沒有 y 屬性<br>\n",
    "或許我們能直接強迫使用者在使用此物件時，就給予座標<br>\n",
    "Python的初始化方法是用 **\\_\\_init__** 這個特殊名稱<br>\n",
    "前置與後綴雙底線表示這是Python直譯器會當作特例處理的特別方法<br>"
   ]
  },
  {
   "cell_type": "markdown",
   "id": "92a5d89a",
   "metadata": {},
   "source": [
    "> 絕對不要將自訂的方法或函式以前置和後綴的雙底線命名"
   ]
  },
  {
   "cell_type": "code",
   "execution_count": 11,
   "id": "69679f42",
   "metadata": {},
   "outputs": [
    {
     "name": "stdout",
     "output_type": "stream",
     "text": [
      "3 5\n"
     ]
    }
   ],
   "source": [
    "class Point():\n",
    "    \n",
    "    # 若不想讓x, y為必填，可以直接帶入預設值\n",
    "    # def __init__(self, x=0, y=0):\n",
    "    def __init__(self, x, y):\n",
    "        self.move(x, y)\n",
    "    \n",
    "    def move(self, x, y):\n",
    "        self.x = x\n",
    "        self.y = y\n",
    "    \n",
    "    def reset(self):\n",
    "        self.move(0, 0)\n",
    "\n",
    "p = Point(3, 5)\n",
    "print(p.x, p.y)"
   ]
  },
  {
   "cell_type": "markdown",
   "id": "385fbece",
   "metadata": {},
   "source": [
    "## 自我說明\n",
    "撰寫API文件清楚總結每個物件與方法的作用很重要<br>\n",
    "即時更新文件很困難<br>\n",
    "不如直接先寫在程式碼中吧! <br>\n",
    "風格指引建議<br>\n",
    "註解不要超過80個字元比較好<br>"
   ]
  },
  {
   "cell_type": "code",
   "execution_count": 13,
   "id": "a1c84abc",
   "metadata": {},
   "outputs": [],
   "source": [
    "import math\n",
    "\n",
    "class Point():\n",
    "    '代表二維空間中的點'\n",
    "    \n",
    "    def __init__(self, x=0, y=0):\n",
    "        '''點的初始化位置，可以指定位置，若無指定則為原點'''\n",
    "        self.move(x, y)\n",
    "        \n",
    "    def move(self, x ,y):\n",
    "        '移動x, y到新的2D空間'\n",
    "        self.x = x\n",
    "        self.y = y\n",
    "    \n",
    "    def reset(self):\n",
    "        '將點重置回原點0, 0'\n",
    "        self.move(0, 0)\n",
    "        \n",
    "    def calculate_distance(self, other_point):\n",
    "        '''計算目前的點，與傳入的另一個點物件之間的距離\n",
    "        此函使用勾股定理計算距離，回傳浮點數'''\n",
    "        return math.sqrt((self.x - other_point.x)**2 + (self.y - other_point.y)**2)"
   ]
  },
  {
   "cell_type": "code",
   "execution_count": null,
   "id": "8131e619",
   "metadata": {},
   "outputs": [],
   "source": []
  }
 ],
 "metadata": {
  "kernelspec": {
   "display_name": "Python 3 (ipykernel)",
   "language": "python",
   "name": "python3"
  },
  "language_info": {
   "codemirror_mode": {
    "name": "ipython",
    "version": 3
   },
   "file_extension": ".py",
   "mimetype": "text/x-python",
   "name": "python",
   "nbconvert_exporter": "python",
   "pygments_lexer": "ipython3",
   "version": "3.7.9"
  }
 },
 "nbformat": 4,
 "nbformat_minor": 5
}
