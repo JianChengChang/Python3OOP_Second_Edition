{
 "cells": [
  {
   "cell_type": "markdown",
   "id": "f5a715a5",
   "metadata": {},
   "source": [
    "# 建構Python類別\n",
    "我們無須寫很多程式才能理解 Python 是非常〝乾淨〞的語言。<br>\n",
    "最簡單的類別在 Python3 中看起來如下"
   ]
  },
  {
   "cell_type": "code",
   "execution_count": 1,
   "id": "318d6226",
   "metadata": {},
   "outputs": [],
   "source": [
    "class MyFirstClass:\n",
    "    pass"
   ]
  },
  {
   "cell_type": "markdown",
   "id": "883006f3",
   "metadata": {},
   "source": [
    "> 類別名稱必須依循標準的Python變數命名規則<br>\n",
    "> 必須以字母或底線開頭，只能由字母底線數字組成<br>\n",
    "> Python個風格指引建議類別以CamelCase記號法"
   ]
  },
  {
   "cell_type": "markdown",
   "id": "18a58e2c",
   "metadata": {},
   "source": [
    "Python是以縮排來表示類別內容<br>\n",
    "建議以4個空白<br>\n",
    "但個人已經習慣用 tab<br>"
   ]
  },
  {
   "cell_type": "code",
   "execution_count": 2,
   "id": "c4c4c579",
   "metadata": {},
   "outputs": [
    {
     "name": "stdout",
     "output_type": "stream",
     "text": [
      "<__main__.MyFirstClass object at 0x000001CA68846D08>\n",
      "<__main__.MyFirstClass object at 0x000001CA688466C8>\n"
     ]
    }
   ],
   "source": [
    "a = MyFirstClass()\n",
    "b = MyFirstClass()\n",
    "print(a)\n",
    "print(b)"
   ]
  },
  {
   "cell_type": "markdown",
   "id": "dfc8b713",
   "metadata": {},
   "source": [
    "此程式碼初始化兩個物件，名稱為 a 和 b<br>\n",
    "對 a 和 b print 之後會顯示他們為類別物件，以及他們記憶體位置。<br>\n",
    "記憶體位置不同，代表兩個不同物件。<br>"
   ]
  },
  {
   "cell_type": "markdown",
   "id": "7f78dc85",
   "metadata": {},
   "source": [
    "## 加入屬性\n",
    "我們可以使用點記號法對初始化物件設定屬性"
   ]
  },
  {
   "cell_type": "code",
   "execution_count": 3,
   "id": "c1d18131",
   "metadata": {},
   "outputs": [
    {
     "name": "stdout",
     "output_type": "stream",
     "text": [
      "5 4\n",
      "3 6\n"
     ]
    }
   ],
   "source": [
    "class Point:\n",
    "    pass\n",
    "\n",
    "p1 = Point()\n",
    "p2 = Point()\n",
    "\n",
    "p1.x = 5\n",
    "p1.y = 4\n",
    "\n",
    "p2.x = 3\n",
    "p2.y = 6\n",
    "\n",
    "print(p1.x, p1.y)\n",
    "print(p2.x, p2.y)"
   ]
  },
  {
   "cell_type": "markdown",
   "id": "65b7bfd1",
   "metadata": {},
   "source": [
    "此程式建構空的 Point 類別，沒有資料或行為，<br>\n",
    "然後建構兩個類別實例並指派 x,y 二為座標，<br>\n",
    "我們只需用 \\<object\\>.\\<attribute\\> = \\<value\\> 語法指派值給物件的屬性，<br>\n",
    "稱為點記號法，<br>\n",
    "值可以是任何東西，Python的原始型別、內建資料型別或其他物件，也能是其他函式或類別。<br>"
   ]
  },
  {
   "cell_type": "markdown",
   "id": "37a6fdc6",
   "metadata": {},
   "source": [
    "## 讓它做點事"
   ]
  }
 ],
 "metadata": {
  "kernelspec": {
   "display_name": "Python 3 (ipykernel)",
   "language": "python",
   "name": "python3"
  },
  "language_info": {
   "codemirror_mode": {
    "name": "ipython",
    "version": 3
   },
   "file_extension": ".py",
   "mimetype": "text/x-python",
   "name": "python",
   "nbconvert_exporter": "python",
   "pygments_lexer": "ipython3",
   "version": "3.7.9"
  }
 },
 "nbformat": 4,
 "nbformat_minor": 5
}
