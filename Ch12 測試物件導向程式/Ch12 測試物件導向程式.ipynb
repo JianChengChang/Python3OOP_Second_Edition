{
 "cells": [
  {
   "cell_type": "markdown",
   "metadata": {},
   "source": [
    "這章討論  \n",
    "* 單元測試與測試驅動開發的重要性\n",
    "* 標準的 unittest 模組\n",
    "* py.test 自動化測試套件\n",
    "* mock 模組\n",
    "* 程式範圍\n",
    "* 以 tox 跨平台測試"
   ]
  },
  {
   "cell_type": "markdown",
   "metadata": {},
   "source": [
    "# 為何要測試\n",
    "---\n",
    "撰寫測試有四個主要原因  \n",
    "* 確保程式以開發者所想的方式運作\n",
    "* 確保程式在修改後還能運作\n",
    "* 確保開發者理解需求\n",
    "* 確保程式以可維護的介面撰寫  \n",
    "  \n",
    "為了第一點撰寫程式所花的時間不能說明什麼  \n",
    "我們可以直接在直譯器上直接測試  \n",
    "當我們必須多次執行相同的測試動作時  \n",
    "將測試自動化所花的時間比每次執行他們的時間還少\n",
    "\n",
    "## 測試導向開發\n",
    "兩個目標  \n",
    "首先確保真正寫出測試  \n",
    "其次  \n",
    "先撰寫測試可讓我們專注於思考程式如何互動  \n",
    "他可以告訴我們物件必須要有什麼方法與屬性如何存取  \n",
    "幫助我們拆解問題  \n",
    "然後透過測試過程式重組成較大且測試過的方案  "
   ]
  },
  {
   "cell_type": "markdown",
   "metadata": {},
   "source": [
    "# 單元測試\n",
    "---\n",
    "從 Python 內建的測試函式庫開始探索  \n",
    "單元測試專注於在任何一個測試內盡可能的測試最少量的程式  \n",
    "此套件稱為 unittest  \n",
    "他提供了幾個建構與執行單元測試的工具  \n",
    "其中最重要的是 TestCase 類別  \n",
    "此類別提供一組方法讓我們能夠比較值、設置測試和結束時進行清理  \n",
    "當我們想要撰寫特定任務的單元測試時  \n",
    "建構 TestCase 的子類別並撰寫執行實際測試的個別方法  \n",
    "這些方法名稱必須以 test 開頭\n",
    "測試會在過程中自動執行  \n",
    "\n",
    "```\n",
    "import unittest\n",
    "\n",
    "class CheckNumbers(unittest.TestCase):\n",
    "    def test_int_float(self) -> None:\n",
    "        self.assertEqual(1, 1.0)\n",
    "if __name__ == \"__main__\":\n",
    "    unittest.main()\n",
    "```\n",
    "此程式只是製作 TestCase 的子類別並呼叫 TestCase.assertEqual方法  \n",
    "此方法會根據兩個參數是否相等  \n",
    "結果如下"
   ]
  },
  {
   "cell_type": "code",
   "execution_count": 12,
   "metadata": {},
   "outputs": [
    {
     "name": "stderr",
     "output_type": "stream",
     "text": [
      ".\n",
      "----------------------------------------------------------------------\n",
      "Ran 1 test in 0.000s\n",
      "\n",
      "OK\n"
     ]
    }
   ],
   "source": [
    "! python unittest_sample1.py"
   ]
  },
  {
   "cell_type": "markdown",
   "metadata": {},
   "source": [
    "加入字串與浮點數比較\n",
    "```\n",
    "import unittest\n",
    "\n",
    "class CheckNumbers(unittest.TestCase):\n",
    "    def test_int_float(self) -> None:\n",
    "        self.assertEqual(1, 1.0)\n",
    "        \n",
    "    def test_str_float(self) -> None:\n",
    "        self.assertEqual(\"1\", 1.0)\n",
    "        \n",
    "if __name__ == \"__main__\":\n",
    "    unittest.main()\n",
    "```"
   ]
  },
  {
   "cell_type": "code",
   "execution_count": 14,
   "metadata": {},
   "outputs": [
    {
     "name": "stderr",
     "output_type": "stream",
     "text": [
      ".F\n",
      "======================================================================\n",
      "FAIL: test_str_float (__main__.CheckNumbers)\n",
      "----------------------------------------------------------------------\n",
      "Traceback (most recent call last):\n",
      "  File \"unittest_sample2.py\", line 8, in test_str_float\n",
      "    self.assertEqual(\"1\", 1.0)\n",
      "AssertionError: '1' != 1.0\n",
      "\n",
      "----------------------------------------------------------------------\n",
      "Ran 2 tests in 0.000s\n",
      "\n",
      "FAILED (failures=1)\n"
     ]
    }
   ],
   "source": [
    "! python unittest_sample2.py"
   ]
  },
  {
   "cell_type": "markdown",
   "metadata": {},
   "source": [
    "結果第一行 .F 的部分  \n",
    "第一個 . 代表第一個測試通過\n",
    "後面的 F 代表第二個測試失敗  \n",
    "並輸出一些資訊告訴我們何處失敗以及失敗數量總和  \n",
    "TestCase中可以有任何數量的測試方法  \n",
    "只要名稱以 test 開頭即可  \n",
    "測試程序會執行每個獨立的測試  \n",
    "每個測試應完全獨立於其他測試  \n",
    "撰寫好的單元測試在於盡可能保持測試方法簡短"
   ]
  },
  {
   "cell_type": "markdown",
   "metadata": {},
   "source": [
    "## 評測方法\n"
   ]
  },
  {
   "cell_type": "markdown",
   "metadata": {},
   "source": [
    "assertRaises方法可用來確保特定函式呼叫會拋出特定例外  \n",
    "也可以用 `with` 來包裝行內程式  \n",
    "如果 `with` 陳述內的程式拋出特定例外則測試通過  \n",
    "不然就失敗\n",
    "以下為範例  \n",
    "```\n",
    "import unittest\n",
    "\n",
    "def average(seq):\n",
    "    return sum(seq)/len(seq)\n",
    "\n",
    "class TestAverage(unittest.TestCase):\n",
    "    def test_zero(self):\n",
    "        self.assertRaises(ZeroDivisionError, average, [])\n",
    "\n",
    "    def test_with_zero(self):\n",
    "        with self.assertRaises(ZeroDivisionError):\n",
    "            average([])\n",
    "\n",
    "if __name__ == \"__main__\":\n",
    "    unittest.main()\n",
    "```"
   ]
  },
  {
   "cell_type": "code",
   "execution_count": 1,
   "metadata": {},
   "outputs": [
    {
     "name": "stderr",
     "output_type": "stream",
     "text": [
      "..\n",
      "----------------------------------------------------------------------\n",
      "Ran 2 tests in 0.000s\n",
      "\n",
      "OK\n"
     ]
    }
   ],
   "source": [
    "! python unittest_sample3.py"
   ]
  },
  {
   "cell_type": "markdown",
   "metadata": {},
   "source": [
    "其他評測方法  \n",
    "  \n",
    "| 方法 | 說明 |\n",
    "| --- | --- |\n",
    "| assertGreater<br />assertGreaterEqual<br />assertLess<br />asserLessEqual | 接受兩個可比較的物件並確保與名稱所示比較相符 |\n",
    "| assertIn<br />assertNotIn | 確保元素是(或不是)容器物件中的元素 |\n",
    "| assertIsNone<br />assertIsNotNone | 確保元素是(或不是)None值 |\n",
    "| assertSameElements | 確保兩個容器物件有相同元素，不看順序 |\n",
    "| assertSequenceEqual<br />assertDictEqual<br />assertSetEqual<br />assertListEqual<br />asserTupleEqual | 確保兩個容易物件優相同元素與相同順序<br />如果失敗，顯示兩個清單的差異<br />後四個方法會測試清單的型別 |\n"
   ]
  },
  {
   "cell_type": "markdown",
   "metadata": {},
   "source": [
    "## 減少模板與清理\n",
    "撰寫過幾個小測試後  \n",
    "通常會發現必須對幾個相關的測試執行同樣的設置程式  \n",
    "舉例來說  \n",
    "以下的 list 子類別有三個靜態計算方法"
   ]
  },
  {
   "cell_type": "code",
   "execution_count": 2,
   "metadata": {},
   "outputs": [],
   "source": [
    "from collections import defaultdict\n",
    "\n",
    "class StatsList(list):\n",
    "    def mean(self):\n",
    "        return sum(self)/len(self)\n",
    "\n",
    "    def median(self):\n",
    "        if len(self) % 2:\n",
    "            return self[int(len(self)/2)]\n",
    "        else:\n",
    "            idx = int(len(self)/2)\n",
    "            return (self[idx]+self[idx-1])/2\n",
    "    \n",
    "    def mode(self):\n",
    "        freqs = defaultdict(int)\n",
    "        for item in self:\n",
    "            freqs[item] += 1\n",
    "        mode_freq = max(freqs.values())\n",
    "        modes = []\n",
    "        for item, value in freqs.items():\n",
    "            if value == mode_freq:\n",
    "                modes.append(item)\n",
    "        return modes\n",
    "\n",
    "# 以上程式寫在 stats.py中"
   ]
  },
  {
   "cell_type": "markdown",
   "metadata": {},
   "source": [
    "我想要對上述三個方法所做的測試狀況有非常類似的輸入  \n",
    "想要看到遇到空清單或帶有非數值的清單  \n",
    "或帶有正常資料時會發生什麼事  \n",
    "我們可以使用 `TestCase` 類別的 `setUp` 方法來為每個測試執行初始化  \n",
    "```\n",
    "from stats import StatsList\n",
    "import unittest\n",
    "\n",
    "class TestValidInputs(unittest.TestCase):\n",
    "    def setUp(self) -> None:\n",
    "        '''測試初始化'''\n",
    "        self.stats = StatsList([1,2,2,3,3,4])\n",
    "    \n",
    "    def test_mean(self):\n",
    "        '''測試平均值是否等於 2.5'''\n",
    "        self.assertEqual(self.stats.mean(), 2.5)\n",
    "    \n",
    "    def test_median(self):\n",
    "        '''測試中位數是否等於 2.5 增加 4 之後是否等於 3'''\n",
    "        self.assertEqual(self.stats.median(), 2.5)\n",
    "        self.stats.append(4)\n",
    "        self.assertEqual(self.stats.median(), 3)\n",
    "    \n",
    "    def test_mode(self):\n",
    "        '''測試眾數是否為 [2,3], 移除一個2後, 眾數是否為 [3]'''\n",
    "        self.assertEqual(self.stats.mode(), [2,3])\n",
    "        self.stats.remove(2)\n",
    "        self.assertEqual(self.stats.mode(), [3])\n",
    "\n",
    "if __name__ == \"__main__\":\n",
    "    unittest.main()\n",
    "```"
   ]
  },
  {
   "cell_type": "code",
   "execution_count": 3,
   "metadata": {},
   "outputs": [
    {
     "name": "stderr",
     "output_type": "stream",
     "text": [
      "...\n",
      "----------------------------------------------------------------------\n",
      "Ran 3 tests in 0.000s\n",
      "\n",
      "OK\n"
     ]
    }
   ],
   "source": [
    "! python unittest_sample4.py"
   ]
  },
  {
   "cell_type": "markdown",
   "metadata": {},
   "source": [
    "三個方法全部測試通過  \n",
    "可以發現每次在測試方法時  \n",
    "程式都會自動呼叫 `setUp`  \n",
    "確保測試類別是以乾淨的狀態啟動  \n",
    "例如測試 median 時增加了一個 4 進去  \n",
    "卻不影響後面測試 mode"
   ]
  },
  {
   "cell_type": "markdown",
   "metadata": {},
   "source": [
    "## 組織與執行測試\n",
    "單元測試很快就會擴展開來  \n",
    "要一次載入並測完全部會變得很複雜  \n",
    "python 的 discover 模組可根據當前目錄與子目錄中查詢是否有任何 py 檔案名稱以 test 開頭  \n",
    "如果這些檔案內有 TestCase 物件  \n",
    "該測試會被執行\n",
    "確保檔案名稱命名為 test_\\<something\\>.py  \n",
    "然後執行 `python -m unittest discover`"
   ]
  },
  {
   "cell_type": "markdown",
   "metadata": {},
   "source": [
    "## 忽略測試失敗\n",
    "有時候已知測試會失敗  \n",
    "但不想要程式報告此失敗  \n",
    "Python 提供幾個裝飾器來標示測試預期會失敗或在已知條件下略過  \n",
    "裝飾器包括:  \n",
    "* expectedFailure()  失敗時不要紀錄\n",
    "* skip(reason)  不執行測試，並描述為何要略過測試\n",
    "* skipIf(condition, reason)  \n",
    "* skipUnless(condition, reason) \n",
    "    \n",
    "```\n",
    "import unittest\n",
    "import sys\n",
    "\n",
    "class SkipTests(unittest.TestCase):\n",
    "    @unittest.expectedFailure\n",
    "    def test_fails(self):\n",
    "        self.assertEqual(False, True)\n",
    "    \n",
    "    @unittest.skip('Test is useless')\n",
    "    def test_skip(self):\n",
    "        self.assertEqual(False, True)\n",
    "    \n",
    "    @unittest.skipIf(sys.version_info.minor == 4, 'broken on 3.7')\n",
    "    def test_skipif(self):\n",
    "        self.assertEqual(False, True)\n",
    "    \n",
    "    @unittest.skipUnless(sys.platform.startswith('linux'), 'broken unless on linux')\n",
    "    def test_skipunless(self):\n",
    "        self.assertEqual(False, True)\n",
    "\n",
    "if __name__ == '__main__':\n",
    "    unittest.main()\n",
    "```"
   ]
  },
  {
   "cell_type": "code",
   "execution_count": 4,
   "metadata": {},
   "outputs": [
    {
     "name": "stderr",
     "output_type": "stream",
     "text": [
      "xsFs\n",
      "======================================================================\n",
      "FAIL: test_skipif (__main__.SkipTests)\n",
      "----------------------------------------------------------------------\n",
      "Traceback (most recent call last):\n",
      "  File \"unittest_sample5.py\", line 15, in test_skipif\n",
      "    self.assertEqual(False, True)\n",
      "AssertionError: False != True\n",
      "\n",
      "----------------------------------------------------------------------\n",
      "Ran 4 tests in 0.000s\n",
      "\n",
      "FAILED (failures=1, skipped=2, expected failures=1)\n"
     ]
    }
   ],
   "source": [
    "! python unittest_sample5.py"
   ]
  },
  {
   "cell_type": "markdown",
   "metadata": {},
   "source": [
    "第一個 x 回報失敗，但是是預期中的失敗  \n",
    "第二個不執行  \n",
    "第三個 我使用的 python 為 3.7， 7 != 4， 因此跳過的條件不成立，執行後回報測試失敗  \n",
    "第四個我的機器不為linux所以跳過"
   ]
  },
  {
   "cell_type": "markdown",
   "metadata": {},
   "source": [
    "# py.test測試\n",
    "---\n",
    "py.test 與 unittest 有不同的布局  \n",
    "他不需要將測試案例做成類別  \n",
    "相反的  \n",
    "他利用 Python 函式是物件的特性  \n",
    "讓任何是當命名的函式行為如同測試  \n",
    "相較於提供一堆自訂方法來測評  \n",
    "他使用 assert 陳述來驗證節果  \n",
    "這讓測試更容易閱讀和維護  \n",
    "執行 py.test 時\n",
    "會在當前目錄啟動並搜尋在該目錄或子目錄下任何以 test_ 字元開頭的 py 檔  \n",
    "如果此檔案中的任何函式名稱也以 test 開頭  \n",
    "他們會被當作個別測試來執行  \n",
    "如果檔案中有任何名稱以 Test 開頭的類別  \n",
    "該類別中 test_ 字元開頭的方法也會被執行  "
   ]
  },
  {
   "cell_type": "code",
   "execution_count": 1,
   "metadata": {},
   "outputs": [
    {
     "name": "stdout",
     "output_type": "stream",
     "text": [
      "Collecting pytest\n",
      "  Downloading pytest-6.2.5-py3-none-any.whl (280 kB)\n",
      "Collecting py>=1.8.2\n",
      "  Downloading py-1.10.0-py2.py3-none-any.whl (97 kB)\n",
      "Collecting iniconfig\n",
      "  Downloading iniconfig-1.1.1-py2.py3-none-any.whl (5.0 kB)\n",
      "Collecting toml\n",
      "  Downloading toml-0.10.2-py2.py3-none-any.whl (16 kB)\n",
      "Collecting pluggy<2.0,>=0.12\n",
      "  Downloading pluggy-1.0.0-py2.py3-none-any.whl (13 kB)\n",
      "Requirement already satisfied: attrs>=19.2.0 in c:\\users\\user\\pythonenv\\python3_oop\\lib\\site-packages (from pytest) (21.2.0)\n",
      "Requirement already satisfied: importlib-metadata>=0.12 in c:\\users\\user\\pythonenv\\python3_oop\\lib\\site-packages (from pytest) (4.8.1)\n",
      "Collecting atomicwrites>=1.0\n",
      "  Downloading atomicwrites-1.4.0-py2.py3-none-any.whl (6.8 kB)\n",
      "Requirement already satisfied: colorama in c:\\users\\user\\pythonenv\\python3_oop\\lib\\site-packages (from pytest) (0.4.4)\n",
      "Requirement already satisfied: packaging in c:\\users\\user\\pythonenv\\python3_oop\\lib\\site-packages (from pytest) (21.0)\n",
      "Requirement already satisfied: typing-extensions>=3.6.4 in c:\\users\\user\\pythonenv\\python3_oop\\lib\\site-packages (from importlib-metadata>=0.12->pytest) (3.10.0.2)\n",
      "Requirement already satisfied: zipp>=0.5 in c:\\users\\user\\pythonenv\\python3_oop\\lib\\site-packages (from importlib-metadata>=0.12->pytest) (3.5.0)\n",
      "Requirement already satisfied: pyparsing>=2.0.2 in c:\\users\\user\\pythonenv\\python3_oop\\lib\\site-packages (from packaging->pytest) (2.4.7)\n",
      "Installing collected packages: toml, py, pluggy, iniconfig, atomicwrites, pytest\n",
      "Successfully installed atomicwrites-1.4.0 iniconfig-1.1.1 pluggy-1.0.0 py-1.10.0 pytest-6.2.5 toml-0.10.2\n"
     ]
    },
    {
     "name": "stderr",
     "output_type": "stream",
     "text": [
      "WARNING: You are using pip version 21.2.3; however, version 21.3.1 is available.\n",
      "You should consider upgrading via the 'C:\\Users\\user\\pythonenv\\python3_oop\\Scripts\\python.exe -m pip install --upgrade pip' command.\n"
     ]
    }
   ],
   "source": [
    "! pip install pytest"
   ]
  },
  {
   "cell_type": "markdown",
   "metadata": {},
   "source": [
    "test_pytest1.py\n",
    "  \n",
    "```\n",
    "def test_int_float():\n",
    "    assert 1 == 1.0\n",
    "```\n",
    "  \n",
    "test_pytest2.py\n",
    "  \n",
    "```\n",
    "class TestNumbers:\n",
    "    def test_int_float(self):\n",
    "        assert 1 == 1.0\n",
    "    def test_int_str(self):\n",
    "        assert 1 == '1'\n",
    "```"
   ]
  },
  {
   "cell_type": "code",
   "execution_count": 3,
   "metadata": {},
   "outputs": [
    {
     "name": "stdout",
     "output_type": "stream",
     "text": [
      "============================= test session starts =============================\n",
      "platform win32 -- Python 3.7.9, pytest-6.2.5, py-1.10.0, pluggy-1.0.0\n",
      "rootdir: d:\\94. Python\\Python3OOP_Second_Edition\\Ch12 測試物件導向程式\n",
      "collected 3 items\n",
      "\n",
      "test_pytest1.py .                                                        [ 33%]\n",
      "test_pytest2.py .F                                                       [100%]\n",
      "\n",
      "================================== FAILURES ===================================\n",
      "__________________________ TestNumbers.test_int_str ___________________________\n",
      "\n",
      "self = <test_pytest2.TestNumbers object at 0x0000028312345188>\n",
      "\n",
      "    def test_int_str(self):\n",
      ">       assert 1 == '1'\n",
      "E       AssertionError: assert 1 == '1'\n",
      "\n",
      "test_pytest2.py:5: AssertionError\n",
      "=========================== short test summary info ===========================\n",
      "FAILED test_pytest2.py::TestNumbers::test_int_str - AssertionError: assert 1 ...\n",
      "========================= 1 failed, 2 passed in 1.05s =========================\n"
     ]
    }
   ],
   "source": [
    "! py.test"
   ]
  },
  {
   "cell_type": "markdown",
   "metadata": {},
   "source": [
    "可以發現  \n",
    "第一個 test_pytest1.py 測試通過  \n",
    "第二個 test_pytest2.py 一個通過一個沒過"
   ]
  },
  {
   "cell_type": "markdown",
   "metadata": {},
   "source": [
    "## 執行設置與清理的一種方式\n",
    "py.test支援類似 unittest 的設置與分解方法  \n",
    "但前者更具彈性  \n",
    "如果我們撰寫以類別為基礎的測試  \n",
    "可以使用稱為 setup_method 與 teardown_method 方法  \n",
    "他們在類別中測試方法前後呼叫以執行設置與清理任務  \n",
    "與 unittest 一點不同的是  \n",
    "這兩個方法都接受一個參數：代表被呼叫方法的函式物件  \n",
    "  \n",
    "此外  \n",
    "py.test 提供其他設置與分解方法函式來讓我們更能控制設置與清理程式的時機  \n",
    "setup_class 與 teardown_class 方法預期為類別方法  \n",
    "接受要處理的類別的單一參數(不含self)  \n",
    "  \n",
    "最後  \n",
    "我們有 setup_module 與 teardown_module  \n",
    "他們在該模組測試前後執行  \n",
    "這些〝一次性〞的設置很有用  \n",
    "像是建構會用於模組中所有測試 socket 或資料庫連結等等  \n",
    "要小心這個  \n",
    "如果物件儲存了狀態  \n",
    "會意外的在測試間引入相依性  "
   ]
  },
  {
   "cell_type": "markdown",
   "metadata": {},
   "source": [
    "```\n",
    "def setup_module(module):\n",
    "    print(f\"setting up MODULE {module.__name__}\")\n",
    "\n",
    "def teardown_module(module):\n",
    "    print(f\"tearing down MODULE {module.__name__}\")\n",
    "\n",
    "def test_a_function():\n",
    "    print(\"Running Test Function\")\n",
    "\n",
    "class BaseTest:\n",
    "    def setup_class(cls):\n",
    "        print(f\"setting up CLASS {cls.__name__}\")\n",
    "    \n",
    "    def teardown_class(cls):\n",
    "        print(f\"tearing down CLASS {cls.__name__}\\n\")\n",
    "    \n",
    "    def setup_method(self, method):\n",
    "        print(f\"setting up METHOD {method.__name__}\")\n",
    "    \n",
    "    def teardown_method(self, method):\n",
    "        print(f\"tearing down METHOD {method.__name__}\")\n",
    "\n",
    "class TestClass1(BaseTest):\n",
    "    def test_method_1(self):\n",
    "        print(\"Running METHOD 1-1\")\n",
    "    \n",
    "    def test_method_2(self):\n",
    "        print(\"Running METHOD 1-2\")\n",
    "\n",
    "class TestClass2(BaseTest):\n",
    "    def test_method_1(self):\n",
    "        print(\"Running METHOD 2-1\")\n",
    "    \n",
    "    def test_method_2(self):\n",
    "        print(\"Running METHOD 2-2\")\n",
    "```"
   ]
  },
  {
   "cell_type": "markdown",
   "metadata": {},
   "source": [
    "BaseTest類別唯一目的是擷取四個方法  \n",
    "並使用繼承減少重複的程式碼  \n",
    "從 py.test 角度來看  \n",
    "這兩個子類別不只兩個測試方法  \n",
    "還有兩個設置與兩個分解(一個在類別階層、一個在方法階層)"
   ]
  },
  {
   "cell_type": "code",
   "execution_count": 5,
   "metadata": {},
   "outputs": [
    {
     "name": "stdout",
     "output_type": "stream",
     "text": [
      "============================= test session starts =============================\n",
      "platform win32 -- Python 3.7.9, pytest-6.2.5, py-1.10.0, pluggy-1.0.0\n",
      "rootdir: d:\\94. Python\\Python3OOP_Second_Edition\\Ch12 測試物件導向程式\n",
      "collected 5 items\n",
      "\n",
      "setup_teardown.py \n",
      "setting up MODULE setup_teardown\n",
      "Running Test Function\n",
      ".setting up CLASS TestClass1\n",
      "setting up METHOD test_method_1\n",
      "Running METHOD 1-1\n",
      ".tearing down METHOD test_method_1\n",
      "setting up METHOD test_method_2\n",
      "Running METHOD 1-2\n",
      ".tearing down METHOD test_method_2\n",
      "tearing down CLASS TestClass1\n",
      "\n",
      "setting up CLASS TestClass2\n",
      "setting up METHOD test_method_1\n",
      "Running METHOD 2-1\n",
      ".tearing down METHOD test_method_1\n",
      "setting up METHOD test_method_2\n",
      "Running METHOD 2-2\n",
      ".tearing down METHOD test_method_2\n",
      "tearing down CLASS TestClass2\n",
      "\n",
      "tearing down MODULE setup_teardown\n",
      "\n",
      "\n",
      "============================== 5 passed in 0.06s ==============================\n"
     ]
    }
   ],
   "source": [
    "! py.test setup_teardown.py -s"
   ]
  },
  {
   "cell_type": "markdown",
   "metadata": {},
   "source": [
    "模組的設置與分解方法在階段前後執行  \n",
    "然後模組層級的測試函式執行  \n",
    "接下來  \n",
    "第一個類別設置方法執行  \n",
    "接著是該類別的兩個測試  \n",
    "這些測試都包裝在 setup_method 與 teardown_method 呼叫中  \n",
    "在所有測試執行後  \n",
    "類別的分解方法被呼叫  \n",
    "同樣的順序發生在第二類別  "
   ]
  },
  {
   "cell_type": "markdown",
   "metadata": {},
   "source": [
    "## 完全不同的設置變數方式\n"
   ]
  }
 ],
 "metadata": {
  "interpreter": {
   "hash": "45539b59eebab2005aa4fedb9a515f3794869189fd737dea53041ed0fca9d17e"
  },
  "kernelspec": {
   "display_name": "Python 3.7.9 64-bit ('python3_oop': venv)",
   "name": "python3"
  },
  "language_info": {
   "codemirror_mode": {
    "name": "ipython",
    "version": 3
   },
   "file_extension": ".py",
   "mimetype": "text/x-python",
   "name": "python",
   "nbconvert_exporter": "python",
   "pygments_lexer": "ipython3",
   "version": "3.7.9"
  },
  "orig_nbformat": 4
 },
 "nbformat": 4,
 "nbformat_minor": 2
}
