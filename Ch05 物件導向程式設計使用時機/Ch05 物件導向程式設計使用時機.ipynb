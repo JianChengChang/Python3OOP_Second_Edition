{
 "cells": [
  {
   "cell_type": "markdown",
   "source": [
    "這一章會討論一些有用的應用程式知識和一些新的主題  \r\n",
    "* 如何組織物件\r\n",
    "* 再一次討論資料與行為\r\n",
    "* 以屬性將資料包裝在行為中\r\n",
    "* 以行為限制資料\r\n",
    "* 不重複原則\r\n",
    "* 辨識重複程式"
   ],
   "metadata": {}
  },
  {
   "cell_type": "markdown",
   "source": [
    "# 視物件為物件\r\n",
    "---\r\n",
    "辨識出物件非常重要  \r\n",
    "物件是有資料與行為的一個東西  \r\n",
    "  \r\n",
    "如果我們只操控資料，通常以清單、組、字典或其他資料結構儲存  \r\n",
    "如果只有行為但不存資料，簡單的函式更為適合  \r\n",
    "  \r\n",
    "隨著程式擴展  \r\n",
    "才考慮將變數和函式組成類別物件  "
   ],
   "metadata": {}
  },
  {
   "cell_type": "code",
   "execution_count": null,
   "source": [
    "square = [(1,1), (1,2), (2,2), (2,1)]\r\n",
    "\r\n",
    "import math\r\n",
    "\r\n",
    "def distance(p1,p2):\r\n",
    "    return math.sqrt((p1[0]-p2[0])**2 + (p1[1]-p2[1])**2)\r\n",
    "\r\n",
    "def perimeter(polygon):\r\n",
    "    perimeter = 0\r\n",
    "    points = polygon + [polygon[0]]\r\n",
    "    for i in range(len(polygon)):\r\n",
    "        perimeter += distance(points[i],points[i+1])\r\n",
    "    return perimeter"
   ],
   "outputs": [],
   "metadata": {}
  },
  {
   "cell_type": "markdown",
   "source": [
    "若以物件導向去改寫上述例子  \r\n",
    "將會分成 Point 與 Polygon 兩個類別  \r\n",
    "Point儲存座標與計算兩點距離  \r\n",
    "Polygon儲存多個座標與計算周長"
   ],
   "metadata": {}
  },
  {
   "cell_type": "code",
   "execution_count": null,
   "source": [
    "import math\r\n",
    "\r\n",
    "class Point:\r\n",
    "    def __init__(self, x, y) -> None:\r\n",
    "        self.x = x\r\n",
    "        self.y = y\r\n",
    "\r\n",
    "    def distance(self, p2):\r\n",
    "        return math.sqrt((self.x - p2.x)**2 + (self.y - p2.y)**2)\r\n",
    "\r\n",
    "class Polygon:\r\n",
    "    def __init__(self) -> None:\r\n",
    "        self.vertices = []\r\n",
    "    \r\n",
    "    def add_point(self, point):\r\n",
    "        self.vertices.append(point)\r\n",
    "    \r\n",
    "    def perimeter(self):\r\n",
    "        perimeter = 0\r\n",
    "        points = self.vertices + [self.vertices[0]]\r\n",
    "        for i in range(len(self.vertices)):\r\n",
    "            perimeter += points[i].distance(points[i+1])\r\n",
    "        return perimeter"
   ],
   "outputs": [],
   "metadata": {}
  },
  {
   "cell_type": "markdown",
   "source": [
    "這版程式改寫後  \r\n",
    "比原本的要多出兩倍長度  \r\n",
    "但在使用上或是程式碼的解讀上  \r\n",
    "改寫後的程式可讀性比起改寫前清楚很多  \r\n",
    "也不用動用到 雙維度的 List  \r\n",
    "  \r\n",
    "程式長度不是程式複雜性的好指標  \r\n",
    "一行程式做出複雜的巨量工作  \r\n",
    "或許是有趣的練習  \r\n",
    "但程式碼卻難以閱讀  \r\n",
    "說不定過幾天後就看不懂了  \r\n",
    "不要盲目地減少程式碼  \r\n",
    "\r\n",
    "> 不要因為會使用物件就急著使用物件  \r\n",
    "> **但千萬別在需要物件時省略物件**"
   ],
   "metadata": {}
  },
  {
   "cell_type": "markdown",
   "source": [
    "# 對物件資料加上行為屬性\r\n",
    "---\r\n",
    "變數名稱前面加一個底線代表此變數是私用的(單底線Python看起來沒有強制，雙底線才有，但還是有方法可以不透過額外撰寫def呼叫出來)  \r\n",
    "然後額外提供方法來存取變數  "
   ],
   "metadata": {}
  },
  {
   "cell_type": "code",
   "execution_count": null,
   "source": [
    "class Color:\r\n",
    "    def __init__(self, rgb_value, name) -> None:\r\n",
    "        self._rgb_value = rgb_value\r\n",
    "        self._name = name\r\n",
    "    \r\n",
    "    def set_name(self, name):\r\n",
    "        self._name = name\r\n",
    "    \r\n",
    "    def get_name(self):\r\n",
    "        return self._name\r\n",
    "\r\n",
    "c = Color('#ff0000', \"bright red\")\r\n",
    "print(c._name)\r\n",
    "print(c.get_name())\r\n",
    "c.set_name(\"red\")\r\n",
    "print(c.get_name())"
   ],
   "outputs": [],
   "metadata": {}
  },
  {
   "cell_type": "markdown",
   "source": [
    "與直接存取的Python風格差很多"
   ],
   "metadata": {}
  },
  {
   "cell_type": "code",
   "execution_count": null,
   "source": [
    "class Color_Py:\r\n",
    "    def __init__(self, rgb_value, name) -> None:\r\n",
    "        self.rgb_value = rgb_value\r\n",
    "        self.name = name\r\n",
    "\r\n",
    "c = Color_Py(0xff0000, \"bright red\")\r\n",
    "print(c.name)\r\n",
    "c.name = \"red\"\r\n",
    "print(c.name)"
   ],
   "outputs": [],
   "metadata": {}
  },
  {
   "cell_type": "markdown",
   "source": [
    "為何程式設計師會想要前述的寫法呢?    \r\n",
    "或許是因為在程式設計中  \r\n",
    "想設計一個「得到」和「設置」的按鈕來對應方法吧  \r\n",
    "  \r\n",
    "接下來我們將 Color 物件修改一下  \r\n",
    "避免使用者傳入空值\r\n",
    "接著增加 property 關鍵字  \r\n",
    "讓方法看起來像是個「屬性」"
   ],
   "metadata": {}
  },
  {
   "cell_type": "code",
   "execution_count": null,
   "source": [
    "class Color_V:\r\n",
    "    def __init__(self, rgb_value: int, name: str) -> None:\r\n",
    "        self._rgb_value = rgb_value\r\n",
    "        if not name:\r\n",
    "            raise ValueError(f\"Invalid name {name!r}\")\r\n",
    "        self._name = name\r\n",
    "\r\n",
    "    def _set_name(self, name: str) -> None:\r\n",
    "        if not name:\r\n",
    "            raise ValueError(f\"Invalid name {name!r}\")\r\n",
    "        self._name = name\r\n",
    "    \r\n",
    "    def _get_name(self) -> str:\r\n",
    "        return self._name\r\n",
    "    \r\n",
    "    name = property(_get_name, _set_name) #括弧內不能相反，會報錯"
   ],
   "outputs": [],
   "metadata": {}
  },
  {
   "cell_type": "markdown",
   "source": [
    "這樣子新版的 Color 物件  \r\n",
    "就能像大家熟悉的Python使用方式"
   ],
   "metadata": {}
  },
  {
   "cell_type": "code",
   "execution_count": null,
   "source": [
    "c = Color_V(0xff0000, \"bright red\")\r\n",
    "print(c.name)\r\n",
    "c.name = \"red\"\r\n",
    "print(c.name)\r\n",
    "c.name = \"\""
   ],
   "outputs": [],
   "metadata": {}
  },
  {
   "cell_type": "markdown",
   "source": [
    "# 屬性的細節\r\n",
    "---\r\n",
    "property建構元可接受額外兩個參數  \r\n",
    "del 和 屬性的字串描述"
   ],
   "metadata": {}
  },
  {
   "cell_type": "code",
   "execution_count": null,
   "source": [
    "class NorwegianBlue:\r\n",
    "    def __init__(self, name: str) -> None:\r\n",
    "        self._name = name\r\n",
    "        self._state: str\r\n",
    "\r\n",
    "    def _get_state(self) -> str:\r\n",
    "        print(f\"Getting {self._name}'s State\")\r\n",
    "        return self._state\r\n",
    "\r\n",
    "    def _set_state(self, state: str) -> None:\r\n",
    "        print(f\"Setting {self._name}'s State to {state!r}\")\r\n",
    "        self._state = state\r\n",
    "        \r\n",
    "    def _del_state(self) -> None:\r\n",
    "        print(f\"{self._name} is pushing up daisies!\")\r\n",
    "        del self._state\r\n",
    "\r\n",
    "    silly = property(_get_state, _set_state, _del_state,\"This is a silly property\")"
   ],
   "outputs": [],
   "metadata": {}
  },
  {
   "cell_type": "code",
   "execution_count": null,
   "source": [
    "p = NorwegianBlue(\"Polly\")\r\n",
    "p.silly = \"Pining for the fjords\"\r\n",
    "p.silly\r\n"
   ],
   "outputs": [],
   "metadata": {}
  },
  {
   "cell_type": "code",
   "execution_count": null,
   "source": [
    "del p.silly"
   ],
   "outputs": [],
   "metadata": {}
  },
  {
   "cell_type": "markdown",
   "source": [
    "這邊注意到方法都是 _get_state, _set_state...  \r\n",
    "但在物件後面卻都是接 property 指定的 silly 去執行  \r\n",
    "這也是為什麼 Python 裡有些東西不用加括號就能產生回饋  "
   ],
   "metadata": {}
  },
  {
   "cell_type": "markdown",
   "source": [
    "# 修飾詞、裝飾器 - 建構屬性的另一個方法\r\n",
    "---\r\n",
    "利用 Python 的裝飾器  \r\n",
    "可以讓整個程式變得更易讀  \r\n"
   ],
   "metadata": {}
  },
  {
   "cell_type": "code",
   "execution_count": null,
   "source": [
    "class NorwegianBlue_P:\r\n",
    "    def __init__(self, name: str) -> None:\r\n",
    "        self._name = name\r\n",
    "        self._state: str\r\n",
    "        \r\n",
    "    @property\r\n",
    "    def silly(self) -> str:\r\n",
    "        print(f\"Getting {self._name}'s State\")\r\n",
    "        return self._state"
   ],
   "outputs": [],
   "metadata": {}
  },
  {
   "cell_type": "markdown",
   "source": [
    "上方的程式我們看到方法從 _get_state 變成 silly  \r\n",
    "並且在他上方加上一個 @property   "
   ],
   "metadata": {}
  },
  {
   "cell_type": "code",
   "execution_count": null,
   "source": [
    "class NorwegianBlue_P:\r\n",
    "    def __init__(self, name: str, state) -> None:\r\n",
    "        self._name = name\r\n",
    "        self._state = state\r\n",
    "\r\n",
    "    @property\r\n",
    "    def silly(self) -> str:\r\n",
    "        \"\"\"This is a silly property\"\"\"\r\n",
    "        print(f\"Getting {self._name}'s State\")\r\n",
    "        return self._state\r\n",
    "        "
   ],
   "outputs": [],
   "metadata": {}
  },
  {
   "cell_type": "code",
   "execution_count": null,
   "source": [
    "p = NorwegianBlue_P(\"Polly\", \"Pining for the fjords\")\r\n",
    "p.silly"
   ],
   "outputs": [],
   "metadata": {}
  },
  {
   "cell_type": "markdown",
   "source": [
    "此方法變成了一個 get 函式  \r\n",
    "我們繼續為此物件加上 set 和 del   \r\n",
    "並且把 self._state 改為 : str  \r\n",
    "讓 _state 用 setting 的方式帶進去"
   ],
   "metadata": {}
  },
  {
   "cell_type": "code",
   "execution_count": null,
   "source": [
    "class NorwegianBlue_P:\r\n",
    "    def __init__(self, name: str) -> None:\r\n",
    "        self._name = name\r\n",
    "        self._state: str\r\n",
    "\r\n",
    "    @property\r\n",
    "    def silly(self) -> str:\r\n",
    "        \"\"\"This is a silly property\"\"\"\r\n",
    "        print(f\"Getting {self._name}'s State\")\r\n",
    "        return self._state\r\n",
    "\r\n",
    "    @silly.setter\r\n",
    "    def silly(self, state: str) -> None:\r\n",
    "        print(f\"Setting {self._name}'s State to {state!r}\")\r\n",
    "        self._state = state\r\n",
    "\r\n",
    "    @silly.deleter\r\n",
    "    def silly(self) -> None:\r\n",
    "        print(f\"{self._name} is pushing up daisies!\")\r\n",
    "        del self._state"
   ],
   "outputs": [],
   "metadata": {}
  },
  {
   "cell_type": "markdown",
   "source": [
    "注意到 setter 和 deleter 的用法  \r\n",
    "方法名稱也全部都是 silly  \r\n",
    "而裝飾器是 @方法.setter 和 @方法.deleter  "
   ],
   "metadata": {}
  },
  {
   "cell_type": "code",
   "execution_count": null,
   "source": [
    "p = NorwegianBlue_P(\"Polly\")\r\n",
    "p.silly = \"Pining for the fjords\"\r\n",
    "p.silly"
   ],
   "outputs": [],
   "metadata": {}
  },
  {
   "cell_type": "code",
   "execution_count": null,
   "source": [
    "del p.silly"
   ],
   "outputs": [],
   "metadata": {}
  },
  {
   "cell_type": "markdown",
   "source": [
    "# 決定何時使用屬性\r\n",
    "---\r\n",
    "Attribute、Method、Property 都是 Class 的特徵  \r\n",
    "https://www.learncodewithmike.com/2020/01/python-attribute.html (這篇有詳細介紹)  \r\n",
    "方法是個可以被呼叫的特徵，通常代表動作\r\n",
    "確定不是動作後  \r\n",
    "就決定是要設為標準資料 或 屬性(Attribute or Property)  "
   ],
   "metadata": {}
  },
  {
   "cell_type": "code",
   "execution_count": null,
   "source": [
    "from urllib.request import urlopen\r\n",
    "\r\n",
    "class WebPage:\r\n",
    "    def __init__(self, url) -> None:\r\n",
    "        self.url = url\r\n",
    "        self._content = None\r\n",
    "    \r\n",
    "    @property\r\n",
    "    def content(self):\r\n",
    "        if not self._content:\r\n",
    "            print(\"Retrieving New Page...\")\r\n",
    "            with urlopen(self.url) as response:\r\n",
    "                self._content = response.read()\r\n",
    "        return self._content"
   ],
   "outputs": [],
   "metadata": {}
  },
  {
   "cell_type": "code",
   "execution_count": null,
   "source": [
    "import time\r\n",
    "webpage = WebPage(\"http://ccphillips.net\")\r\n",
    "now = time.time()\r\n",
    "content1 = webpage.content\r\n"
   ],
   "outputs": [],
   "metadata": {}
  },
  {
   "cell_type": "code",
   "execution_count": null,
   "source": [
    "time.time()-now"
   ],
   "outputs": [],
   "metadata": {}
  },
  {
   "cell_type": "code",
   "execution_count": null,
   "source": [
    "now = time.time()\r\n",
    "content2 = webpage.content\r\n",
    "time.time()-now"
   ],
   "outputs": [],
   "metadata": {}
  },
  {
   "cell_type": "code",
   "execution_count": null,
   "source": [
    "content1 == content2"
   ],
   "outputs": [],
   "metadata": {}
  },
  {
   "cell_type": "markdown",
   "source": [
    "建立一個類別 AverageList 繼承自 list  \r\n",
    "為他加上計算平均值的方法  \r\n",
    "我們可以用 @property 為方法建立屬性  \r\n",
    "也可以另外建一個方法叫做 calculate_average  "
   ],
   "metadata": {}
  },
  {
   "cell_type": "code",
   "execution_count": null,
   "source": [
    "class AverageList(list):\r\n",
    "    @property\r\n",
    "    def average(self):\r\n",
    "        return sum(self)/len(self)\r\n",
    "    \r\n",
    "    def calculate_average(self):\r\n",
    "        return sum(self)/len(self)"
   ],
   "outputs": [],
   "metadata": {}
  },
  {
   "cell_type": "code",
   "execution_count": null,
   "source": [
    "a = AverageList([1,2,3,4])\r\n",
    "print(a.average)\r\n",
    "print(a.calculate_average())"
   ],
   "outputs": [],
   "metadata": {}
  },
  {
   "cell_type": "markdown",
   "source": [
    "這兩個方法的差別就在於使用時需不需要加括號  "
   ],
   "metadata": {}
  },
  {
   "cell_type": "markdown",
   "source": [
    "# 管理員物件\r\n",
    "---\r\n",
    "現在來設計一個高階物件：用來管理其他物件的物件，此物件將所有東西綁在一起  \r\n",
    "管理物件的屬性傾向參考其他執行〝可見〞工作的物件  \r\n",
    "這種物件的行為是在正確時間委任任務給其他物件，並在物件之間傳遞訊息  \r\n",
    "  \r\n",
    "我們撰寫一個找尋與替代儲存於壓縮ZIP檔案中的文字檔案作範例  \r\n",
    "我們需要一個物件代表 ZIP 檔\r\n",
    "一個物件代表文字檔案  \r\n",
    "管理物件要確保以下事情發生  \r\n",
    "1. 解開壓縮檔\r\n",
    "2. 執行找尋與替代動作\r\n",
    "3. 壓縮到新檔案中"
   ],
   "metadata": {}
  },
  {
   "cell_type": "code",
   "execution_count": null,
   "source": [
    "import sys\r\n",
    "import shutil\r\n",
    "import zipfile\r\n",
    "from pathlib import Path\r\n",
    "\r\n",
    "class ZipReplace:\r\n",
    "    def __init__(self, filename, search_string, replace_string) -> None:\r\n",
    "        self.filename = filename\r\n",
    "        self.search_string = search_string\r\n",
    "        self.replace_string = replace_string\r\n",
    "        self.temp_directory = Path(f\"unzipped-{filename}\")"
   ],
   "outputs": [],
   "metadata": {}
  },
  {
   "cell_type": "markdown",
   "source": [
    "之後我們可以對這三個步驟建構〝管理員〞方法  \r\n",
    "此管理員方法將責任委派給其他方法，並依序執行  \r\n",
    "或  \r\n",
    "乾脆不要建立這個方法\r\n",
    "  \r\n",
    "拆分成三個步驟的好處是\r\n",
    "* 可讀性：每個步驟自成一個單元更好閱讀\r\n",
    "* 可擴充性：容易擴充，不用複製其他較無相關的方法\r\n",
    "* 分割：外部類別可以建構這個類別的實例並直接呼叫"
   ],
   "metadata": {}
  },
  {
   "cell_type": "code",
   "execution_count": 8,
   "source": [
    "import sys\r\n",
    "import shutil\r\n",
    "import zipfile\r\n",
    "from pathlib import Path\r\n",
    "\r\n",
    "class ZipReplace:\r\n",
    "    def __init__(self, filename, search_string, replace_string) -> None:\r\n",
    "        self.filename = filename\r\n",
    "        self.search_string = search_string\r\n",
    "        self.replace_string = replace_string\r\n",
    "        self.temp_directory = Path(f\"unzipped-{filename}\")\r\n",
    "    \r\n",
    "    def zip_find_replace(self):\r\n",
    "        '''管理員方法，依序執行下面方法'''\r\n",
    "        self.unzip_files()\r\n",
    "        self.find_replace()\r\n",
    "        self.zip_files()\r\n",
    "    \r\n",
    "    def unzip_files(self):\r\n",
    "        '''\r\n",
    "        建立一個暫存資料夾\r\n",
    "        將檔案解壓縮到裡面\r\n",
    "        '''\r\n",
    "        self.temp_directory.mkdir()\r\n",
    "        with zipfile.ZipFile(self.filename) as zip:\r\n",
    "            zip.extractall(str(self.temp_directory))\r\n",
    "    \r\n",
    "\r\n",
    "    def find_replace(self):\r\n",
    "        '''\r\n",
    "        到暫存資料夾中開啟每一個檔\r\n",
    "        讀取文中的內文\r\n",
    "        並把每一個 search_string 換成 replace_string\r\n",
    "        寫回文件\r\n",
    "        '''\r\n",
    "        for filename in self.temp_directory.iterdir():\r\n",
    "            with filename.open() as file:\r\n",
    "                contents = file.read()\r\n",
    "            contents = contents.replace(self.search_string, self.replace_string)\r\n",
    "            with filename.open('w') as file:\r\n",
    "                file.write(contents)\r\n",
    "        \r\n",
    "    def zip_files(self):\r\n",
    "        '''\r\n",
    "        將暫存資料夾內的檔案寫進壓縮檔\r\n",
    "        並刪除暫存資料夾\r\n",
    "        '''\r\n",
    "        with zipfile.ZipFile(self.filename, 'w') as file:\r\n",
    "            for filename in self.temp_directory.iterdir():\r\n",
    "                file.write(str(filename), filename.name)\r\n",
    "        shutil.rmtree(str(self.temp_directory))\r\n",
    "\r\n",
    "# if __name__ == \"__main__\":\r\n",
    "#     ZipReplace(*sys.argv[1:4]).zip_find_replace()"
   ],
   "outputs": [],
   "metadata": {}
  },
  {
   "cell_type": "code",
   "execution_count": 9,
   "source": [
    "!python zipsearch.py hello.zip hello hi"
   ],
   "outputs": [],
   "metadata": {}
  },
  {
   "cell_type": "markdown",
   "source": [
    "# 移除重複的程式\r\n",
    "---\r\n",
    "為何重複的程式碼不好 ?  \r\n",
    "大部分都與可讀性與維護性有關  \r\n",
    "只要有人必須閱讀或理解此程式，而且在遇到重複的區塊時  \r\n",
    "就要去理解這段程式與剛剛那一段有何不同，有何相同，在什麼情況下要呼叫哪一段  \r\n",
    "就算只有自己是唯一讀者  \r\n",
    "經過長時間後  \r\n",
    "看起來也會像是別人寫的程式  \r\n",
    "  \r\n",
    "在維護上更是一種折磨  \r\n",
    "要是只有維護到一段  \r\n",
    "另一段沒維護到  \r\n",
    "很容易出現煩人的錯誤  \r\n",
    "  \r\n",
    "導致的結果就是  \r\n",
    "閱讀和修改程式的人  \r\n",
    "比一開始就規劃不重複寫還要花更多時間  \r\n",
    "\r\n",
    "試著不要重複自己吧  \r\n",
    "遵循 Python 優雅的原則"
   ],
   "metadata": {}
  },
  {
   "cell_type": "markdown",
   "source": [
    "# 實務\r\n",
    "---\r\n",
    "剛剛撰寫了取代 zip 中的文件部分字串在壓縮的小程式  \r\n",
    "現在我們收到了要將圖片放大成 640 X 480 的要求  \r\n",
    "順便想讓程式也能開啟 tar 檔時  \r\n",
    "我們該怎麼修改呢?\r\n",
    "\r\n",
    "我們嘗試用繼承來改  \r\n",
    "先將原有的 ZipReplace 修改成通用的超類別"
   ],
   "metadata": {}
  },
  {
   "cell_type": "code",
   "execution_count": 3,
   "source": [
    "import os\r\n",
    "import shutil\r\n",
    "import zipfile\r\n",
    "from pathlib import Path\r\n",
    "\r\n",
    "class ZipProcessor:\r\n",
    "    def __init__(self, zipname) -> None:\r\n",
    "        self.zipname = zipname\r\n",
    "        self.temp_directory = Path(f'unzipped-{zipname[:-4]}')\r\n",
    "    \r\n",
    "    def process_zip(self):\r\n",
    "        self.unzip_files()\r\n",
    "        self.process_files()\r\n",
    "        self.zip_files()\r\n",
    "\r\n",
    "    def unzip_files(self):\r\n",
    "        if not os.path.exists(self.temp_directory):\r\n",
    "            self.temp_directory.mkdir()\r\n",
    "            with zipfile.ZipFile(self.zipname) as zip:\r\n",
    "                zip.extractall(str(self.temp_directory))\r\n",
    "    \r\n",
    "    def zip_files(self):\r\n",
    "        with zipfile.ZipFile(self.zipname, 'w') as file:\r\n",
    "            for filename in self.temp_directory.iterdir():\r\n",
    "                file.write(str(filename), filename.name)\r\n",
    "        shutil.rmtree(str(self.temp_directory))\r\n",
    "    \r\n",
    "    def process_files(self):\r\n",
    "        pass"
   ],
   "outputs": [],
   "metadata": {}
  },
  {
   "cell_type": "markdown",
   "source": [
    "將 filename 屬性改為 zipname 屬性避免與各種要繼承的方法中的 filename 搞混  \r\n",
    "現在來修正原先的 ZipReplace"
   ],
   "metadata": {}
  },
  {
   "cell_type": "code",
   "execution_count": 11,
   "source": [
    "class ZipReplace(ZipProcessor):\r\n",
    "    def __init__(self, filename, search_string, replace_string) -> None:\r\n",
    "        super().__init__(filename)\r\n",
    "        self.search_string = search_string\r\n",
    "        self.replace_string = replace_string\r\n",
    "    \r\n",
    "    def process_files(self):\r\n",
    "        '''對臨時目錄下的檔案執行搜尋文字與替換'''\r\n",
    "        for filename in self.temp_directory.iterdir():\r\n",
    "            with filename.open() as file:\r\n",
    "                contents = file.read()\r\n",
    "            contents = contents.replace(self.search_string, self.replace_string)\r\n",
    "            with filename.open('w') as file:\r\n",
    "                file.write(contents)"
   ],
   "outputs": [],
   "metadata": {}
  },
  {
   "cell_type": "code",
   "execution_count": 15,
   "source": [
    "!python zipsearch_v2.py hello.zip hello hi"
   ],
   "outputs": [],
   "metadata": {}
  },
  {
   "cell_type": "markdown",
   "source": [
    "現在我們更容易撰寫其他操作 ZIP 的功能  \r\n",
    "試著來做一個改變圖片大小的方法  "
   ],
   "metadata": {}
  },
  {
   "cell_type": "code",
   "execution_count": 1,
   "source": [
    "! pip install pillow"
   ],
   "outputs": [
    {
     "output_type": "stream",
     "name": "stdout",
     "text": [
      "Collecting pillow\n",
      "  Downloading Pillow-8.3.2-cp37-cp37m-win_amd64.whl (3.2 MB)\n",
      "Installing collected packages: pillow\n",
      "Successfully installed pillow-8.3.2\n"
     ]
    },
    {
     "output_type": "stream",
     "name": "stderr",
     "text": [
      "WARNING: You are using pip version 21.2.3; however, version 21.2.4 is available.\n",
      "You should consider upgrading via the 'C:\\Users\\user\\pythonenv\\python3_oop\\Scripts\\python.exe -m pip install --upgrade pip' command.\n"
     ]
    }
   ],
   "metadata": {}
  },
  {
   "cell_type": "code",
   "execution_count": 4,
   "source": [
    "import sys\r\n",
    "from PIL import Image\r\n",
    "\r\n",
    "class ScaleZip(ZipProcessor):\r\n",
    "    def process_files(self):\r\n",
    "        '''將目錄下的圖檔全部改為 640 X 480'''\r\n",
    "        for filename in self.temp_directory.iterdir():\r\n",
    "            im = Image.open(str(filename))\r\n",
    "            scaled = im.resize((640, 480))\r\n",
    "            scaled.save(str(filename))"
   ],
   "outputs": [],
   "metadata": {}
  },
  {
   "cell_type": "code",
   "execution_count": 7,
   "source": [
    "!python scalezip.py aloha.zip"
   ],
   "outputs": [],
   "metadata": {}
  },
  {
   "cell_type": "code",
   "execution_count": null,
   "source": [],
   "outputs": [],
   "metadata": {}
  }
 ],
 "metadata": {
  "language_info": {
   "name": "python",
   "version": "3.7.9",
   "mimetype": "text/x-python",
   "codemirror_mode": {
    "name": "ipython",
    "version": 3
   },
   "pygments_lexer": "ipython3",
   "nbconvert_exporter": "python",
   "file_extension": ".py"
  },
  "kernelspec": {
   "name": "python3",
   "display_name": "Python 3.7.9 64-bit ('python3_oop': venv)"
  },
  "interpreter": {
   "hash": "45539b59eebab2005aa4fedb9a515f3794869189fd737dea53041ed0fca9d17e"
  }
 },
 "nbformat": 4,
 "nbformat_minor": 5
}